{
 "cells": [
  {
   "cell_type": "markdown",
   "metadata": {},
   "source": [
    "My name is Raji Bamidele\n",
    "I live at Oloko Apata"
   ]
  },
  {
   "cell_type": "code",
   "execution_count": 13,
   "metadata": {},
   "outputs": [
    {
     "data": {
      "text/plain": [
       "False"
      ]
     },
     "execution_count": 13,
     "metadata": {},
     "output_type": "execute_result"
    }
   ],
   "source": [
    "a=1\n",
    "b=2\n",
    "a>a"
   ]
  },
  {
   "cell_type": "code",
   "execution_count": 14,
   "metadata": {},
   "outputs": [
    {
     "data": {
      "text/plain": [
       "True"
      ]
     },
     "execution_count": 14,
     "metadata": {},
     "output_type": "execute_result"
    }
   ],
   "source": [
    "b>a"
   ]
  },
  {
   "cell_type": "code",
   "execution_count": 15,
   "metadata": {},
   "outputs": [
    {
     "data": {
      "text/plain": [
       "False"
      ]
     },
     "execution_count": 15,
     "metadata": {},
     "output_type": "execute_result"
    }
   ],
   "source": [
    "a<0"
   ]
  },
  {
   "cell_type": "code",
   "execution_count": 1,
   "metadata": {},
   "outputs": [
    {
     "data": {
      "text/plain": [
       "5"
      ]
     },
     "execution_count": 1,
     "metadata": {},
     "output_type": "execute_result"
    }
   ],
   "source": [
    "x=5\n",
    "x"
   ]
  },
  {
   "cell_type": "code",
   "execution_count": 2,
   "metadata": {},
   "outputs": [
    {
     "data": {
      "text/plain": [
       "3"
      ]
     },
     "execution_count": 2,
     "metadata": {},
     "output_type": "execute_result"
    }
   ],
   "source": [
    "x-2"
   ]
  },
  {
   "cell_type": "code",
   "execution_count": 5,
   "metadata": {},
   "outputs": [
    {
     "data": {
      "text/plain": [
       "8"
      ]
     },
     "execution_count": 5,
     "metadata": {},
     "output_type": "execute_result"
    }
   ],
   "source": [
    "x+3"
   ]
  },
  {
   "cell_type": "code",
   "execution_count": 6,
   "metadata": {},
   "outputs": [
    {
     "data": {
      "text/plain": [
       "50"
      ]
     },
     "execution_count": 6,
     "metadata": {},
     "output_type": "execute_result"
    }
   ],
   "source": [
    "x=10\n",
    "x*5"
   ]
  },
  {
   "cell_type": "code",
   "execution_count": 7,
   "metadata": {},
   "outputs": [
    {
     "data": {
      "text/plain": [
       "15"
      ]
     },
     "execution_count": 7,
     "metadata": {},
     "output_type": "execute_result"
    }
   ],
   "source": [
    "x^5"
   ]
  },
  {
   "cell_type": "code",
   "execution_count": 8,
   "metadata": {},
   "outputs": [
    {
     "data": {
      "text/plain": [
       "120"
      ]
     },
     "execution_count": 8,
     "metadata": {},
     "output_type": "execute_result"
    }
   ],
   "source": [
    "y=12\n",
    "x*y"
   ]
  },
  {
   "cell_type": "code",
   "execution_count": 10,
   "metadata": {},
   "outputs": [
    {
     "data": {
      "text/plain": [
       "200"
      ]
     },
     "execution_count": 10,
     "metadata": {},
     "output_type": "execute_result"
    }
   ],
   "source": [
    "2*x**2"
   ]
  },
  {
   "cell_type": "code",
   "execution_count": 11,
   "metadata": {},
   "outputs": [
    {
     "data": {
      "text/plain": [
       "0"
      ]
     },
     "execution_count": 11,
     "metadata": {},
     "output_type": "execute_result"
    }
   ],
   "source": [
    "x%2"
   ]
  },
  {
   "cell_type": "code",
   "execution_count": 12,
   "metadata": {},
   "outputs": [
    {
     "data": {
      "text/plain": [
       "1"
      ]
     },
     "execution_count": 12,
     "metadata": {},
     "output_type": "execute_result"
    }
   ],
   "source": [
    "x%3"
   ]
  },
  {
   "cell_type": "code",
   "execution_count": 13,
   "metadata": {},
   "outputs": [
    {
     "data": {
      "text/plain": [
       "2.0"
      ]
     },
     "execution_count": 13,
     "metadata": {},
     "output_type": "execute_result"
    }
   ],
   "source": [
    "x/5"
   ]
  },
  {
   "cell_type": "code",
   "execution_count": 15,
   "metadata": {},
   "outputs": [
    {
     "data": {
      "text/plain": [
       "3"
      ]
     },
     "execution_count": 15,
     "metadata": {},
     "output_type": "execute_result"
    }
   ],
   "source": [
    "x%7"
   ]
  },
  {
   "cell_type": "code",
   "execution_count": 16,
   "metadata": {},
   "outputs": [
    {
     "data": {
      "text/plain": [
       "'(1, 2, 3)'"
      ]
     },
     "execution_count": 16,
     "metadata": {},
     "output_type": "execute_result"
    }
   ],
   "source": [
    "str((1,2,3))"
   ]
  },
  {
   "cell_type": "code",
   "execution_count": 18,
   "metadata": {},
   "outputs": [
    {
     "data": {
      "text/plain": [
       "'(1, 2, 3, 4)'"
      ]
     },
     "execution_count": 18,
     "metadata": {},
     "output_type": "execute_result"
    }
   ],
   "source": [
    "str((1,2,3,4))"
   ]
  },
  {
   "cell_type": "code",
   "execution_count": 19,
   "metadata": {},
   "outputs": [
    {
     "data": {
      "text/plain": [
       "True"
      ]
     },
     "execution_count": 19,
     "metadata": {},
     "output_type": "execute_result"
    }
   ],
   "source": [
    "bool(\"True,False\")"
   ]
  },
  {
   "cell_type": "code",
   "execution_count": 20,
   "metadata": {},
   "outputs": [
    {
     "data": {
      "text/plain": [
       "True"
      ]
     },
     "execution_count": 20,
     "metadata": {},
     "output_type": "execute_result"
    }
   ],
   "source": [
    "bool(\"False,False\")"
   ]
  },
  {
   "cell_type": "code",
   "execution_count": 21,
   "metadata": {},
   "outputs": [
    {
     "data": {
      "text/plain": [
       "True"
      ]
     },
     "execution_count": 21,
     "metadata": {},
     "output_type": "execute_result"
    }
   ],
   "source": [
    "bool(\"True,True\")"
   ]
  },
  {
   "cell_type": "code",
   "execution_count": 22,
   "metadata": {},
   "outputs": [
    {
     "data": {
      "text/plain": [
       "True"
      ]
     },
     "execution_count": 22,
     "metadata": {},
     "output_type": "execute_result"
    }
   ],
   "source": [
    "bool(\"False,True\")"
   ]
  },
  {
   "cell_type": "code",
   "execution_count": 24,
   "metadata": {},
   "outputs": [
    {
     "data": {
      "text/plain": [
       "('True', 'False')"
      ]
     },
     "execution_count": 24,
     "metadata": {},
     "output_type": "execute_result"
    }
   ],
   "source": [
    "(\"True\",\"False\")"
   ]
  },
  {
   "cell_type": "code",
   "execution_count": 25,
   "metadata": {},
   "outputs": [
    {
     "data": {
      "text/plain": [
       "str"
      ]
     },
     "execution_count": 25,
     "metadata": {},
     "output_type": "execute_result"
    }
   ],
   "source": [
    "type(\"True\")"
   ]
  },
  {
   "cell_type": "code",
   "execution_count": 26,
   "metadata": {},
   "outputs": [
    {
     "data": {
      "text/plain": [
       "bool"
      ]
     },
     "execution_count": 26,
     "metadata": {},
     "output_type": "execute_result"
    }
   ],
   "source": [
    "type(True)"
   ]
  },
  {
   "cell_type": "code",
   "execution_count": 28,
   "metadata": {},
   "outputs": [],
   "source": [
    "a=bool((\"True\",\"False\")) #this is used to convert strings to boolean"
   ]
  },
  {
   "cell_type": "code",
   "execution_count": 30,
   "metadata": {},
   "outputs": [
    {
     "data": {
      "text/plain": [
       "bool"
      ]
     },
     "execution_count": 30,
     "metadata": {},
     "output_type": "execute_result"
    }
   ],
   "source": [
    "type(a)"
   ]
  },
  {
   "cell_type": "code",
   "execution_count": 3,
   "metadata": {},
   "outputs": [
    {
     "name": "stdout",
     "output_type": "stream",
     "text": [
      "Help on class float in module builtins:\n",
      "\n",
      "class float(object)\n",
      " |  float(x=0, /)\n",
      " |  \n",
      " |  Convert a string or number to a floating point number, if possible.\n",
      " |  \n",
      " |  Methods defined here:\n",
      " |  \n",
      " |  __abs__(self, /)\n",
      " |      abs(self)\n",
      " |  \n",
      " |  __add__(self, value, /)\n",
      " |      Return self+value.\n",
      " |  \n",
      " |  __bool__(self, /)\n",
      " |      self != 0\n",
      " |  \n",
      " |  __divmod__(self, value, /)\n",
      " |      Return divmod(self, value).\n",
      " |  \n",
      " |  __eq__(self, value, /)\n",
      " |      Return self==value.\n",
      " |  \n",
      " |  __float__(self, /)\n",
      " |      float(self)\n",
      " |  \n",
      " |  __floordiv__(self, value, /)\n",
      " |      Return self//value.\n",
      " |  \n",
      " |  __format__(self, format_spec, /)\n",
      " |      Formats the float according to format_spec.\n",
      " |  \n",
      " |  __ge__(self, value, /)\n",
      " |      Return self>=value.\n",
      " |  \n",
      " |  __getattribute__(self, name, /)\n",
      " |      Return getattr(self, name).\n",
      " |  \n",
      " |  __getnewargs__(self, /)\n",
      " |  \n",
      " |  __gt__(self, value, /)\n",
      " |      Return self>value.\n",
      " |  \n",
      " |  __hash__(self, /)\n",
      " |      Return hash(self).\n",
      " |  \n",
      " |  __int__(self, /)\n",
      " |      int(self)\n",
      " |  \n",
      " |  __le__(self, value, /)\n",
      " |      Return self<=value.\n",
      " |  \n",
      " |  __lt__(self, value, /)\n",
      " |      Return self<value.\n",
      " |  \n",
      " |  __mod__(self, value, /)\n",
      " |      Return self%value.\n",
      " |  \n",
      " |  __mul__(self, value, /)\n",
      " |      Return self*value.\n",
      " |  \n",
      " |  __ne__(self, value, /)\n",
      " |      Return self!=value.\n",
      " |  \n",
      " |  __neg__(self, /)\n",
      " |      -self\n",
      " |  \n",
      " |  __pos__(self, /)\n",
      " |      +self\n",
      " |  \n",
      " |  __pow__(self, value, mod=None, /)\n",
      " |      Return pow(self, value, mod).\n",
      " |  \n",
      " |  __radd__(self, value, /)\n",
      " |      Return value+self.\n",
      " |  \n",
      " |  __rdivmod__(self, value, /)\n",
      " |      Return divmod(value, self).\n",
      " |  \n",
      " |  __repr__(self, /)\n",
      " |      Return repr(self).\n",
      " |  \n",
      " |  __rfloordiv__(self, value, /)\n",
      " |      Return value//self.\n",
      " |  \n",
      " |  __rmod__(self, value, /)\n",
      " |      Return value%self.\n",
      " |  \n",
      " |  __rmul__(self, value, /)\n",
      " |      Return value*self.\n",
      " |  \n",
      " |  __round__(self, ndigits=None, /)\n",
      " |      Return the Integral closest to x, rounding half toward even.\n",
      " |      \n",
      " |      When an argument is passed, work like built-in round(x, ndigits).\n",
      " |  \n",
      " |  __rpow__(self, value, mod=None, /)\n",
      " |      Return pow(value, self, mod).\n",
      " |  \n",
      " |  __rsub__(self, value, /)\n",
      " |      Return value-self.\n",
      " |  \n",
      " |  __rtruediv__(self, value, /)\n",
      " |      Return value/self.\n",
      " |  \n",
      " |  __str__(self, /)\n",
      " |      Return str(self).\n",
      " |  \n",
      " |  __sub__(self, value, /)\n",
      " |      Return self-value.\n",
      " |  \n",
      " |  __truediv__(self, value, /)\n",
      " |      Return self/value.\n",
      " |  \n",
      " |  __trunc__(self, /)\n",
      " |      Return the Integral closest to x between 0 and x.\n",
      " |  \n",
      " |  as_integer_ratio(self, /)\n",
      " |      Return integer ratio.\n",
      " |      \n",
      " |      Return a pair of integers, whose ratio is exactly equal to the original float\n",
      " |      and with a positive denominator.\n",
      " |      \n",
      " |      Raise OverflowError on infinities and a ValueError on NaNs.\n",
      " |      \n",
      " |      >>> (10.0).as_integer_ratio()\n",
      " |      (10, 1)\n",
      " |      >>> (0.0).as_integer_ratio()\n",
      " |      (0, 1)\n",
      " |      >>> (-.25).as_integer_ratio()\n",
      " |      (-1, 4)\n",
      " |  \n",
      " |  conjugate(self, /)\n",
      " |      Return self, the complex conjugate of any float.\n",
      " |  \n",
      " |  hex(self, /)\n",
      " |      Return a hexadecimal representation of a floating-point number.\n",
      " |      \n",
      " |      >>> (-0.1).hex()\n",
      " |      '-0x1.999999999999ap-4'\n",
      " |      >>> 3.14159.hex()\n",
      " |      '0x1.921f9f01b866ep+1'\n",
      " |  \n",
      " |  is_integer(self, /)\n",
      " |      Return True if the float is an integer.\n",
      " |  \n",
      " |  ----------------------------------------------------------------------\n",
      " |  Class methods defined here:\n",
      " |  \n",
      " |  __getformat__(typestr, /) from builtins.type\n",
      " |      You probably don't want to use this function.\n",
      " |      \n",
      " |        typestr\n",
      " |          Must be 'double' or 'float'.\n",
      " |      \n",
      " |      It exists mainly to be used in Python's test suite.\n",
      " |      \n",
      " |      This function returns whichever of 'unknown', 'IEEE, big-endian' or 'IEEE,\n",
      " |      little-endian' best describes the format of floating point numbers used by the\n",
      " |      C type named by typestr.\n",
      " |  \n",
      " |  __set_format__(typestr, fmt, /) from builtins.type\n",
      " |      You probably don't want to use this function.\n",
      " |      \n",
      " |        typestr\n",
      " |          Must be 'double' or 'float'.\n",
      " |        fmt\n",
      " |          Must be one of 'unknown', 'IEEE, big-endian' or 'IEEE, little-endian',\n",
      " |          and in addition can only be one of the latter two if it appears to\n",
      " |          match the underlying C reality.\n",
      " |      \n",
      " |      It exists mainly to be used in Python's test suite.\n",
      " |      \n",
      " |      Override the automatic determination of C-level floating point type.\n",
      " |      This affects how floats are converted to and from binary strings.\n",
      " |  \n",
      " |  fromhex(string, /) from builtins.type\n",
      " |      Create a floating-point number from a hexadecimal string.\n",
      " |      \n",
      " |      >>> float.fromhex('0x1.ffffp10')\n",
      " |      2047.984375\n",
      " |      >>> float.fromhex('-0x1p-1074')\n",
      " |      -5e-324\n",
      " |  \n",
      " |  ----------------------------------------------------------------------\n",
      " |  Static methods defined here:\n",
      " |  \n",
      " |  __new__(*args, **kwargs) from builtins.type\n",
      " |      Create and return a new object.  See help(type) for accurate signature.\n",
      " |  \n",
      " |  ----------------------------------------------------------------------\n",
      " |  Data descriptors defined here:\n",
      " |  \n",
      " |  imag\n",
      " |      the imaginary part of a complex number\n",
      " |  \n",
      " |  real\n",
      " |      the real part of a complex number\n",
      "\n"
     ]
    }
   ],
   "source": [
    "help(float)"
   ]
  },
  {
   "cell_type": "code",
   "execution_count": 4,
   "metadata": {},
   "outputs": [],
   "source": [
    "a= \"is\"\n",
    "b=\"nice\"\n",
    "my_list = ['my', 'list', a, b]"
   ]
  },
  {
   "cell_type": "code",
   "execution_count": 5,
   "metadata": {},
   "outputs": [
    {
     "data": {
      "text/plain": [
       "['my', 'list', 'is', 'nice']"
      ]
     },
     "execution_count": 5,
     "metadata": {},
     "output_type": "execute_result"
    }
   ],
   "source": [
    "my_list"
   ]
  },
  {
   "cell_type": "code",
   "execution_count": 6,
   "metadata": {},
   "outputs": [
    {
     "data": {
      "text/plain": [
       "[[2, 4, 6, 8], [10, 12, 14, 16]]"
      ]
     },
     "execution_count": 6,
     "metadata": {},
     "output_type": "execute_result"
    }
   ],
   "source": [
    "my_rajja = [[2,4,6,8], [10,12,14,16]]\n",
    "my_rajja\n",
    " "
   ]
  },
  {
   "cell_type": "code",
   "execution_count": 9,
   "metadata": {},
   "outputs": [
    {
     "data": {
      "text/plain": [
       "[[14, 2, 4, 6, 12], [1, 2, 3, 5], [1, 14, 7, 5], [1, 5, 7, 8, 9]]"
      ]
     },
     "execution_count": 9,
     "metadata": {},
     "output_type": "execute_result"
    }
   ],
   "source": [
    "a=1\n",
    "d=2\n",
    "f=4\n",
    "g=6\n",
    "t=12\n",
    "a=14\n",
    "s=7\n",
    "owojori=[[a,d,f,g,t],[1,2,3,5],[1,a,s,5],[1,5,7,8,9]]\n",
    "owojori"
   ]
  },
  {
   "cell_type": "code",
   "execution_count": 10,
   "metadata": {},
   "outputs": [
    {
     "data": {
      "text/plain": [
       "[['ade', 'is', 'a', 'scientist'], [1, 'for', 2, 'yes'], [1, 5, 7]]"
      ]
     },
     "execution_count": 10,
     "metadata": {},
     "output_type": "execute_result"
    }
   ],
   "source": [
    "adesina=[[\"ade\",\"is\",\"a\",\"scientist\"],[1,\"for\",2,\"yes\"],[1,5,7]] #this is used for list of lists\n",
    "adesina"
   ]
  },
  {
   "cell_type": "code",
   "execution_count": 11,
   "metadata": {},
   "outputs": [
    {
     "name": "stdout",
     "output_type": "stream",
     "text": [
      "[['ade', 'is', 'a', 'scientist'], [1, 'for', 2, 'yes'], [1, 5, 7]]\n"
     ]
    }
   ],
   "source": [
    "print(adesina)"
   ]
  },
  {
   "cell_type": "code",
   "execution_count": 12,
   "metadata": {},
   "outputs": [
    {
     "data": {
      "text/plain": [
       "'my'"
      ]
     },
     "execution_count": 12,
     "metadata": {},
     "output_type": "execute_result"
    }
   ],
   "source": [
    "my_list[0]"
   ]
  },
  {
   "cell_type": "code",
   "execution_count": 13,
   "metadata": {},
   "outputs": [
    {
     "data": {
      "text/plain": [
       "'is'"
      ]
     },
     "execution_count": 13,
     "metadata": {},
     "output_type": "execute_result"
    }
   ],
   "source": [
    "my_list[2]"
   ]
  },
  {
   "cell_type": "code",
   "execution_count": 15,
   "metadata": {},
   "outputs": [
    {
     "data": {
      "text/plain": [
       "'nice'"
      ]
     },
     "execution_count": 15,
     "metadata": {},
     "output_type": "execute_result"
    }
   ],
   "source": [
    "my_list[-1]"
   ]
  },
  {
   "cell_type": "code",
   "execution_count": 16,
   "metadata": {},
   "outputs": [
    {
     "data": {
      "text/plain": [
       "'is'"
      ]
     },
     "execution_count": 16,
     "metadata": {},
     "output_type": "execute_result"
    }
   ],
   "source": [
    "my_list[-2]"
   ]
  },
  {
   "cell_type": "code",
   "execution_count": 17,
   "metadata": {},
   "outputs": [
    {
     "data": {
      "text/plain": [
       "['ade', 'is', 'a', 'scientist']"
      ]
     },
     "execution_count": 17,
     "metadata": {},
     "output_type": "execute_result"
    }
   ],
   "source": [
    "adesina[0]"
   ]
  },
  {
   "cell_type": "code",
   "execution_count": 18,
   "metadata": {},
   "outputs": [
    {
     "data": {
      "text/plain": [
       "[1, 5, 7]"
      ]
     },
     "execution_count": 18,
     "metadata": {},
     "output_type": "execute_result"
    }
   ],
   "source": [
    "adesina[-1]"
   ]
  },
  {
   "cell_type": "code",
   "execution_count": 19,
   "metadata": {},
   "outputs": [
    {
     "data": {
      "text/plain": [
       "[1, 5, 7]"
      ]
     },
     "execution_count": 19,
     "metadata": {},
     "output_type": "execute_result"
    }
   ],
   "source": [
    "adesina[2]"
   ]
  },
  {
   "cell_type": "code",
   "execution_count": 20,
   "metadata": {},
   "outputs": [
    {
     "data": {
      "text/plain": [
       "[1, 'for', 2, 'yes']"
      ]
     },
     "execution_count": 20,
     "metadata": {},
     "output_type": "execute_result"
    }
   ],
   "source": [
    "adesina[1]"
   ]
  },
  {
   "cell_type": "code",
   "execution_count": 21,
   "metadata": {},
   "outputs": [
    {
     "data": {
      "text/plain": [
       "'for'"
      ]
     },
     "execution_count": 21,
     "metadata": {},
     "output_type": "execute_result"
    }
   ],
   "source": [
    "adesina[1][1]"
   ]
  },
  {
   "cell_type": "code",
   "execution_count": 22,
   "metadata": {},
   "outputs": [
    {
     "data": {
      "text/plain": [
       "'yes'"
      ]
     },
     "execution_count": 22,
     "metadata": {},
     "output_type": "execute_result"
    }
   ],
   "source": [
    "adesina[1][3]"
   ]
  },
  {
   "cell_type": "code",
   "execution_count": 24,
   "metadata": {},
   "outputs": [
    {
     "data": {
      "text/plain": [
       "[[1, 'for', 2, 'yes'], [1, 5, 7]]"
      ]
     },
     "execution_count": 24,
     "metadata": {},
     "output_type": "execute_result"
    }
   ],
   "source": [
    "adesina[1:3] #it means we are indexing from 1 to 2 bcos 3 will not be inclusive."
   ]
  },
  {
   "cell_type": "code",
   "execution_count": 27,
   "metadata": {},
   "outputs": [
    {
     "data": {
      "text/plain": [
       "[['ade', 'is', 'a', 'scientist'], [1, 'for', 2, 'yes']]"
      ]
     },
     "execution_count": 27,
     "metadata": {},
     "output_type": "execute_result"
    }
   ],
   "source": [
    "adesina[:2] #here we are indexing from the starting point to 2, it will terminate at 1 i.e. 0 and 1"
   ]
  },
  {
   "cell_type": "code",
   "execution_count": 28,
   "metadata": {},
   "outputs": [
    {
     "data": {
      "text/plain": [
       "[['ade', 'is', 'a', 'scientist'], [1, 'for', 2, 'yes'], [1, 5, 7]]"
      ]
     },
     "execution_count": 28,
     "metadata": {},
     "output_type": "execute_result"
    }
   ],
   "source": [
    "adesina[:3] #here we are indexing from the starting point to 3. note that even with the 3, it will terminate at 2 i.e. 0,1,2"
   ]
  },
  {
   "cell_type": "code",
   "execution_count": 29,
   "metadata": {},
   "outputs": [
    {
     "data": {
      "text/plain": [
       "[['ade', 'is', 'a', 'scientist'], [1, 'for', 2, 'yes'], [1, 5, 7]]"
      ]
     },
     "execution_count": 29,
     "metadata": {},
     "output_type": "execute_result"
    }
   ],
   "source": [
    "adesina[:] #if u want to list all the elements in the list"
   ]
  },
  {
   "cell_type": "code",
   "execution_count": 76,
   "metadata": {},
   "outputs": [
    {
     "data": {
      "text/plain": [
       "[1, 2, 3, 4, 5, 6, 7, 8, 9, 10]"
      ]
     },
     "execution_count": 76,
     "metadata": {},
     "output_type": "execute_result"
    }
   ],
   "source": [
    "#list methods\n",
    "femi=[1,2,3,4,5,6,7,8,9,10]\n",
    "femi"
   ]
  },
  {
   "cell_type": "code",
   "execution_count": 77,
   "metadata": {},
   "outputs": [
    {
     "data": {
      "text/plain": [
       "9"
      ]
     },
     "execution_count": 77,
     "metadata": {},
     "output_type": "execute_result"
    }
   ],
   "source": [
    "femi.index(10) #what index is 10? Answer: it is index 9"
   ]
  },
  {
   "cell_type": "code",
   "execution_count": 78,
   "metadata": {},
   "outputs": [
    {
     "data": {
      "text/plain": [
       "4"
      ]
     },
     "execution_count": 78,
     "metadata": {},
     "output_type": "execute_result"
    }
   ],
   "source": [
    "femi.index(5) #what index is 5? answer: it is index 4"
   ]
  },
  {
   "cell_type": "code",
   "execution_count": 79,
   "metadata": {},
   "outputs": [
    {
     "data": {
      "text/plain": [
       "6"
      ]
     },
     "execution_count": 79,
     "metadata": {},
     "output_type": "execute_result"
    }
   ],
   "source": [
    "femi.index(7)"
   ]
  },
  {
   "cell_type": "code",
   "execution_count": 80,
   "metadata": {},
   "outputs": [
    {
     "data": {
      "text/plain": [
       "1"
      ]
     },
     "execution_count": 80,
     "metadata": {},
     "output_type": "execute_result"
    }
   ],
   "source": [
    "femi.count(5) #this is used to count the number of 5's we have in femi which is just 1"
   ]
  },
  {
   "cell_type": "code",
   "execution_count": 81,
   "metadata": {},
   "outputs": [
    {
     "data": {
      "text/plain": [
       "4"
      ]
     },
     "execution_count": 81,
     "metadata": {},
     "output_type": "execute_result"
    }
   ],
   "source": [
    "sule=[1,2,3,4,5,6,5,5,5,7,8,9,10] # this is used to count the number of 5's we're having which is 4\n",
    "sule.count(5)"
   ]
  },
  {
   "cell_type": "code",
   "execution_count": 82,
   "metadata": {},
   "outputs": [],
   "source": [
    "femi.append(11) # this is used to append 11 to the list i.e. to update the list with 11"
   ]
  },
  {
   "cell_type": "code",
   "execution_count": 83,
   "metadata": {},
   "outputs": [
    {
     "data": {
      "text/plain": [
       "[1, 2, 3, 4, 5, 6, 7, 8, 9, 10, 11]"
      ]
     },
     "execution_count": 83,
     "metadata": {},
     "output_type": "execute_result"
    }
   ],
   "source": [
    "femi"
   ]
  },
  {
   "cell_type": "code",
   "execution_count": 84,
   "metadata": {},
   "outputs": [],
   "source": [
    "#femi.append([12,13])"
   ]
  },
  {
   "cell_type": "code",
   "execution_count": 85,
   "metadata": {},
   "outputs": [
    {
     "data": {
      "text/plain": [
       "[1, 2, 3, 4, 5, 6, 7, 8, 9, 10, 11, 12, 13]"
      ]
     },
     "execution_count": 85,
     "metadata": {},
     "output_type": "execute_result"
    }
   ],
   "source": [
    "femi.extend([12,13]) #extend is used to add more than one value\n",
    "femi"
   ]
  },
  {
   "cell_type": "code",
   "execution_count": 86,
   "metadata": {},
   "outputs": [],
   "source": [
    "del(femi[:2])"
   ]
  },
  {
   "cell_type": "code",
   "execution_count": 87,
   "metadata": {},
   "outputs": [
    {
     "data": {
      "text/plain": [
       "[3, 4, 5, 6, 7, 8, 9, 10, 11, 12, 13]"
      ]
     },
     "execution_count": 87,
     "metadata": {},
     "output_type": "execute_result"
    }
   ],
   "source": [
    "femi"
   ]
  },
  {
   "cell_type": "code",
   "execution_count": 88,
   "metadata": {},
   "outputs": [
    {
     "data": {
      "text/plain": [
       "13"
      ]
     },
     "execution_count": 88,
     "metadata": {},
     "output_type": "execute_result"
    }
   ],
   "source": [
    "femi.pop(-1) # this is used to remove the last value in the list"
   ]
  },
  {
   "cell_type": "code",
   "execution_count": 89,
   "metadata": {},
   "outputs": [
    {
     "data": {
      "text/plain": [
       "[3, 4, 5, 6, 7, 8, 9, 10, 11, 12]"
      ]
     },
     "execution_count": 89,
     "metadata": {},
     "output_type": "execute_result"
    }
   ],
   "source": [
    "femi"
   ]
  },
  {
   "cell_type": "code",
   "execution_count": 90,
   "metadata": {},
   "outputs": [],
   "source": [
    "femi.extend([13,14])"
   ]
  },
  {
   "cell_type": "code",
   "execution_count": 91,
   "metadata": {},
   "outputs": [
    {
     "data": {
      "text/plain": [
       "[3, 4, 5, 6, 7, 8, 9, 10, 11, 12, 13, 14]"
      ]
     },
     "execution_count": 91,
     "metadata": {},
     "output_type": "execute_result"
    }
   ],
   "source": [
    "femi"
   ]
  },
  {
   "cell_type": "code",
   "execution_count": 92,
   "metadata": {},
   "outputs": [
    {
     "data": {
      "text/plain": [
       "14"
      ]
     },
     "execution_count": 92,
     "metadata": {},
     "output_type": "execute_result"
    }
   ],
   "source": [
    "femi.pop(-1)"
   ]
  },
  {
   "cell_type": "code",
   "execution_count": 93,
   "metadata": {},
   "outputs": [
    {
     "data": {
      "text/plain": [
       "[3, 4, 5, 6, 7, 8, 9, 10, 11, 12, 13]"
      ]
     },
     "execution_count": 93,
     "metadata": {},
     "output_type": "execute_result"
    }
   ],
   "source": [
    "femi"
   ]
  },
  {
   "cell_type": "code",
   "execution_count": 94,
   "metadata": {},
   "outputs": [
    {
     "data": {
      "text/plain": [
       "[3, 4, 5, 6, 7, 9, 10, 11, 12, 13]"
      ]
     },
     "execution_count": 94,
     "metadata": {},
     "output_type": "execute_result"
    }
   ],
   "source": [
    "femi.pop(5)\n",
    "femi"
   ]
  },
  {
   "cell_type": "code",
   "execution_count": 96,
   "metadata": {},
   "outputs": [
    {
     "data": {
      "text/plain": [
       "[3, 4, 5, 6, 7, 9, 10, 11, 12, 13]"
      ]
     },
     "execution_count": 96,
     "metadata": {},
     "output_type": "execute_result"
    }
   ],
   "source": [
    "femi.sort() # this is used to sort from ascending order to descending order\n",
    "femi"
   ]
  },
  {
   "cell_type": "code",
   "execution_count": 98,
   "metadata": {},
   "outputs": [
    {
     "data": {
      "text/plain": [
       "[3, 4, 5, 6, 7, 9, 10, 11, 12, 13, 8, 19]"
      ]
     },
     "execution_count": 98,
     "metadata": {},
     "output_type": "execute_result"
    }
   ],
   "source": [
    "femi.extend([8,19])\n",
    "femi"
   ]
  },
  {
   "cell_type": "code",
   "execution_count": 99,
   "metadata": {},
   "outputs": [
    {
     "data": {
      "text/plain": [
       "[3, 4, 5, 6, 7, 9, 10, 11, 12, 13, 8]"
      ]
     },
     "execution_count": 99,
     "metadata": {},
     "output_type": "execute_result"
    }
   ],
   "source": [
    "femi.pop(-1)\n",
    "femi"
   ]
  },
  {
   "cell_type": "code",
   "execution_count": 100,
   "metadata": {},
   "outputs": [
    {
     "data": {
      "text/plain": [
       "[3, 4, 5, 6, 7, 8, 9, 10, 11, 12, 13]"
      ]
     },
     "execution_count": 100,
     "metadata": {},
     "output_type": "execute_result"
    }
   ],
   "source": [
    "femi.sort()\n",
    "femi"
   ]
  },
  {
   "cell_type": "code",
   "execution_count": 101,
   "metadata": {},
   "outputs": [
    {
     "data": {
      "text/plain": [
       "[3, 4, 5, 6, 7, 8, 9, 10, 11, 12, 13, 14]"
      ]
     },
     "execution_count": 101,
     "metadata": {},
     "output_type": "execute_result"
    }
   ],
   "source": [
    "femi.insert(11,14) #dis is used to insert by first specifying d index then d inserted value. use shift+tab 2c suggestn\n",
    "femi"
   ]
  },
  {
   "cell_type": "code",
   "execution_count": 102,
   "metadata": {},
   "outputs": [
    {
     "name": "stdout",
     "output_type": "stream",
     "text": [
      "The Zen of Python, by Tim Peters\n",
      "\n",
      "Beautiful is better than ugly.\n",
      "Explicit is better than implicit.\n",
      "Simple is better than complex.\n",
      "Complex is better than complicated.\n",
      "Flat is better than nested.\n",
      "Sparse is better than dense.\n",
      "Readability counts.\n",
      "Special cases aren't special enough to break the rules.\n",
      "Although practicality beats purity.\n",
      "Errors should never pass silently.\n",
      "Unless explicitly silenced.\n",
      "In the face of ambiguity, refuse the temptation to guess.\n",
      "There should be one-- and preferably only one --obvious way to do it.\n",
      "Although that way may not be obvious at first unless you're Dutch.\n",
      "Now is better than never.\n",
      "Although never is often better than *right* now.\n",
      "If the implementation is hard to explain, it's a bad idea.\n",
      "If the implementation is easy to explain, it may be a good idea.\n",
      "Namespaces are one honking great idea -- let's do more of those!\n"
     ]
    }
   ],
   "source": [
    "import this"
   ]
  },
  {
   "cell_type": "code",
   "execution_count": 103,
   "metadata": {},
   "outputs": [],
   "source": [
    "import numpy as np"
   ]
  },
  {
   "cell_type": "code",
   "execution_count": 110,
   "metadata": {},
   "outputs": [],
   "source": [
    "femi_array = np.array(femi) #this is used to form list into array"
   ]
  },
  {
   "cell_type": "code",
   "execution_count": 111,
   "metadata": {},
   "outputs": [
    {
     "data": {
      "text/plain": [
       "array([ 3,  4,  5,  6,  7,  8,  9, 10, 11, 12, 13, 14])"
      ]
     },
     "execution_count": 111,
     "metadata": {},
     "output_type": "execute_result"
    }
   ],
   "source": [
    "femi_array"
   ]
  },
  {
   "cell_type": "code",
   "execution_count": 113,
   "metadata": {},
   "outputs": [],
   "source": [
    "my_array = np.array([[3,5,7,8,9,11],[1,2,3,4,5,6],[2,4,6,8,10,12],[12,14,16,18,20,22]])"
   ]
  },
  {
   "cell_type": "code",
   "execution_count": 114,
   "metadata": {},
   "outputs": [
    {
     "data": {
      "text/plain": [
       "array([[ 3,  5,  7,  8,  9, 11],\n",
       "       [ 1,  2,  3,  4,  5,  6],\n",
       "       [ 2,  4,  6,  8, 10, 12],\n",
       "       [12, 14, 16, 18, 20, 22]])"
      ]
     },
     "execution_count": 114,
     "metadata": {},
     "output_type": "execute_result"
    }
   ],
   "source": [
    "my_array # i.e. 6 rows and 4 columns"
   ]
  },
  {
   "cell_type": "code",
   "execution_count": 115,
   "metadata": {},
   "outputs": [
    {
     "data": {
      "text/plain": [
       "(4, 6)"
      ]
     },
     "execution_count": 115,
     "metadata": {},
     "output_type": "execute_result"
    }
   ],
   "source": [
    "my_array.shape"
   ]
  },
  {
   "cell_type": "code",
   "execution_count": 116,
   "metadata": {},
   "outputs": [
    {
     "data": {
      "text/plain": [
       "(12,)"
      ]
     },
     "execution_count": 116,
     "metadata": {},
     "output_type": "execute_result"
    }
   ],
   "source": [
    "femi_array.shape # it means we are having 12 rows and 1 columns"
   ]
  },
  {
   "cell_type": "code",
   "execution_count": 117,
   "metadata": {},
   "outputs": [
    {
     "data": {
      "text/plain": [
       "array([ 3,  1,  2, 12])"
      ]
     },
     "execution_count": 117,
     "metadata": {},
     "output_type": "execute_result"
    }
   ],
   "source": [
    "my_array[:,0] # i.e. cutting the 1st column"
   ]
  },
  {
   "cell_type": "code",
   "execution_count": 118,
   "metadata": {},
   "outputs": [
    {
     "data": {
      "text/plain": [
       "array([ 5,  2,  4, 14])"
      ]
     },
     "execution_count": 118,
     "metadata": {},
     "output_type": "execute_result"
    }
   ],
   "source": [
    "my_array[:,1] # i.e cutting the 2nd column"
   ]
  },
  {
   "cell_type": "code",
   "execution_count": 119,
   "metadata": {},
   "outputs": [
    {
     "data": {
      "text/plain": [
       "array([ 7,  3,  6, 16])"
      ]
     },
     "execution_count": 119,
     "metadata": {},
     "output_type": "execute_result"
    }
   ],
   "source": [
    "my_array[:,2] # i.e cutting the 3rd column"
   ]
  },
  {
   "cell_type": "code",
   "execution_count": 120,
   "metadata": {},
   "outputs": [
    {
     "data": {
      "text/plain": [
       "array([ 8,  4,  8, 18])"
      ]
     },
     "execution_count": 120,
     "metadata": {},
     "output_type": "execute_result"
    }
   ],
   "source": [
    "my_array[:,3] # i.e cutting the 4th column"
   ]
  },
  {
   "cell_type": "code",
   "execution_count": 121,
   "metadata": {},
   "outputs": [
    {
     "data": {
      "text/plain": [
       "array([ 9,  5, 10, 20])"
      ]
     },
     "execution_count": 121,
     "metadata": {},
     "output_type": "execute_result"
    }
   ],
   "source": [
    "my_array[:,4]"
   ]
  },
  {
   "cell_type": "code",
   "execution_count": 122,
   "metadata": {},
   "outputs": [
    {
     "data": {
      "text/plain": [
       "array([ 3,  5,  7,  8,  9, 11])"
      ]
     },
     "execution_count": 122,
     "metadata": {},
     "output_type": "execute_result"
    }
   ],
   "source": [
    "my_array[0,:]"
   ]
  },
  {
   "cell_type": "code",
   "execution_count": 123,
   "metadata": {},
   "outputs": [
    {
     "data": {
      "text/plain": [
       "array([1, 2, 3, 4, 5, 6])"
      ]
     },
     "execution_count": 123,
     "metadata": {},
     "output_type": "execute_result"
    }
   ],
   "source": [
    "my_array[1,:]"
   ]
  },
  {
   "cell_type": "code",
   "execution_count": 124,
   "metadata": {},
   "outputs": [
    {
     "data": {
      "text/plain": [
       "array([ 2,  4,  6,  8, 10, 12])"
      ]
     },
     "execution_count": 124,
     "metadata": {},
     "output_type": "execute_result"
    }
   ],
   "source": [
    "my_array[2,:]"
   ]
  },
  {
   "cell_type": "code",
   "execution_count": 126,
   "metadata": {},
   "outputs": [
    {
     "data": {
      "text/plain": [
       "array([12, 14, 16, 18, 20, 22])"
      ]
     },
     "execution_count": 126,
     "metadata": {},
     "output_type": "execute_result"
    }
   ],
   "source": [
    "my_array[3,:]"
   ]
  },
  {
   "cell_type": "code",
   "execution_count": 145,
   "metadata": {},
   "outputs": [
    {
     "data": {
      "text/plain": [
       "array([20])"
      ]
     },
     "execution_count": 145,
     "metadata": {},
     "output_type": "execute_result"
    }
   ],
   "source": [
    "my_array[3:4,4]"
   ]
  },
  {
   "cell_type": "code",
   "execution_count": 146,
   "metadata": {},
   "outputs": [
    {
     "data": {
      "text/plain": [
       "8.666666666666666"
      ]
     },
     "execution_count": 146,
     "metadata": {},
     "output_type": "execute_result"
    }
   ],
   "source": [
    "np.mean(my_array)"
   ]
  },
  {
   "cell_type": "code",
   "execution_count": 147,
   "metadata": {},
   "outputs": [
    {
     "data": {
      "text/plain": [
       "7.5"
      ]
     },
     "execution_count": 147,
     "metadata": {},
     "output_type": "execute_result"
    }
   ],
   "source": [
    "np.median(my_array)"
   ]
  },
  {
   "cell_type": "code",
   "execution_count": 149,
   "metadata": {},
   "outputs": [
    {
     "data": {
      "text/plain": [
       "8.666666666666666"
      ]
     },
     "execution_count": 149,
     "metadata": {},
     "output_type": "execute_result"
    }
   ],
   "source": [
    "np.mean(my_array)"
   ]
  },
  {
   "cell_type": "code",
   "execution_count": 150,
   "metadata": {},
   "outputs": [
    {
     "data": {
      "text/plain": [
       "array([[16, 18]])"
      ]
     },
     "execution_count": 150,
     "metadata": {},
     "output_type": "execute_result"
    }
   ],
   "source": [
    "my_array[3:4,2:4]"
   ]
  },
  {
   "cell_type": "code",
   "execution_count": 151,
   "metadata": {},
   "outputs": [],
   "source": [
    "practiz_array=np.array([[2,4,6,8],[9,3,8,7],[2,5,9,8],[1,6,2,3]])"
   ]
  },
  {
   "cell_type": "code",
   "execution_count": 152,
   "metadata": {},
   "outputs": [
    {
     "data": {
      "text/plain": [
       "array([[2, 4, 6, 8],\n",
       "       [9, 3, 8, 7],\n",
       "       [2, 5, 9, 8],\n",
       "       [1, 6, 2, 3]])"
      ]
     },
     "execution_count": 152,
     "metadata": {},
     "output_type": "execute_result"
    }
   ],
   "source": [
    "practiz_array"
   ]
  },
  {
   "cell_type": "code",
   "execution_count": 153,
   "metadata": {},
   "outputs": [
    {
     "data": {
      "text/plain": [
       "array([8, 9])"
      ]
     },
     "execution_count": 153,
     "metadata": {},
     "output_type": "execute_result"
    }
   ],
   "source": [
    "practiz_array[1:3,2]"
   ]
  },
  {
   "cell_type": "code",
   "execution_count": 154,
   "metadata": {},
   "outputs": [
    {
     "data": {
      "text/plain": [
       "array([[5, 9],\n",
       "       [6, 2]])"
      ]
     },
     "execution_count": 154,
     "metadata": {},
     "output_type": "execute_result"
    }
   ],
   "source": [
    "practiz_array[2:4,1:3]"
   ]
  },
  {
   "cell_type": "code",
   "execution_count": 155,
   "metadata": {},
   "outputs": [
    {
     "data": {
      "text/plain": [
       "array([[5, 9]])"
      ]
     },
     "execution_count": 155,
     "metadata": {},
     "output_type": "execute_result"
    }
   ],
   "source": [
    "practiz_array[2:3,1:3]"
   ]
  },
  {
   "cell_type": "code",
   "execution_count": 1,
   "metadata": {},
   "outputs": [],
   "source": [
    "#All numpy methods/operations.\n",
    "# State briefly at least one usefulness of each methods/operations\n"
   ]
  },
  {
   "cell_type": "code",
   "execution_count": 2,
   "metadata": {},
   "outputs": [],
   "source": [
    "import numpy as np"
   ]
  },
  {
   "cell_type": "code",
   "execution_count": 10,
   "metadata": {},
   "outputs": [],
   "source": [
    "def minus(x,y):\n",
    "    try:\n",
    "        return x - y\n",
    "    except TypeError:\n",
    "        return float(x) - float(y)\n"
   ]
  },
  {
   "cell_type": "code",
   "execution_count": 11,
   "metadata": {},
   "outputs": [
    {
     "data": {
      "text/plain": [
       "3"
      ]
     },
     "execution_count": 11,
     "metadata": {},
     "output_type": "execute_result"
    }
   ],
   "source": [
    "minus(5,2)"
   ]
  },
  {
   "cell_type": "code",
   "execution_count": 12,
   "metadata": {},
   "outputs": [
    {
     "data": {
      "text/plain": [
       "7"
      ]
     },
     "execution_count": 12,
     "metadata": {},
     "output_type": "execute_result"
    }
   ],
   "source": [
    "minus(8,1)"
   ]
  },
  {
   "cell_type": "code",
   "execution_count": 13,
   "metadata": {},
   "outputs": [],
   "source": [
    "def add(a,b):\n",
    "    try:\n",
    "        return a + b\n",
    "    except TypeError:\n",
    "        return float(a) - float(b)"
   ]
  },
  {
   "cell_type": "code",
   "execution_count": 14,
   "metadata": {},
   "outputs": [
    {
     "data": {
      "text/plain": [
       "24"
      ]
     },
     "execution_count": 14,
     "metadata": {},
     "output_type": "execute_result"
    }
   ],
   "source": [
    "add(10,14)"
   ]
  },
  {
   "cell_type": "code",
   "execution_count": 15,
   "metadata": {},
   "outputs": [
    {
     "data": {
      "text/plain": [
       "434"
      ]
     },
     "execution_count": 15,
     "metadata": {},
     "output_type": "execute_result"
    }
   ],
   "source": [
    "add(200,234)"
   ]
  },
  {
   "cell_type": "code",
   "execution_count": 23,
   "metadata": {},
   "outputs": [
    {
     "data": {
      "text/plain": [
       "120"
      ]
     },
     "execution_count": 23,
     "metadata": {},
     "output_type": "execute_result"
    }
   ],
   "source": [
    "def multiply(x,y,z):\n",
    "    return x*y*z\n",
    "\n",
    "multiply(3,4,10) "
   ]
  },
  {
   "cell_type": "code",
   "execution_count": 24,
   "metadata": {},
   "outputs": [
    {
     "data": {
      "text/plain": [
       "15"
      ]
     },
     "execution_count": 24,
     "metadata": {},
     "output_type": "execute_result"
    }
   ],
   "source": [
    "add_five=lambda x: x + 10\n",
    "add_five(5)"
   ]
  },
  {
   "cell_type": "code",
   "execution_count": 25,
   "metadata": {},
   "outputs": [
    {
     "data": {
      "text/plain": [
       "18"
      ]
     },
     "execution_count": 25,
     "metadata": {},
     "output_type": "execute_result"
    }
   ],
   "source": [
    "add_five(8)"
   ]
  },
  {
   "cell_type": "code",
   "execution_count": 26,
   "metadata": {},
   "outputs": [
    {
     "data": {
      "text/plain": [
       "<function __main__.<lambda>(x)>"
      ]
     },
     "execution_count": 26,
     "metadata": {},
     "output_type": "execute_result"
    }
   ],
   "source": [
    "lambda x : x + 15"
   ]
  },
  {
   "cell_type": "code",
   "execution_count": 27,
   "metadata": {},
   "outputs": [],
   "source": [
    "# for loop"
   ]
  },
  {
   "cell_type": "code",
   "execution_count": 31,
   "metadata": {},
   "outputs": [
    {
     "name": "stdout",
     "output_type": "stream",
     "text": [
      "Numbers divided by two are: 1.0\n",
      "Numbers divided by two are: 1.5\n",
      "Numbers divided by two are: 2.0\n",
      "Numbers divided by two are: 2.5\n"
     ]
    }
   ],
   "source": [
    "for x in range(2,6):\n",
    "    print('Numbers divided by two are:', x/2)"
   ]
  },
  {
   "cell_type": "code",
   "execution_count": 32,
   "metadata": {
    "scrolled": true
   },
   "outputs": [
    {
     "name": "stdout",
     "output_type": "stream",
     "text": [
      "Numbers divided by three are: 1.0\n",
      "Numbers divided by three are: 1.3333333333333333\n",
      "Numbers divided by three are: 1.6666666666666667\n",
      "Numbers divided by three are: 2.0\n",
      "Numbers divided by three are: 2.3333333333333335\n",
      "Numbers divided by three are: 2.6666666666666665\n",
      "Numbers divided by three are: 3.0\n",
      "Numbers divided by three are: 3.3333333333333335\n",
      "Numbers divided by three are: 3.6666666666666665\n",
      "Numbers divided by three are: 4.0\n",
      "Numbers divided by three are: 4.333333333333333\n",
      "Numbers divided by three are: 4.666666666666667\n",
      "Numbers divided by three are: 5.0\n",
      "Numbers divided by three are: 5.333333333333333\n"
     ]
    }
   ],
   "source": [
    "for y in range(3,17):\n",
    "    print('Numbers divided by three are:', y/3)"
   ]
  },
  {
   "cell_type": "code",
   "execution_count": 37,
   "metadata": {
    "collapsed": true
   },
   "outputs": [
    {
     "name": "stdout",
     "output_type": "stream",
     "text": [
      "Numbers divided by three are: 1\n",
      "Numbers divided by three are: 1\n",
      "Numbers divided by three are: 2\n",
      "Numbers divided by three are: 2\n",
      "Numbers divided by three are: 2\n",
      "Numbers divided by three are: 3\n",
      "Numbers divided by three are: 3\n",
      "Numbers divided by three are: 3\n",
      "Numbers divided by three are: 4\n",
      "Numbers divided by three are: 4\n",
      "Numbers divided by three are: 4\n",
      "Numbers divided by three are: 5\n",
      "Numbers divided by three are: 5\n",
      "Numbers divided by three are: 5\n"
     ]
    }
   ],
   "source": [
    "for g in range(3,17):#for riounding up\n",
    "    print('Numbers divided by three are:', round(g/3))"
   ]
  },
  {
   "cell_type": "code",
   "execution_count": null,
   "metadata": {},
   "outputs": [],
   "source": [
    "#for i in [2,3,4,5]:"
   ]
  },
  {
   "cell_type": "markdown",
   "metadata": {},
   "source": [
    "## PANDAS TUTORIAL"
   ]
  },
  {
   "cell_type": "code",
   "execution_count": 38,
   "metadata": {},
   "outputs": [],
   "source": [
    "import pandas as pd"
   ]
  },
  {
   "cell_type": "code",
   "execution_count": 41,
   "metadata": {},
   "outputs": [],
   "source": [
    "df = pd.read_csv('train_practise.csv')"
   ]
  },
  {
   "cell_type": "code",
   "execution_count": 42,
   "metadata": {},
   "outputs": [
    {
     "data": {
      "text/html": [
       "<div>\n",
       "<style scoped>\n",
       "    .dataframe tbody tr th:only-of-type {\n",
       "        vertical-align: middle;\n",
       "    }\n",
       "\n",
       "    .dataframe tbody tr th {\n",
       "        vertical-align: top;\n",
       "    }\n",
       "\n",
       "    .dataframe thead th {\n",
       "        text-align: right;\n",
       "    }\n",
       "</style>\n",
       "<table border=\"1\" class=\"dataframe\">\n",
       "  <thead>\n",
       "    <tr style=\"text-align: right;\">\n",
       "      <th></th>\n",
       "      <th>ward</th>\n",
       "      <th>total_households</th>\n",
       "      <th>total_individuals</th>\n",
       "      <th>target</th>\n",
       "      <th>dw_00</th>\n",
       "      <th>dw_01</th>\n",
       "      <th>dw_02</th>\n",
       "      <th>dw_03</th>\n",
       "      <th>dw_04</th>\n",
       "      <th>dw_05</th>\n",
       "      <th>...</th>\n",
       "      <th>pw_03</th>\n",
       "      <th>pw_04</th>\n",
       "      <th>pw_05</th>\n",
       "      <th>pw_06</th>\n",
       "      <th>pw_07</th>\n",
       "      <th>pw_08</th>\n",
       "      <th>ADM4_PCODE</th>\n",
       "      <th>lat</th>\n",
       "      <th>lon</th>\n",
       "      <th>NL</th>\n",
       "    </tr>\n",
       "  </thead>\n",
       "  <tbody>\n",
       "    <tr>\n",
       "      <td>0</td>\n",
       "      <td>41601001: Ward 1</td>\n",
       "      <td>1674.45058</td>\n",
       "      <td>5888.20750</td>\n",
       "      <td>16.773757</td>\n",
       "      <td>0.933841</td>\n",
       "      <td>0.000846</td>\n",
       "      <td>0.005490</td>\n",
       "      <td>0.000676</td>\n",
       "      <td>0.000000</td>\n",
       "      <td>0.001372</td>\n",
       "      <td>...</td>\n",
       "      <td>0.002848</td>\n",
       "      <td>0.007537</td>\n",
       "      <td>0.000000</td>\n",
       "      <td>0.012928</td>\n",
       "      <td>0</td>\n",
       "      <td>0</td>\n",
       "      <td>ZA4161001</td>\n",
       "      <td>-29.682270</td>\n",
       "      <td>24.734743</td>\n",
       "      <td>0.292039</td>\n",
       "    </tr>\n",
       "    <tr>\n",
       "      <td>1</td>\n",
       "      <td>41601002: Ward 2</td>\n",
       "      <td>1736.99230</td>\n",
       "      <td>6735.33812</td>\n",
       "      <td>21.496661</td>\n",
       "      <td>0.696940</td>\n",
       "      <td>0.001253</td>\n",
       "      <td>0.004402</td>\n",
       "      <td>0.000000</td>\n",
       "      <td>0.002301</td>\n",
       "      <td>0.001323</td>\n",
       "      <td>...</td>\n",
       "      <td>0.014566</td>\n",
       "      <td>0.057127</td>\n",
       "      <td>0.019092</td>\n",
       "      <td>0.004131</td>\n",
       "      <td>0</td>\n",
       "      <td>0</td>\n",
       "      <td>ZA4161002</td>\n",
       "      <td>-29.119311</td>\n",
       "      <td>24.757737</td>\n",
       "      <td>3.207775</td>\n",
       "    </tr>\n",
       "    <tr>\n",
       "      <td>2</td>\n",
       "      <td>41601003: Ward 3</td>\n",
       "      <td>2403.57591</td>\n",
       "      <td>7273.04995</td>\n",
       "      <td>10.931425</td>\n",
       "      <td>0.810545</td>\n",
       "      <td>0.004517</td>\n",
       "      <td>0.008891</td>\n",
       "      <td>0.003986</td>\n",
       "      <td>0.007735</td>\n",
       "      <td>0.000956</td>\n",
       "      <td>...</td>\n",
       "      <td>0.057560</td>\n",
       "      <td>0.010358</td>\n",
       "      <td>0.001421</td>\n",
       "      <td>0.040881</td>\n",
       "      <td>0</td>\n",
       "      <td>0</td>\n",
       "      <td>ZA4161003</td>\n",
       "      <td>-29.142276</td>\n",
       "      <td>25.094093</td>\n",
       "      <td>0.000000</td>\n",
       "    </tr>\n",
       "    <tr>\n",
       "      <td>3</td>\n",
       "      <td>41601004: Ward 4</td>\n",
       "      <td>1740.78737</td>\n",
       "      <td>5734.49046</td>\n",
       "      <td>23.119257</td>\n",
       "      <td>0.659914</td>\n",
       "      <td>0.000000</td>\n",
       "      <td>0.006129</td>\n",
       "      <td>0.000000</td>\n",
       "      <td>0.000813</td>\n",
       "      <td>0.037245</td>\n",
       "      <td>...</td>\n",
       "      <td>0.000000</td>\n",
       "      <td>0.000669</td>\n",
       "      <td>0.000000</td>\n",
       "      <td>0.005011</td>\n",
       "      <td>0</td>\n",
       "      <td>0</td>\n",
       "      <td>ZA4161004</td>\n",
       "      <td>-29.372052</td>\n",
       "      <td>24.942867</td>\n",
       "      <td>2.038778</td>\n",
       "    </tr>\n",
       "    <tr>\n",
       "      <td>4</td>\n",
       "      <td>41601005: Ward 5</td>\n",
       "      <td>1730.51451</td>\n",
       "      <td>6657.23835</td>\n",
       "      <td>13.652252</td>\n",
       "      <td>0.950575</td>\n",
       "      <td>0.000655</td>\n",
       "      <td>0.001473</td>\n",
       "      <td>0.000598</td>\n",
       "      <td>0.006999</td>\n",
       "      <td>0.000818</td>\n",
       "      <td>...</td>\n",
       "      <td>0.004859</td>\n",
       "      <td>0.001290</td>\n",
       "      <td>0.000673</td>\n",
       "      <td>0.017629</td>\n",
       "      <td>0</td>\n",
       "      <td>0</td>\n",
       "      <td>ZA4161005</td>\n",
       "      <td>-29.409381</td>\n",
       "      <td>25.290165</td>\n",
       "      <td>0.000000</td>\n",
       "    </tr>\n",
       "    <tr>\n",
       "      <td>...</td>\n",
       "      <td>...</td>\n",
       "      <td>...</td>\n",
       "      <td>...</td>\n",
       "      <td>...</td>\n",
       "      <td>...</td>\n",
       "      <td>...</td>\n",
       "      <td>...</td>\n",
       "      <td>...</td>\n",
       "      <td>...</td>\n",
       "      <td>...</td>\n",
       "      <td>...</td>\n",
       "      <td>...</td>\n",
       "      <td>...</td>\n",
       "      <td>...</td>\n",
       "      <td>...</td>\n",
       "      <td>...</td>\n",
       "      <td>...</td>\n",
       "      <td>...</td>\n",
       "      <td>...</td>\n",
       "      <td>...</td>\n",
       "      <td>...</td>\n",
       "    </tr>\n",
       "    <tr>\n",
       "      <td>2817</td>\n",
       "      <td>34503001: Ward 1</td>\n",
       "      <td>3261.68067</td>\n",
       "      <td>11551.56486</td>\n",
       "      <td>6.393480</td>\n",
       "      <td>0.874972</td>\n",
       "      <td>0.003146</td>\n",
       "      <td>0.017230</td>\n",
       "      <td>0.004735</td>\n",
       "      <td>0.048888</td>\n",
       "      <td>0.000654</td>\n",
       "      <td>...</td>\n",
       "      <td>0.000472</td>\n",
       "      <td>0.000472</td>\n",
       "      <td>0.000000</td>\n",
       "      <td>0.006203</td>\n",
       "      <td>0</td>\n",
       "      <td>0</td>\n",
       "      <td>ZA3453001</td>\n",
       "      <td>-27.675590</td>\n",
       "      <td>23.057920</td>\n",
       "      <td>9.118927</td>\n",
       "    </tr>\n",
       "    <tr>\n",
       "      <td>2818</td>\n",
       "      <td>34503002: Ward 2</td>\n",
       "      <td>1463.06432</td>\n",
       "      <td>7908.90411</td>\n",
       "      <td>15.668000</td>\n",
       "      <td>0.636235</td>\n",
       "      <td>0.002262</td>\n",
       "      <td>0.010433</td>\n",
       "      <td>0.000000</td>\n",
       "      <td>0.003030</td>\n",
       "      <td>0.000000</td>\n",
       "      <td>...</td>\n",
       "      <td>0.003030</td>\n",
       "      <td>0.000713</td>\n",
       "      <td>0.000000</td>\n",
       "      <td>0.008414</td>\n",
       "      <td>0</td>\n",
       "      <td>0</td>\n",
       "      <td>ZA3453002</td>\n",
       "      <td>-27.591408</td>\n",
       "      <td>22.907161</td>\n",
       "      <td>1.697395</td>\n",
       "    </tr>\n",
       "    <tr>\n",
       "      <td>2819</td>\n",
       "      <td>34503003: Ward 3</td>\n",
       "      <td>1395.18881</td>\n",
       "      <td>6242.37527</td>\n",
       "      <td>13.238795</td>\n",
       "      <td>0.855975</td>\n",
       "      <td>0.006601</td>\n",
       "      <td>0.061118</td>\n",
       "      <td>0.000812</td>\n",
       "      <td>0.003912</td>\n",
       "      <td>0.000812</td>\n",
       "      <td>...</td>\n",
       "      <td>0.002150</td>\n",
       "      <td>0.001458</td>\n",
       "      <td>0.000000</td>\n",
       "      <td>0.003670</td>\n",
       "      <td>0</td>\n",
       "      <td>0</td>\n",
       "      <td>ZA3453003</td>\n",
       "      <td>-27.952550</td>\n",
       "      <td>22.749698</td>\n",
       "      <td>2.792501</td>\n",
       "    </tr>\n",
       "    <tr>\n",
       "      <td>2820</td>\n",
       "      <td>34503004: Ward 4</td>\n",
       "      <td>1679.66964</td>\n",
       "      <td>8014.73089</td>\n",
       "      <td>17.639523</td>\n",
       "      <td>0.792552</td>\n",
       "      <td>0.004423</td>\n",
       "      <td>0.016099</td>\n",
       "      <td>0.000000</td>\n",
       "      <td>0.000674</td>\n",
       "      <td>0.000000</td>\n",
       "      <td>...</td>\n",
       "      <td>0.009235</td>\n",
       "      <td>0.007870</td>\n",
       "      <td>0.000000</td>\n",
       "      <td>0.004803</td>\n",
       "      <td>0</td>\n",
       "      <td>0</td>\n",
       "      <td>ZA3453004</td>\n",
       "      <td>-27.913875</td>\n",
       "      <td>22.755314</td>\n",
       "      <td>2.793699</td>\n",
       "    </tr>\n",
       "    <tr>\n",
       "      <td>2821</td>\n",
       "      <td>34503005: Ward 5</td>\n",
       "      <td>3008.38687</td>\n",
       "      <td>7899.36498</td>\n",
       "      <td>12.457680</td>\n",
       "      <td>0.254215</td>\n",
       "      <td>0.003310</td>\n",
       "      <td>0.121954</td>\n",
       "      <td>0.000000</td>\n",
       "      <td>0.001770</td>\n",
       "      <td>0.001023</td>\n",
       "      <td>...</td>\n",
       "      <td>0.003107</td>\n",
       "      <td>0.001636</td>\n",
       "      <td>0.000332</td>\n",
       "      <td>0.001770</td>\n",
       "      <td>0</td>\n",
       "      <td>0</td>\n",
       "      <td>ZA3453005</td>\n",
       "      <td>-27.741804</td>\n",
       "      <td>22.856933</td>\n",
       "      <td>0.001200</td>\n",
       "    </tr>\n",
       "  </tbody>\n",
       "</table>\n",
       "<p>2822 rows × 63 columns</p>\n",
       "</div>"
      ],
      "text/plain": [
       "                  ward  total_households  total_individuals     target  \\\n",
       "0     41601001: Ward 1        1674.45058         5888.20750  16.773757   \n",
       "1     41601002: Ward 2        1736.99230         6735.33812  21.496661   \n",
       "2     41601003: Ward 3        2403.57591         7273.04995  10.931425   \n",
       "3     41601004: Ward 4        1740.78737         5734.49046  23.119257   \n",
       "4     41601005: Ward 5        1730.51451         6657.23835  13.652252   \n",
       "...                ...               ...                ...        ...   \n",
       "2817  34503001: Ward 1        3261.68067        11551.56486   6.393480   \n",
       "2818  34503002: Ward 2        1463.06432         7908.90411  15.668000   \n",
       "2819  34503003: Ward 3        1395.18881         6242.37527  13.238795   \n",
       "2820  34503004: Ward 4        1679.66964         8014.73089  17.639523   \n",
       "2821  34503005: Ward 5        3008.38687         7899.36498  12.457680   \n",
       "\n",
       "         dw_00     dw_01     dw_02     dw_03     dw_04     dw_05  ...  \\\n",
       "0     0.933841  0.000846  0.005490  0.000676  0.000000  0.001372  ...   \n",
       "1     0.696940  0.001253  0.004402  0.000000  0.002301  0.001323  ...   \n",
       "2     0.810545  0.004517  0.008891  0.003986  0.007735  0.000956  ...   \n",
       "3     0.659914  0.000000  0.006129  0.000000  0.000813  0.037245  ...   \n",
       "4     0.950575  0.000655  0.001473  0.000598  0.006999  0.000818  ...   \n",
       "...        ...       ...       ...       ...       ...       ...  ...   \n",
       "2817  0.874972  0.003146  0.017230  0.004735  0.048888  0.000654  ...   \n",
       "2818  0.636235  0.002262  0.010433  0.000000  0.003030  0.000000  ...   \n",
       "2819  0.855975  0.006601  0.061118  0.000812  0.003912  0.000812  ...   \n",
       "2820  0.792552  0.004423  0.016099  0.000000  0.000674  0.000000  ...   \n",
       "2821  0.254215  0.003310  0.121954  0.000000  0.001770  0.001023  ...   \n",
       "\n",
       "         pw_03     pw_04     pw_05     pw_06  pw_07  pw_08  ADM4_PCODE  \\\n",
       "0     0.002848  0.007537  0.000000  0.012928      0      0   ZA4161001   \n",
       "1     0.014566  0.057127  0.019092  0.004131      0      0   ZA4161002   \n",
       "2     0.057560  0.010358  0.001421  0.040881      0      0   ZA4161003   \n",
       "3     0.000000  0.000669  0.000000  0.005011      0      0   ZA4161004   \n",
       "4     0.004859  0.001290  0.000673  0.017629      0      0   ZA4161005   \n",
       "...        ...       ...       ...       ...    ...    ...         ...   \n",
       "2817  0.000472  0.000472  0.000000  0.006203      0      0   ZA3453001   \n",
       "2818  0.003030  0.000713  0.000000  0.008414      0      0   ZA3453002   \n",
       "2819  0.002150  0.001458  0.000000  0.003670      0      0   ZA3453003   \n",
       "2820  0.009235  0.007870  0.000000  0.004803      0      0   ZA3453004   \n",
       "2821  0.003107  0.001636  0.000332  0.001770      0      0   ZA3453005   \n",
       "\n",
       "            lat        lon        NL  \n",
       "0    -29.682270  24.734743  0.292039  \n",
       "1    -29.119311  24.757737  3.207775  \n",
       "2    -29.142276  25.094093  0.000000  \n",
       "3    -29.372052  24.942867  2.038778  \n",
       "4    -29.409381  25.290165  0.000000  \n",
       "...         ...        ...       ...  \n",
       "2817 -27.675590  23.057920  9.118927  \n",
       "2818 -27.591408  22.907161  1.697395  \n",
       "2819 -27.952550  22.749698  2.792501  \n",
       "2820 -27.913875  22.755314  2.793699  \n",
       "2821 -27.741804  22.856933  0.001200  \n",
       "\n",
       "[2822 rows x 63 columns]"
      ]
     },
     "execution_count": 42,
     "metadata": {},
     "output_type": "execute_result"
    }
   ],
   "source": [
    "df"
   ]
  },
  {
   "cell_type": "code",
   "execution_count": 43,
   "metadata": {},
   "outputs": [
    {
     "data": {
      "text/plain": [
       "ward                  object\n",
       "total_households     float64\n",
       "total_individuals    float64\n",
       "target               float64\n",
       "dw_00                float64\n",
       "                      ...   \n",
       "pw_08                  int64\n",
       "ADM4_PCODE            object\n",
       "lat                  float64\n",
       "lon                  float64\n",
       "NL                   float64\n",
       "Length: 63, dtype: object"
      ]
     },
     "execution_count": 43,
     "metadata": {},
     "output_type": "execute_result"
    }
   ],
   "source": [
    "df.dtypes #this is used to check data type"
   ]
  },
  {
   "cell_type": "code",
   "execution_count": 45,
   "metadata": {},
   "outputs": [
    {
     "data": {
      "text/plain": [
       "(2822, 63)"
      ]
     },
     "execution_count": 45,
     "metadata": {},
     "output_type": "execute_result"
    }
   ],
   "source": [
    "df.shape #this is used to check the shape i.e. 63 columns and 2822 rows"
   ]
  },
  {
   "cell_type": "code",
   "execution_count": 46,
   "metadata": {},
   "outputs": [
    {
     "data": {
      "text/html": [
       "<div>\n",
       "<style scoped>\n",
       "    .dataframe tbody tr th:only-of-type {\n",
       "        vertical-align: middle;\n",
       "    }\n",
       "\n",
       "    .dataframe tbody tr th {\n",
       "        vertical-align: top;\n",
       "    }\n",
       "\n",
       "    .dataframe thead th {\n",
       "        text-align: right;\n",
       "    }\n",
       "</style>\n",
       "<table border=\"1\" class=\"dataframe\">\n",
       "  <thead>\n",
       "    <tr style=\"text-align: right;\">\n",
       "      <th></th>\n",
       "      <th>ward</th>\n",
       "      <th>total_households</th>\n",
       "      <th>total_individuals</th>\n",
       "      <th>target</th>\n",
       "      <th>dw_00</th>\n",
       "      <th>dw_01</th>\n",
       "      <th>dw_02</th>\n",
       "      <th>dw_03</th>\n",
       "      <th>dw_04</th>\n",
       "      <th>dw_05</th>\n",
       "      <th>...</th>\n",
       "      <th>pw_03</th>\n",
       "      <th>pw_04</th>\n",
       "      <th>pw_05</th>\n",
       "      <th>pw_06</th>\n",
       "      <th>pw_07</th>\n",
       "      <th>pw_08</th>\n",
       "      <th>ADM4_PCODE</th>\n",
       "      <th>lat</th>\n",
       "      <th>lon</th>\n",
       "      <th>NL</th>\n",
       "    </tr>\n",
       "  </thead>\n",
       "  <tbody>\n",
       "    <tr>\n",
       "      <td>0</td>\n",
       "      <td>41601001: Ward 1</td>\n",
       "      <td>1674.45058</td>\n",
       "      <td>5888.20750</td>\n",
       "      <td>16.773757</td>\n",
       "      <td>0.933841</td>\n",
       "      <td>0.000846</td>\n",
       "      <td>0.005490</td>\n",
       "      <td>0.000676</td>\n",
       "      <td>0.000000</td>\n",
       "      <td>0.001372</td>\n",
       "      <td>...</td>\n",
       "      <td>0.002848</td>\n",
       "      <td>0.007537</td>\n",
       "      <td>0.000000</td>\n",
       "      <td>0.012928</td>\n",
       "      <td>0</td>\n",
       "      <td>0</td>\n",
       "      <td>ZA4161001</td>\n",
       "      <td>-29.682270</td>\n",
       "      <td>24.734743</td>\n",
       "      <td>0.292039</td>\n",
       "    </tr>\n",
       "    <tr>\n",
       "      <td>1</td>\n",
       "      <td>41601002: Ward 2</td>\n",
       "      <td>1736.99230</td>\n",
       "      <td>6735.33812</td>\n",
       "      <td>21.496661</td>\n",
       "      <td>0.696940</td>\n",
       "      <td>0.001253</td>\n",
       "      <td>0.004402</td>\n",
       "      <td>0.000000</td>\n",
       "      <td>0.002301</td>\n",
       "      <td>0.001323</td>\n",
       "      <td>...</td>\n",
       "      <td>0.014566</td>\n",
       "      <td>0.057127</td>\n",
       "      <td>0.019092</td>\n",
       "      <td>0.004131</td>\n",
       "      <td>0</td>\n",
       "      <td>0</td>\n",
       "      <td>ZA4161002</td>\n",
       "      <td>-29.119311</td>\n",
       "      <td>24.757737</td>\n",
       "      <td>3.207775</td>\n",
       "    </tr>\n",
       "    <tr>\n",
       "      <td>2</td>\n",
       "      <td>41601003: Ward 3</td>\n",
       "      <td>2403.57591</td>\n",
       "      <td>7273.04995</td>\n",
       "      <td>10.931425</td>\n",
       "      <td>0.810545</td>\n",
       "      <td>0.004517</td>\n",
       "      <td>0.008891</td>\n",
       "      <td>0.003986</td>\n",
       "      <td>0.007735</td>\n",
       "      <td>0.000956</td>\n",
       "      <td>...</td>\n",
       "      <td>0.057560</td>\n",
       "      <td>0.010358</td>\n",
       "      <td>0.001421</td>\n",
       "      <td>0.040881</td>\n",
       "      <td>0</td>\n",
       "      <td>0</td>\n",
       "      <td>ZA4161003</td>\n",
       "      <td>-29.142276</td>\n",
       "      <td>25.094093</td>\n",
       "      <td>0.000000</td>\n",
       "    </tr>\n",
       "    <tr>\n",
       "      <td>3</td>\n",
       "      <td>41601004: Ward 4</td>\n",
       "      <td>1740.78737</td>\n",
       "      <td>5734.49046</td>\n",
       "      <td>23.119257</td>\n",
       "      <td>0.659914</td>\n",
       "      <td>0.000000</td>\n",
       "      <td>0.006129</td>\n",
       "      <td>0.000000</td>\n",
       "      <td>0.000813</td>\n",
       "      <td>0.037245</td>\n",
       "      <td>...</td>\n",
       "      <td>0.000000</td>\n",
       "      <td>0.000669</td>\n",
       "      <td>0.000000</td>\n",
       "      <td>0.005011</td>\n",
       "      <td>0</td>\n",
       "      <td>0</td>\n",
       "      <td>ZA4161004</td>\n",
       "      <td>-29.372052</td>\n",
       "      <td>24.942867</td>\n",
       "      <td>2.038778</td>\n",
       "    </tr>\n",
       "    <tr>\n",
       "      <td>4</td>\n",
       "      <td>41601005: Ward 5</td>\n",
       "      <td>1730.51451</td>\n",
       "      <td>6657.23835</td>\n",
       "      <td>13.652252</td>\n",
       "      <td>0.950575</td>\n",
       "      <td>0.000655</td>\n",
       "      <td>0.001473</td>\n",
       "      <td>0.000598</td>\n",
       "      <td>0.006999</td>\n",
       "      <td>0.000818</td>\n",
       "      <td>...</td>\n",
       "      <td>0.004859</td>\n",
       "      <td>0.001290</td>\n",
       "      <td>0.000673</td>\n",
       "      <td>0.017629</td>\n",
       "      <td>0</td>\n",
       "      <td>0</td>\n",
       "      <td>ZA4161005</td>\n",
       "      <td>-29.409381</td>\n",
       "      <td>25.290165</td>\n",
       "      <td>0.000000</td>\n",
       "    </tr>\n",
       "  </tbody>\n",
       "</table>\n",
       "<p>5 rows × 63 columns</p>\n",
       "</div>"
      ],
      "text/plain": [
       "               ward  total_households  total_individuals     target     dw_00  \\\n",
       "0  41601001: Ward 1        1674.45058         5888.20750  16.773757  0.933841   \n",
       "1  41601002: Ward 2        1736.99230         6735.33812  21.496661  0.696940   \n",
       "2  41601003: Ward 3        2403.57591         7273.04995  10.931425  0.810545   \n",
       "3  41601004: Ward 4        1740.78737         5734.49046  23.119257  0.659914   \n",
       "4  41601005: Ward 5        1730.51451         6657.23835  13.652252  0.950575   \n",
       "\n",
       "      dw_01     dw_02     dw_03     dw_04     dw_05  ...     pw_03     pw_04  \\\n",
       "0  0.000846  0.005490  0.000676  0.000000  0.001372  ...  0.002848  0.007537   \n",
       "1  0.001253  0.004402  0.000000  0.002301  0.001323  ...  0.014566  0.057127   \n",
       "2  0.004517  0.008891  0.003986  0.007735  0.000956  ...  0.057560  0.010358   \n",
       "3  0.000000  0.006129  0.000000  0.000813  0.037245  ...  0.000000  0.000669   \n",
       "4  0.000655  0.001473  0.000598  0.006999  0.000818  ...  0.004859  0.001290   \n",
       "\n",
       "      pw_05     pw_06  pw_07  pw_08  ADM4_PCODE        lat        lon  \\\n",
       "0  0.000000  0.012928      0      0   ZA4161001 -29.682270  24.734743   \n",
       "1  0.019092  0.004131      0      0   ZA4161002 -29.119311  24.757737   \n",
       "2  0.001421  0.040881      0      0   ZA4161003 -29.142276  25.094093   \n",
       "3  0.000000  0.005011      0      0   ZA4161004 -29.372052  24.942867   \n",
       "4  0.000673  0.017629      0      0   ZA4161005 -29.409381  25.290165   \n",
       "\n",
       "         NL  \n",
       "0  0.292039  \n",
       "1  3.207775  \n",
       "2  0.000000  \n",
       "3  2.038778  \n",
       "4  0.000000  \n",
       "\n",
       "[5 rows x 63 columns]"
      ]
     },
     "execution_count": 46,
     "metadata": {},
     "output_type": "execute_result"
    }
   ],
   "source": [
    "df.head() # to check the portion of the data"
   ]
  },
  {
   "cell_type": "code",
   "execution_count": 48,
   "metadata": {},
   "outputs": [
    {
     "data": {
      "text/html": [
       "<div>\n",
       "<style scoped>\n",
       "    .dataframe tbody tr th:only-of-type {\n",
       "        vertical-align: middle;\n",
       "    }\n",
       "\n",
       "    .dataframe tbody tr th {\n",
       "        vertical-align: top;\n",
       "    }\n",
       "\n",
       "    .dataframe thead th {\n",
       "        text-align: right;\n",
       "    }\n",
       "</style>\n",
       "<table border=\"1\" class=\"dataframe\">\n",
       "  <thead>\n",
       "    <tr style=\"text-align: right;\">\n",
       "      <th></th>\n",
       "      <th>ward</th>\n",
       "      <th>total_households</th>\n",
       "      <th>total_individuals</th>\n",
       "      <th>target</th>\n",
       "      <th>dw_00</th>\n",
       "      <th>dw_01</th>\n",
       "      <th>dw_02</th>\n",
       "      <th>dw_03</th>\n",
       "      <th>dw_04</th>\n",
       "      <th>dw_05</th>\n",
       "      <th>...</th>\n",
       "      <th>pw_03</th>\n",
       "      <th>pw_04</th>\n",
       "      <th>pw_05</th>\n",
       "      <th>pw_06</th>\n",
       "      <th>pw_07</th>\n",
       "      <th>pw_08</th>\n",
       "      <th>ADM4_PCODE</th>\n",
       "      <th>lat</th>\n",
       "      <th>lon</th>\n",
       "      <th>NL</th>\n",
       "    </tr>\n",
       "  </thead>\n",
       "  <tbody>\n",
       "    <tr>\n",
       "      <td>0</td>\n",
       "      <td>41601001: Ward 1</td>\n",
       "      <td>1674.45058</td>\n",
       "      <td>5888.20750</td>\n",
       "      <td>16.773757</td>\n",
       "      <td>0.933841</td>\n",
       "      <td>0.000846</td>\n",
       "      <td>0.005490</td>\n",
       "      <td>0.000676</td>\n",
       "      <td>0.000000</td>\n",
       "      <td>0.001372</td>\n",
       "      <td>...</td>\n",
       "      <td>0.002848</td>\n",
       "      <td>0.007537</td>\n",
       "      <td>0.000000</td>\n",
       "      <td>0.012928</td>\n",
       "      <td>0</td>\n",
       "      <td>0</td>\n",
       "      <td>ZA4161001</td>\n",
       "      <td>-29.682270</td>\n",
       "      <td>24.734743</td>\n",
       "      <td>0.292039</td>\n",
       "    </tr>\n",
       "    <tr>\n",
       "      <td>1</td>\n",
       "      <td>41601002: Ward 2</td>\n",
       "      <td>1736.99230</td>\n",
       "      <td>6735.33812</td>\n",
       "      <td>21.496661</td>\n",
       "      <td>0.696940</td>\n",
       "      <td>0.001253</td>\n",
       "      <td>0.004402</td>\n",
       "      <td>0.000000</td>\n",
       "      <td>0.002301</td>\n",
       "      <td>0.001323</td>\n",
       "      <td>...</td>\n",
       "      <td>0.014566</td>\n",
       "      <td>0.057127</td>\n",
       "      <td>0.019092</td>\n",
       "      <td>0.004131</td>\n",
       "      <td>0</td>\n",
       "      <td>0</td>\n",
       "      <td>ZA4161002</td>\n",
       "      <td>-29.119311</td>\n",
       "      <td>24.757737</td>\n",
       "      <td>3.207775</td>\n",
       "    </tr>\n",
       "    <tr>\n",
       "      <td>2</td>\n",
       "      <td>41601003: Ward 3</td>\n",
       "      <td>2403.57591</td>\n",
       "      <td>7273.04995</td>\n",
       "      <td>10.931425</td>\n",
       "      <td>0.810545</td>\n",
       "      <td>0.004517</td>\n",
       "      <td>0.008891</td>\n",
       "      <td>0.003986</td>\n",
       "      <td>0.007735</td>\n",
       "      <td>0.000956</td>\n",
       "      <td>...</td>\n",
       "      <td>0.057560</td>\n",
       "      <td>0.010358</td>\n",
       "      <td>0.001421</td>\n",
       "      <td>0.040881</td>\n",
       "      <td>0</td>\n",
       "      <td>0</td>\n",
       "      <td>ZA4161003</td>\n",
       "      <td>-29.142276</td>\n",
       "      <td>25.094093</td>\n",
       "      <td>0.000000</td>\n",
       "    </tr>\n",
       "    <tr>\n",
       "      <td>3</td>\n",
       "      <td>41601004: Ward 4</td>\n",
       "      <td>1740.78737</td>\n",
       "      <td>5734.49046</td>\n",
       "      <td>23.119257</td>\n",
       "      <td>0.659914</td>\n",
       "      <td>0.000000</td>\n",
       "      <td>0.006129</td>\n",
       "      <td>0.000000</td>\n",
       "      <td>0.000813</td>\n",
       "      <td>0.037245</td>\n",
       "      <td>...</td>\n",
       "      <td>0.000000</td>\n",
       "      <td>0.000669</td>\n",
       "      <td>0.000000</td>\n",
       "      <td>0.005011</td>\n",
       "      <td>0</td>\n",
       "      <td>0</td>\n",
       "      <td>ZA4161004</td>\n",
       "      <td>-29.372052</td>\n",
       "      <td>24.942867</td>\n",
       "      <td>2.038778</td>\n",
       "    </tr>\n",
       "    <tr>\n",
       "      <td>4</td>\n",
       "      <td>41601005: Ward 5</td>\n",
       "      <td>1730.51451</td>\n",
       "      <td>6657.23835</td>\n",
       "      <td>13.652252</td>\n",
       "      <td>0.950575</td>\n",
       "      <td>0.000655</td>\n",
       "      <td>0.001473</td>\n",
       "      <td>0.000598</td>\n",
       "      <td>0.006999</td>\n",
       "      <td>0.000818</td>\n",
       "      <td>...</td>\n",
       "      <td>0.004859</td>\n",
       "      <td>0.001290</td>\n",
       "      <td>0.000673</td>\n",
       "      <td>0.017629</td>\n",
       "      <td>0</td>\n",
       "      <td>0</td>\n",
       "      <td>ZA4161005</td>\n",
       "      <td>-29.409381</td>\n",
       "      <td>25.290165</td>\n",
       "      <td>0.000000</td>\n",
       "    </tr>\n",
       "    <tr>\n",
       "      <td>5</td>\n",
       "      <td>41601006: Ward 6</td>\n",
       "      <td>1956.16888</td>\n",
       "      <td>6340.05782</td>\n",
       "      <td>25.249880</td>\n",
       "      <td>0.766832</td>\n",
       "      <td>0.000579</td>\n",
       "      <td>0.005874</td>\n",
       "      <td>0.000000</td>\n",
       "      <td>0.000000</td>\n",
       "      <td>0.001448</td>\n",
       "      <td>...</td>\n",
       "      <td>0.020771</td>\n",
       "      <td>0.002275</td>\n",
       "      <td>0.024184</td>\n",
       "      <td>0.039423</td>\n",
       "      <td>0</td>\n",
       "      <td>0</td>\n",
       "      <td>ZA4161006</td>\n",
       "      <td>-29.126870</td>\n",
       "      <td>25.410360</td>\n",
       "      <td>1.464541</td>\n",
       "    </tr>\n",
       "    <tr>\n",
       "      <td>6</td>\n",
       "      <td>41602001: Ward 1</td>\n",
       "      <td>1966.40293</td>\n",
       "      <td>6230.77491</td>\n",
       "      <td>19.984585</td>\n",
       "      <td>0.908400</td>\n",
       "      <td>0.006857</td>\n",
       "      <td>0.002941</td>\n",
       "      <td>0.000576</td>\n",
       "      <td>0.000720</td>\n",
       "      <td>0.001905</td>\n",
       "      <td>...</td>\n",
       "      <td>0.003827</td>\n",
       "      <td>0.000509</td>\n",
       "      <td>0.002542</td>\n",
       "      <td>0.020192</td>\n",
       "      <td>0</td>\n",
       "      <td>0</td>\n",
       "      <td>ZA4162001</td>\n",
       "      <td>-29.640860</td>\n",
       "      <td>26.091774</td>\n",
       "      <td>0.821738</td>\n",
       "    </tr>\n",
       "    <tr>\n",
       "      <td>7</td>\n",
       "      <td>41602002: Ward 2</td>\n",
       "      <td>2214.44168</td>\n",
       "      <td>6873.93123</td>\n",
       "      <td>16.511081</td>\n",
       "      <td>0.890079</td>\n",
       "      <td>0.004549</td>\n",
       "      <td>0.002262</td>\n",
       "      <td>0.001151</td>\n",
       "      <td>0.000512</td>\n",
       "      <td>0.001805</td>\n",
       "      <td>...</td>\n",
       "      <td>0.006364</td>\n",
       "      <td>0.001279</td>\n",
       "      <td>0.000526</td>\n",
       "      <td>0.025246</td>\n",
       "      <td>0</td>\n",
       "      <td>0</td>\n",
       "      <td>ZA4162002</td>\n",
       "      <td>-30.029163</td>\n",
       "      <td>25.917164</td>\n",
       "      <td>0.000000</td>\n",
       "    </tr>\n",
       "    <tr>\n",
       "      <td>8</td>\n",
       "      <td>41602003: Ward 3</td>\n",
       "      <td>2022.95917</td>\n",
       "      <td>6736.49015</td>\n",
       "      <td>25.962117</td>\n",
       "      <td>0.912298</td>\n",
       "      <td>0.002799</td>\n",
       "      <td>0.003688</td>\n",
       "      <td>0.000560</td>\n",
       "      <td>0.001260</td>\n",
       "      <td>0.000560</td>\n",
       "      <td>...</td>\n",
       "      <td>0.006109</td>\n",
       "      <td>0.001276</td>\n",
       "      <td>0.000000</td>\n",
       "      <td>0.008791</td>\n",
       "      <td>0</td>\n",
       "      <td>0</td>\n",
       "      <td>ZA4162003</td>\n",
       "      <td>-30.462176</td>\n",
       "      <td>26.133170</td>\n",
       "      <td>0.000000</td>\n",
       "    </tr>\n",
       "    <tr>\n",
       "      <td>9</td>\n",
       "      <td>41602004: Ward 4</td>\n",
       "      <td>1775.53323</td>\n",
       "      <td>5682.10110</td>\n",
       "      <td>21.744166</td>\n",
       "      <td>0.882665</td>\n",
       "      <td>0.005227</td>\n",
       "      <td>0.009128</td>\n",
       "      <td>0.000000</td>\n",
       "      <td>0.003687</td>\n",
       "      <td>0.002839</td>\n",
       "      <td>...</td>\n",
       "      <td>0.002644</td>\n",
       "      <td>0.000000</td>\n",
       "      <td>0.000583</td>\n",
       "      <td>0.002073</td>\n",
       "      <td>0</td>\n",
       "      <td>0</td>\n",
       "      <td>ZA4162004</td>\n",
       "      <td>-30.420421</td>\n",
       "      <td>25.351630</td>\n",
       "      <td>0.000000</td>\n",
       "    </tr>\n",
       "  </tbody>\n",
       "</table>\n",
       "<p>10 rows × 63 columns</p>\n",
       "</div>"
      ],
      "text/plain": [
       "               ward  total_households  total_individuals     target     dw_00  \\\n",
       "0  41601001: Ward 1        1674.45058         5888.20750  16.773757  0.933841   \n",
       "1  41601002: Ward 2        1736.99230         6735.33812  21.496661  0.696940   \n",
       "2  41601003: Ward 3        2403.57591         7273.04995  10.931425  0.810545   \n",
       "3  41601004: Ward 4        1740.78737         5734.49046  23.119257  0.659914   \n",
       "4  41601005: Ward 5        1730.51451         6657.23835  13.652252  0.950575   \n",
       "5  41601006: Ward 6        1956.16888         6340.05782  25.249880  0.766832   \n",
       "6  41602001: Ward 1        1966.40293         6230.77491  19.984585  0.908400   \n",
       "7  41602002: Ward 2        2214.44168         6873.93123  16.511081  0.890079   \n",
       "8  41602003: Ward 3        2022.95917         6736.49015  25.962117  0.912298   \n",
       "9  41602004: Ward 4        1775.53323         5682.10110  21.744166  0.882665   \n",
       "\n",
       "      dw_01     dw_02     dw_03     dw_04     dw_05  ...     pw_03     pw_04  \\\n",
       "0  0.000846  0.005490  0.000676  0.000000  0.001372  ...  0.002848  0.007537   \n",
       "1  0.001253  0.004402  0.000000  0.002301  0.001323  ...  0.014566  0.057127   \n",
       "2  0.004517  0.008891  0.003986  0.007735  0.000956  ...  0.057560  0.010358   \n",
       "3  0.000000  0.006129  0.000000  0.000813  0.037245  ...  0.000000  0.000669   \n",
       "4  0.000655  0.001473  0.000598  0.006999  0.000818  ...  0.004859  0.001290   \n",
       "5  0.000579  0.005874  0.000000  0.000000  0.001448  ...  0.020771  0.002275   \n",
       "6  0.006857  0.002941  0.000576  0.000720  0.001905  ...  0.003827  0.000509   \n",
       "7  0.004549  0.002262  0.001151  0.000512  0.001805  ...  0.006364  0.001279   \n",
       "8  0.002799  0.003688  0.000560  0.001260  0.000560  ...  0.006109  0.001276   \n",
       "9  0.005227  0.009128  0.000000  0.003687  0.002839  ...  0.002644  0.000000   \n",
       "\n",
       "      pw_05     pw_06  pw_07  pw_08  ADM4_PCODE        lat        lon  \\\n",
       "0  0.000000  0.012928      0      0   ZA4161001 -29.682270  24.734743   \n",
       "1  0.019092  0.004131      0      0   ZA4161002 -29.119311  24.757737   \n",
       "2  0.001421  0.040881      0      0   ZA4161003 -29.142276  25.094093   \n",
       "3  0.000000  0.005011      0      0   ZA4161004 -29.372052  24.942867   \n",
       "4  0.000673  0.017629      0      0   ZA4161005 -29.409381  25.290165   \n",
       "5  0.024184  0.039423      0      0   ZA4161006 -29.126870  25.410360   \n",
       "6  0.002542  0.020192      0      0   ZA4162001 -29.640860  26.091774   \n",
       "7  0.000526  0.025246      0      0   ZA4162002 -30.029163  25.917164   \n",
       "8  0.000000  0.008791      0      0   ZA4162003 -30.462176  26.133170   \n",
       "9  0.000583  0.002073      0      0   ZA4162004 -30.420421  25.351630   \n",
       "\n",
       "         NL  \n",
       "0  0.292039  \n",
       "1  3.207775  \n",
       "2  0.000000  \n",
       "3  2.038778  \n",
       "4  0.000000  \n",
       "5  1.464541  \n",
       "6  0.821738  \n",
       "7  0.000000  \n",
       "8  0.000000  \n",
       "9  0.000000  \n",
       "\n",
       "[10 rows x 63 columns]"
      ]
     },
     "execution_count": 48,
     "metadata": {},
     "output_type": "execute_result"
    }
   ],
   "source": [
    "df.head(10) # this is used to check d protion of d data for 10 indent instead of d 5 for defaults"
   ]
  },
  {
   "cell_type": "code",
   "execution_count": 49,
   "metadata": {},
   "outputs": [
    {
     "data": {
      "text/html": [
       "<div>\n",
       "<style scoped>\n",
       "    .dataframe tbody tr th:only-of-type {\n",
       "        vertical-align: middle;\n",
       "    }\n",
       "\n",
       "    .dataframe tbody tr th {\n",
       "        vertical-align: top;\n",
       "    }\n",
       "\n",
       "    .dataframe thead th {\n",
       "        text-align: right;\n",
       "    }\n",
       "</style>\n",
       "<table border=\"1\" class=\"dataframe\">\n",
       "  <thead>\n",
       "    <tr style=\"text-align: right;\">\n",
       "      <th></th>\n",
       "      <th>ward</th>\n",
       "      <th>total_households</th>\n",
       "      <th>total_individuals</th>\n",
       "      <th>target</th>\n",
       "      <th>dw_00</th>\n",
       "      <th>dw_01</th>\n",
       "      <th>dw_02</th>\n",
       "      <th>dw_03</th>\n",
       "      <th>dw_04</th>\n",
       "      <th>dw_05</th>\n",
       "      <th>...</th>\n",
       "      <th>pw_03</th>\n",
       "      <th>pw_04</th>\n",
       "      <th>pw_05</th>\n",
       "      <th>pw_06</th>\n",
       "      <th>pw_07</th>\n",
       "      <th>pw_08</th>\n",
       "      <th>ADM4_PCODE</th>\n",
       "      <th>lat</th>\n",
       "      <th>lon</th>\n",
       "      <th>NL</th>\n",
       "    </tr>\n",
       "  </thead>\n",
       "  <tbody>\n",
       "    <tr>\n",
       "      <td>2817</td>\n",
       "      <td>34503001: Ward 1</td>\n",
       "      <td>3261.68067</td>\n",
       "      <td>11551.56486</td>\n",
       "      <td>6.393480</td>\n",
       "      <td>0.874972</td>\n",
       "      <td>0.003146</td>\n",
       "      <td>0.017230</td>\n",
       "      <td>0.004735</td>\n",
       "      <td>0.048888</td>\n",
       "      <td>0.000654</td>\n",
       "      <td>...</td>\n",
       "      <td>0.000472</td>\n",
       "      <td>0.000472</td>\n",
       "      <td>0.000000</td>\n",
       "      <td>0.006203</td>\n",
       "      <td>0</td>\n",
       "      <td>0</td>\n",
       "      <td>ZA3453001</td>\n",
       "      <td>-27.675590</td>\n",
       "      <td>23.057920</td>\n",
       "      <td>9.118927</td>\n",
       "    </tr>\n",
       "    <tr>\n",
       "      <td>2818</td>\n",
       "      <td>34503002: Ward 2</td>\n",
       "      <td>1463.06432</td>\n",
       "      <td>7908.90411</td>\n",
       "      <td>15.668000</td>\n",
       "      <td>0.636235</td>\n",
       "      <td>0.002262</td>\n",
       "      <td>0.010433</td>\n",
       "      <td>0.000000</td>\n",
       "      <td>0.003030</td>\n",
       "      <td>0.000000</td>\n",
       "      <td>...</td>\n",
       "      <td>0.003030</td>\n",
       "      <td>0.000713</td>\n",
       "      <td>0.000000</td>\n",
       "      <td>0.008414</td>\n",
       "      <td>0</td>\n",
       "      <td>0</td>\n",
       "      <td>ZA3453002</td>\n",
       "      <td>-27.591408</td>\n",
       "      <td>22.907161</td>\n",
       "      <td>1.697395</td>\n",
       "    </tr>\n",
       "    <tr>\n",
       "      <td>2819</td>\n",
       "      <td>34503003: Ward 3</td>\n",
       "      <td>1395.18881</td>\n",
       "      <td>6242.37527</td>\n",
       "      <td>13.238795</td>\n",
       "      <td>0.855975</td>\n",
       "      <td>0.006601</td>\n",
       "      <td>0.061118</td>\n",
       "      <td>0.000812</td>\n",
       "      <td>0.003912</td>\n",
       "      <td>0.000812</td>\n",
       "      <td>...</td>\n",
       "      <td>0.002150</td>\n",
       "      <td>0.001458</td>\n",
       "      <td>0.000000</td>\n",
       "      <td>0.003670</td>\n",
       "      <td>0</td>\n",
       "      <td>0</td>\n",
       "      <td>ZA3453003</td>\n",
       "      <td>-27.952550</td>\n",
       "      <td>22.749698</td>\n",
       "      <td>2.792501</td>\n",
       "    </tr>\n",
       "    <tr>\n",
       "      <td>2820</td>\n",
       "      <td>34503004: Ward 4</td>\n",
       "      <td>1679.66964</td>\n",
       "      <td>8014.73089</td>\n",
       "      <td>17.639523</td>\n",
       "      <td>0.792552</td>\n",
       "      <td>0.004423</td>\n",
       "      <td>0.016099</td>\n",
       "      <td>0.000000</td>\n",
       "      <td>0.000674</td>\n",
       "      <td>0.000000</td>\n",
       "      <td>...</td>\n",
       "      <td>0.009235</td>\n",
       "      <td>0.007870</td>\n",
       "      <td>0.000000</td>\n",
       "      <td>0.004803</td>\n",
       "      <td>0</td>\n",
       "      <td>0</td>\n",
       "      <td>ZA3453004</td>\n",
       "      <td>-27.913875</td>\n",
       "      <td>22.755314</td>\n",
       "      <td>2.793699</td>\n",
       "    </tr>\n",
       "    <tr>\n",
       "      <td>2821</td>\n",
       "      <td>34503005: Ward 5</td>\n",
       "      <td>3008.38687</td>\n",
       "      <td>7899.36498</td>\n",
       "      <td>12.457680</td>\n",
       "      <td>0.254215</td>\n",
       "      <td>0.003310</td>\n",
       "      <td>0.121954</td>\n",
       "      <td>0.000000</td>\n",
       "      <td>0.001770</td>\n",
       "      <td>0.001023</td>\n",
       "      <td>...</td>\n",
       "      <td>0.003107</td>\n",
       "      <td>0.001636</td>\n",
       "      <td>0.000332</td>\n",
       "      <td>0.001770</td>\n",
       "      <td>0</td>\n",
       "      <td>0</td>\n",
       "      <td>ZA3453005</td>\n",
       "      <td>-27.741804</td>\n",
       "      <td>22.856933</td>\n",
       "      <td>0.001200</td>\n",
       "    </tr>\n",
       "  </tbody>\n",
       "</table>\n",
       "<p>5 rows × 63 columns</p>\n",
       "</div>"
      ],
      "text/plain": [
       "                  ward  total_households  total_individuals     target  \\\n",
       "2817  34503001: Ward 1        3261.68067        11551.56486   6.393480   \n",
       "2818  34503002: Ward 2        1463.06432         7908.90411  15.668000   \n",
       "2819  34503003: Ward 3        1395.18881         6242.37527  13.238795   \n",
       "2820  34503004: Ward 4        1679.66964         8014.73089  17.639523   \n",
       "2821  34503005: Ward 5        3008.38687         7899.36498  12.457680   \n",
       "\n",
       "         dw_00     dw_01     dw_02     dw_03     dw_04     dw_05  ...  \\\n",
       "2817  0.874972  0.003146  0.017230  0.004735  0.048888  0.000654  ...   \n",
       "2818  0.636235  0.002262  0.010433  0.000000  0.003030  0.000000  ...   \n",
       "2819  0.855975  0.006601  0.061118  0.000812  0.003912  0.000812  ...   \n",
       "2820  0.792552  0.004423  0.016099  0.000000  0.000674  0.000000  ...   \n",
       "2821  0.254215  0.003310  0.121954  0.000000  0.001770  0.001023  ...   \n",
       "\n",
       "         pw_03     pw_04     pw_05     pw_06  pw_07  pw_08  ADM4_PCODE  \\\n",
       "2817  0.000472  0.000472  0.000000  0.006203      0      0   ZA3453001   \n",
       "2818  0.003030  0.000713  0.000000  0.008414      0      0   ZA3453002   \n",
       "2819  0.002150  0.001458  0.000000  0.003670      0      0   ZA3453003   \n",
       "2820  0.009235  0.007870  0.000000  0.004803      0      0   ZA3453004   \n",
       "2821  0.003107  0.001636  0.000332  0.001770      0      0   ZA3453005   \n",
       "\n",
       "            lat        lon        NL  \n",
       "2817 -27.675590  23.057920  9.118927  \n",
       "2818 -27.591408  22.907161  1.697395  \n",
       "2819 -27.952550  22.749698  2.792501  \n",
       "2820 -27.913875  22.755314  2.793699  \n",
       "2821 -27.741804  22.856933  0.001200  \n",
       "\n",
       "[5 rows x 63 columns]"
      ]
     },
     "execution_count": 49,
     "metadata": {},
     "output_type": "execute_result"
    }
   ],
   "source": [
    "df.tail() # this is used to check d portion for tail with 5 as default"
   ]
  },
  {
   "cell_type": "code",
   "execution_count": 50,
   "metadata": {},
   "outputs": [
    {
     "data": {
      "text/html": [
       "<div>\n",
       "<style scoped>\n",
       "    .dataframe tbody tr th:only-of-type {\n",
       "        vertical-align: middle;\n",
       "    }\n",
       "\n",
       "    .dataframe tbody tr th {\n",
       "        vertical-align: top;\n",
       "    }\n",
       "\n",
       "    .dataframe thead th {\n",
       "        text-align: right;\n",
       "    }\n",
       "</style>\n",
       "<table border=\"1\" class=\"dataframe\">\n",
       "  <thead>\n",
       "    <tr style=\"text-align: right;\">\n",
       "      <th></th>\n",
       "      <th>ward</th>\n",
       "      <th>total_households</th>\n",
       "      <th>total_individuals</th>\n",
       "      <th>target</th>\n",
       "      <th>dw_00</th>\n",
       "      <th>dw_01</th>\n",
       "      <th>dw_02</th>\n",
       "      <th>dw_03</th>\n",
       "      <th>dw_04</th>\n",
       "      <th>dw_05</th>\n",
       "      <th>...</th>\n",
       "      <th>pw_03</th>\n",
       "      <th>pw_04</th>\n",
       "      <th>pw_05</th>\n",
       "      <th>pw_06</th>\n",
       "      <th>pw_07</th>\n",
       "      <th>pw_08</th>\n",
       "      <th>ADM4_PCODE</th>\n",
       "      <th>lat</th>\n",
       "      <th>lon</th>\n",
       "      <th>NL</th>\n",
       "    </tr>\n",
       "  </thead>\n",
       "  <tbody>\n",
       "    <tr>\n",
       "      <td>2812</td>\n",
       "      <td>34502009: Ward 9</td>\n",
       "      <td>964.17366</td>\n",
       "      <td>3784.03630</td>\n",
       "      <td>30.593096</td>\n",
       "      <td>0.702412</td>\n",
       "      <td>0.133519</td>\n",
       "      <td>0.002711</td>\n",
       "      <td>0.002122</td>\n",
       "      <td>0.000000</td>\n",
       "      <td>0.000000</td>\n",
       "      <td>...</td>\n",
       "      <td>0.183343</td>\n",
       "      <td>0.079679</td>\n",
       "      <td>0.051607</td>\n",
       "      <td>0.007202</td>\n",
       "      <td>0</td>\n",
       "      <td>0</td>\n",
       "      <td>ZA3452009</td>\n",
       "      <td>-27.363593</td>\n",
       "      <td>23.356092</td>\n",
       "      <td>4.588434</td>\n",
       "    </tr>\n",
       "    <tr>\n",
       "      <td>2813</td>\n",
       "      <td>34502010: Ward 10</td>\n",
       "      <td>2915.45302</td>\n",
       "      <td>11176.02950</td>\n",
       "      <td>26.177120</td>\n",
       "      <td>0.819065</td>\n",
       "      <td>0.082802</td>\n",
       "      <td>0.005098</td>\n",
       "      <td>0.000355</td>\n",
       "      <td>0.000369</td>\n",
       "      <td>0.000000</td>\n",
       "      <td>...</td>\n",
       "      <td>0.204246</td>\n",
       "      <td>0.068946</td>\n",
       "      <td>0.047383</td>\n",
       "      <td>0.011443</td>\n",
       "      <td>0</td>\n",
       "      <td>0</td>\n",
       "      <td>ZA3452010</td>\n",
       "      <td>-27.331466</td>\n",
       "      <td>23.320439</td>\n",
       "      <td>3.911402</td>\n",
       "    </tr>\n",
       "    <tr>\n",
       "      <td>2814</td>\n",
       "      <td>34502011: Ward 11</td>\n",
       "      <td>1906.32047</td>\n",
       "      <td>6932.78429</td>\n",
       "      <td>21.439577</td>\n",
       "      <td>0.831636</td>\n",
       "      <td>0.023670</td>\n",
       "      <td>0.006449</td>\n",
       "      <td>0.017388</td>\n",
       "      <td>0.000000</td>\n",
       "      <td>0.002779</td>\n",
       "      <td>...</td>\n",
       "      <td>0.182566</td>\n",
       "      <td>0.104331</td>\n",
       "      <td>0.018653</td>\n",
       "      <td>0.005648</td>\n",
       "      <td>0</td>\n",
       "      <td>0</td>\n",
       "      <td>ZA3452011</td>\n",
       "      <td>-27.676921</td>\n",
       "      <td>23.600285</td>\n",
       "      <td>0.000000</td>\n",
       "    </tr>\n",
       "    <tr>\n",
       "      <td>2815</td>\n",
       "      <td>34502012: Ward 12</td>\n",
       "      <td>2797.24959</td>\n",
       "      <td>10294.11620</td>\n",
       "      <td>29.065233</td>\n",
       "      <td>0.774917</td>\n",
       "      <td>0.081462</td>\n",
       "      <td>0.003547</td>\n",
       "      <td>0.000731</td>\n",
       "      <td>0.000447</td>\n",
       "      <td>0.001505</td>\n",
       "      <td>...</td>\n",
       "      <td>0.188973</td>\n",
       "      <td>0.080660</td>\n",
       "      <td>0.030488</td>\n",
       "      <td>0.025442</td>\n",
       "      <td>0</td>\n",
       "      <td>0</td>\n",
       "      <td>ZA3452012</td>\n",
       "      <td>-27.338311</td>\n",
       "      <td>23.437549</td>\n",
       "      <td>4.152665</td>\n",
       "    </tr>\n",
       "    <tr>\n",
       "      <td>2816</td>\n",
       "      <td>34502013: Ward 13</td>\n",
       "      <td>1472.32727</td>\n",
       "      <td>6850.95588</td>\n",
       "      <td>15.288742</td>\n",
       "      <td>0.766408</td>\n",
       "      <td>0.084505</td>\n",
       "      <td>0.008503</td>\n",
       "      <td>0.000703</td>\n",
       "      <td>0.000849</td>\n",
       "      <td>0.052410</td>\n",
       "      <td>...</td>\n",
       "      <td>0.004380</td>\n",
       "      <td>0.000679</td>\n",
       "      <td>0.000000</td>\n",
       "      <td>0.035567</td>\n",
       "      <td>0</td>\n",
       "      <td>0</td>\n",
       "      <td>ZA3452013</td>\n",
       "      <td>-27.449982</td>\n",
       "      <td>23.468677</td>\n",
       "      <td>8.514053</td>\n",
       "    </tr>\n",
       "    <tr>\n",
       "      <td>2817</td>\n",
       "      <td>34503001: Ward 1</td>\n",
       "      <td>3261.68067</td>\n",
       "      <td>11551.56486</td>\n",
       "      <td>6.393480</td>\n",
       "      <td>0.874972</td>\n",
       "      <td>0.003146</td>\n",
       "      <td>0.017230</td>\n",
       "      <td>0.004735</td>\n",
       "      <td>0.048888</td>\n",
       "      <td>0.000654</td>\n",
       "      <td>...</td>\n",
       "      <td>0.000472</td>\n",
       "      <td>0.000472</td>\n",
       "      <td>0.000000</td>\n",
       "      <td>0.006203</td>\n",
       "      <td>0</td>\n",
       "      <td>0</td>\n",
       "      <td>ZA3453001</td>\n",
       "      <td>-27.675590</td>\n",
       "      <td>23.057920</td>\n",
       "      <td>9.118927</td>\n",
       "    </tr>\n",
       "    <tr>\n",
       "      <td>2818</td>\n",
       "      <td>34503002: Ward 2</td>\n",
       "      <td>1463.06432</td>\n",
       "      <td>7908.90411</td>\n",
       "      <td>15.668000</td>\n",
       "      <td>0.636235</td>\n",
       "      <td>0.002262</td>\n",
       "      <td>0.010433</td>\n",
       "      <td>0.000000</td>\n",
       "      <td>0.003030</td>\n",
       "      <td>0.000000</td>\n",
       "      <td>...</td>\n",
       "      <td>0.003030</td>\n",
       "      <td>0.000713</td>\n",
       "      <td>0.000000</td>\n",
       "      <td>0.008414</td>\n",
       "      <td>0</td>\n",
       "      <td>0</td>\n",
       "      <td>ZA3453002</td>\n",
       "      <td>-27.591408</td>\n",
       "      <td>22.907161</td>\n",
       "      <td>1.697395</td>\n",
       "    </tr>\n",
       "    <tr>\n",
       "      <td>2819</td>\n",
       "      <td>34503003: Ward 3</td>\n",
       "      <td>1395.18881</td>\n",
       "      <td>6242.37527</td>\n",
       "      <td>13.238795</td>\n",
       "      <td>0.855975</td>\n",
       "      <td>0.006601</td>\n",
       "      <td>0.061118</td>\n",
       "      <td>0.000812</td>\n",
       "      <td>0.003912</td>\n",
       "      <td>0.000812</td>\n",
       "      <td>...</td>\n",
       "      <td>0.002150</td>\n",
       "      <td>0.001458</td>\n",
       "      <td>0.000000</td>\n",
       "      <td>0.003670</td>\n",
       "      <td>0</td>\n",
       "      <td>0</td>\n",
       "      <td>ZA3453003</td>\n",
       "      <td>-27.952550</td>\n",
       "      <td>22.749698</td>\n",
       "      <td>2.792501</td>\n",
       "    </tr>\n",
       "    <tr>\n",
       "      <td>2820</td>\n",
       "      <td>34503004: Ward 4</td>\n",
       "      <td>1679.66964</td>\n",
       "      <td>8014.73089</td>\n",
       "      <td>17.639523</td>\n",
       "      <td>0.792552</td>\n",
       "      <td>0.004423</td>\n",
       "      <td>0.016099</td>\n",
       "      <td>0.000000</td>\n",
       "      <td>0.000674</td>\n",
       "      <td>0.000000</td>\n",
       "      <td>...</td>\n",
       "      <td>0.009235</td>\n",
       "      <td>0.007870</td>\n",
       "      <td>0.000000</td>\n",
       "      <td>0.004803</td>\n",
       "      <td>0</td>\n",
       "      <td>0</td>\n",
       "      <td>ZA3453004</td>\n",
       "      <td>-27.913875</td>\n",
       "      <td>22.755314</td>\n",
       "      <td>2.793699</td>\n",
       "    </tr>\n",
       "    <tr>\n",
       "      <td>2821</td>\n",
       "      <td>34503005: Ward 5</td>\n",
       "      <td>3008.38687</td>\n",
       "      <td>7899.36498</td>\n",
       "      <td>12.457680</td>\n",
       "      <td>0.254215</td>\n",
       "      <td>0.003310</td>\n",
       "      <td>0.121954</td>\n",
       "      <td>0.000000</td>\n",
       "      <td>0.001770</td>\n",
       "      <td>0.001023</td>\n",
       "      <td>...</td>\n",
       "      <td>0.003107</td>\n",
       "      <td>0.001636</td>\n",
       "      <td>0.000332</td>\n",
       "      <td>0.001770</td>\n",
       "      <td>0</td>\n",
       "      <td>0</td>\n",
       "      <td>ZA3453005</td>\n",
       "      <td>-27.741804</td>\n",
       "      <td>22.856933</td>\n",
       "      <td>0.001200</td>\n",
       "    </tr>\n",
       "  </tbody>\n",
       "</table>\n",
       "<p>10 rows × 63 columns</p>\n",
       "</div>"
      ],
      "text/plain": [
       "                   ward  total_households  total_individuals     target  \\\n",
       "2812   34502009: Ward 9         964.17366         3784.03630  30.593096   \n",
       "2813  34502010: Ward 10        2915.45302        11176.02950  26.177120   \n",
       "2814  34502011: Ward 11        1906.32047         6932.78429  21.439577   \n",
       "2815  34502012: Ward 12        2797.24959        10294.11620  29.065233   \n",
       "2816  34502013: Ward 13        1472.32727         6850.95588  15.288742   \n",
       "2817   34503001: Ward 1        3261.68067        11551.56486   6.393480   \n",
       "2818   34503002: Ward 2        1463.06432         7908.90411  15.668000   \n",
       "2819   34503003: Ward 3        1395.18881         6242.37527  13.238795   \n",
       "2820   34503004: Ward 4        1679.66964         8014.73089  17.639523   \n",
       "2821   34503005: Ward 5        3008.38687         7899.36498  12.457680   \n",
       "\n",
       "         dw_00     dw_01     dw_02     dw_03     dw_04     dw_05  ...  \\\n",
       "2812  0.702412  0.133519  0.002711  0.002122  0.000000  0.000000  ...   \n",
       "2813  0.819065  0.082802  0.005098  0.000355  0.000369  0.000000  ...   \n",
       "2814  0.831636  0.023670  0.006449  0.017388  0.000000  0.002779  ...   \n",
       "2815  0.774917  0.081462  0.003547  0.000731  0.000447  0.001505  ...   \n",
       "2816  0.766408  0.084505  0.008503  0.000703  0.000849  0.052410  ...   \n",
       "2817  0.874972  0.003146  0.017230  0.004735  0.048888  0.000654  ...   \n",
       "2818  0.636235  0.002262  0.010433  0.000000  0.003030  0.000000  ...   \n",
       "2819  0.855975  0.006601  0.061118  0.000812  0.003912  0.000812  ...   \n",
       "2820  0.792552  0.004423  0.016099  0.000000  0.000674  0.000000  ...   \n",
       "2821  0.254215  0.003310  0.121954  0.000000  0.001770  0.001023  ...   \n",
       "\n",
       "         pw_03     pw_04     pw_05     pw_06  pw_07  pw_08  ADM4_PCODE  \\\n",
       "2812  0.183343  0.079679  0.051607  0.007202      0      0   ZA3452009   \n",
       "2813  0.204246  0.068946  0.047383  0.011443      0      0   ZA3452010   \n",
       "2814  0.182566  0.104331  0.018653  0.005648      0      0   ZA3452011   \n",
       "2815  0.188973  0.080660  0.030488  0.025442      0      0   ZA3452012   \n",
       "2816  0.004380  0.000679  0.000000  0.035567      0      0   ZA3452013   \n",
       "2817  0.000472  0.000472  0.000000  0.006203      0      0   ZA3453001   \n",
       "2818  0.003030  0.000713  0.000000  0.008414      0      0   ZA3453002   \n",
       "2819  0.002150  0.001458  0.000000  0.003670      0      0   ZA3453003   \n",
       "2820  0.009235  0.007870  0.000000  0.004803      0      0   ZA3453004   \n",
       "2821  0.003107  0.001636  0.000332  0.001770      0      0   ZA3453005   \n",
       "\n",
       "            lat        lon        NL  \n",
       "2812 -27.363593  23.356092  4.588434  \n",
       "2813 -27.331466  23.320439  3.911402  \n",
       "2814 -27.676921  23.600285  0.000000  \n",
       "2815 -27.338311  23.437549  4.152665  \n",
       "2816 -27.449982  23.468677  8.514053  \n",
       "2817 -27.675590  23.057920  9.118927  \n",
       "2818 -27.591408  22.907161  1.697395  \n",
       "2819 -27.952550  22.749698  2.792501  \n",
       "2820 -27.913875  22.755314  2.793699  \n",
       "2821 -27.741804  22.856933  0.001200  \n",
       "\n",
       "[10 rows x 63 columns]"
      ]
     },
     "execution_count": 50,
     "metadata": {},
     "output_type": "execute_result"
    }
   ],
   "source": [
    "df.tail(10) # this is used to check d portion for tail with 10"
   ]
  },
  {
   "cell_type": "code",
   "execution_count": 56,
   "metadata": {},
   "outputs": [
    {
     "ename": "AttributeError",
     "evalue": "'DataFrame' object has no attribute 'column'",
     "output_type": "error",
     "traceback": [
      "\u001b[1;31m---------------------------------------------------------------------------\u001b[0m",
      "\u001b[1;31mAttributeError\u001b[0m                            Traceback (most recent call last)",
      "\u001b[1;32m<ipython-input-56-2f3cd8761039>\u001b[0m in \u001b[0;36m<module>\u001b[1;34m\u001b[0m\n\u001b[1;32m----> 1\u001b[1;33m \u001b[0mdf\u001b[0m\u001b[1;33m.\u001b[0m\u001b[0mcolumn\u001b[0m \u001b[1;31m# for names of the features i.e the parameters used\u001b[0m\u001b[1;33m\u001b[0m\u001b[1;33m\u001b[0m\u001b[0m\n\u001b[0m",
      "\u001b[1;32m~\\Anaconda3\\lib\\site-packages\\pandas\\core\\generic.py\u001b[0m in \u001b[0;36m__getattr__\u001b[1;34m(self, name)\u001b[0m\n\u001b[0;32m   5177\u001b[0m             \u001b[1;32mif\u001b[0m \u001b[0mself\u001b[0m\u001b[1;33m.\u001b[0m\u001b[0m_info_axis\u001b[0m\u001b[1;33m.\u001b[0m\u001b[0m_can_hold_identifiers_and_holds_name\u001b[0m\u001b[1;33m(\u001b[0m\u001b[0mname\u001b[0m\u001b[1;33m)\u001b[0m\u001b[1;33m:\u001b[0m\u001b[1;33m\u001b[0m\u001b[1;33m\u001b[0m\u001b[0m\n\u001b[0;32m   5178\u001b[0m                 \u001b[1;32mreturn\u001b[0m \u001b[0mself\u001b[0m\u001b[1;33m[\u001b[0m\u001b[0mname\u001b[0m\u001b[1;33m]\u001b[0m\u001b[1;33m\u001b[0m\u001b[1;33m\u001b[0m\u001b[0m\n\u001b[1;32m-> 5179\u001b[1;33m             \u001b[1;32mreturn\u001b[0m \u001b[0mobject\u001b[0m\u001b[1;33m.\u001b[0m\u001b[0m__getattribute__\u001b[0m\u001b[1;33m(\u001b[0m\u001b[0mself\u001b[0m\u001b[1;33m,\u001b[0m \u001b[0mname\u001b[0m\u001b[1;33m)\u001b[0m\u001b[1;33m\u001b[0m\u001b[1;33m\u001b[0m\u001b[0m\n\u001b[0m\u001b[0;32m   5180\u001b[0m \u001b[1;33m\u001b[0m\u001b[0m\n\u001b[0;32m   5181\u001b[0m     \u001b[1;32mdef\u001b[0m \u001b[0m__setattr__\u001b[0m\u001b[1;33m(\u001b[0m\u001b[0mself\u001b[0m\u001b[1;33m,\u001b[0m \u001b[0mname\u001b[0m\u001b[1;33m,\u001b[0m \u001b[0mvalue\u001b[0m\u001b[1;33m)\u001b[0m\u001b[1;33m:\u001b[0m\u001b[1;33m\u001b[0m\u001b[1;33m\u001b[0m\u001b[0m\n",
      "\u001b[1;31mAttributeError\u001b[0m: 'DataFrame' object has no attribute 'column'"
     ]
    }
   ],
   "source": [
    "df.column # for names of the features i.e the parameters used"
   ]
  },
  {
   "cell_type": "code",
   "execution_count": 57,
   "metadata": {},
   "outputs": [
    {
     "data": {
      "text/html": [
       "<div>\n",
       "<style scoped>\n",
       "    .dataframe tbody tr th:only-of-type {\n",
       "        vertical-align: middle;\n",
       "    }\n",
       "\n",
       "    .dataframe tbody tr th {\n",
       "        vertical-align: top;\n",
       "    }\n",
       "\n",
       "    .dataframe thead th {\n",
       "        text-align: right;\n",
       "    }\n",
       "</style>\n",
       "<table border=\"1\" class=\"dataframe\">\n",
       "  <thead>\n",
       "    <tr style=\"text-align: right;\">\n",
       "      <th></th>\n",
       "      <th>ward</th>\n",
       "      <th>total_households</th>\n",
       "      <th>total_individuals</th>\n",
       "      <th>target</th>\n",
       "      <th>dw_00</th>\n",
       "      <th>dw_01</th>\n",
       "      <th>dw_02</th>\n",
       "      <th>dw_03</th>\n",
       "      <th>dw_04</th>\n",
       "      <th>dw_05</th>\n",
       "      <th>...</th>\n",
       "      <th>pw_03</th>\n",
       "      <th>pw_04</th>\n",
       "      <th>pw_05</th>\n",
       "      <th>pw_06</th>\n",
       "      <th>pw_07</th>\n",
       "      <th>pw_08</th>\n",
       "      <th>ADM4_PCODE</th>\n",
       "      <th>lat</th>\n",
       "      <th>lon</th>\n",
       "      <th>NL</th>\n",
       "    </tr>\n",
       "  </thead>\n",
       "  <tbody>\n",
       "    <tr>\n",
       "      <td>2530</td>\n",
       "      <td>63805013: Ward 13</td>\n",
       "      <td>2307.62184</td>\n",
       "      <td>10019.23557</td>\n",
       "      <td>31.58919</td>\n",
       "      <td>0.528404</td>\n",
       "      <td>0.025557</td>\n",
       "      <td>0.000718</td>\n",
       "      <td>0.000895</td>\n",
       "      <td>0.001376</td>\n",
       "      <td>0.003212</td>\n",
       "      <td>...</td>\n",
       "      <td>0.037968</td>\n",
       "      <td>0.122974</td>\n",
       "      <td>0.003696</td>\n",
       "      <td>0.002288</td>\n",
       "      <td>0</td>\n",
       "      <td>0</td>\n",
       "      <td>ZA6385013</td>\n",
       "      <td>-25.447974</td>\n",
       "      <td>25.965873</td>\n",
       "      <td>4.909219</td>\n",
       "    </tr>\n",
       "  </tbody>\n",
       "</table>\n",
       "<p>1 rows × 63 columns</p>\n",
       "</div>"
      ],
      "text/plain": [
       "                   ward  total_households  total_individuals    target  \\\n",
       "2530  63805013: Ward 13        2307.62184        10019.23557  31.58919   \n",
       "\n",
       "         dw_00     dw_01     dw_02     dw_03     dw_04     dw_05  ...  \\\n",
       "2530  0.528404  0.025557  0.000718  0.000895  0.001376  0.003212  ...   \n",
       "\n",
       "         pw_03     pw_04     pw_05     pw_06  pw_07  pw_08  ADM4_PCODE  \\\n",
       "2530  0.037968  0.122974  0.003696  0.002288      0      0   ZA6385013   \n",
       "\n",
       "            lat        lon        NL  \n",
       "2530 -25.447974  25.965873  4.909219  \n",
       "\n",
       "[1 rows x 63 columns]"
      ]
     },
     "execution_count": 57,
     "metadata": {},
     "output_type": "execute_result"
    }
   ],
   "source": [
    "df.sample()# this is used to av a sample of d dataset"
   ]
  },
  {
   "cell_type": "code",
   "execution_count": 59,
   "metadata": {},
   "outputs": [
    {
     "data": {
      "text/html": [
       "<div>\n",
       "<style scoped>\n",
       "    .dataframe tbody tr th:only-of-type {\n",
       "        vertical-align: middle;\n",
       "    }\n",
       "\n",
       "    .dataframe tbody tr th {\n",
       "        vertical-align: top;\n",
       "    }\n",
       "\n",
       "    .dataframe thead th {\n",
       "        text-align: right;\n",
       "    }\n",
       "</style>\n",
       "<table border=\"1\" class=\"dataframe\">\n",
       "  <thead>\n",
       "    <tr style=\"text-align: right;\">\n",
       "      <th></th>\n",
       "      <th>ward</th>\n",
       "      <th>total_households</th>\n",
       "      <th>total_individuals</th>\n",
       "      <th>target</th>\n",
       "      <th>dw_00</th>\n",
       "      <th>dw_01</th>\n",
       "      <th>dw_02</th>\n",
       "      <th>dw_03</th>\n",
       "      <th>dw_04</th>\n",
       "      <th>dw_05</th>\n",
       "      <th>...</th>\n",
       "      <th>pw_03</th>\n",
       "      <th>pw_04</th>\n",
       "      <th>pw_05</th>\n",
       "      <th>pw_06</th>\n",
       "      <th>pw_07</th>\n",
       "      <th>pw_08</th>\n",
       "      <th>ADM4_PCODE</th>\n",
       "      <th>lat</th>\n",
       "      <th>lon</th>\n",
       "      <th>NL</th>\n",
       "    </tr>\n",
       "  </thead>\n",
       "  <tbody>\n",
       "    <tr>\n",
       "      <td>1976</td>\n",
       "      <td>83002005: Ward 5</td>\n",
       "      <td>1079.66212</td>\n",
       "      <td>3429.89282</td>\n",
       "      <td>16.568019</td>\n",
       "      <td>0.759122</td>\n",
       "      <td>0.000000</td>\n",
       "      <td>0.002207</td>\n",
       "      <td>0.000000</td>\n",
       "      <td>0.000000</td>\n",
       "      <td>0.000000</td>\n",
       "      <td>...</td>\n",
       "      <td>0.002016</td>\n",
       "      <td>0.178822</td>\n",
       "      <td>0.000000</td>\n",
       "      <td>0.000000</td>\n",
       "      <td>0</td>\n",
       "      <td>0</td>\n",
       "      <td>ZA8302005</td>\n",
       "      <td>-26.512113</td>\n",
       "      <td>30.008994</td>\n",
       "      <td>19.277495</td>\n",
       "    </tr>\n",
       "    <tr>\n",
       "      <td>123</td>\n",
       "      <td>41902017: Ward 17</td>\n",
       "      <td>2082.66034</td>\n",
       "      <td>7014.06621</td>\n",
       "      <td>32.974419</td>\n",
       "      <td>0.685394</td>\n",
       "      <td>0.064652</td>\n",
       "      <td>0.007039</td>\n",
       "      <td>0.000544</td>\n",
       "      <td>0.000000</td>\n",
       "      <td>0.001768</td>\n",
       "      <td>...</td>\n",
       "      <td>0.020114</td>\n",
       "      <td>0.004710</td>\n",
       "      <td>0.001715</td>\n",
       "      <td>0.041764</td>\n",
       "      <td>0</td>\n",
       "      <td>0</td>\n",
       "      <td>ZA4192017</td>\n",
       "      <td>-28.335159</td>\n",
       "      <td>28.038604</td>\n",
       "      <td>0.940029</td>\n",
       "    </tr>\n",
       "    <tr>\n",
       "      <td>2717</td>\n",
       "      <td>30802004: Ward 4</td>\n",
       "      <td>1679.78679</td>\n",
       "      <td>6375.27425</td>\n",
       "      <td>13.529019</td>\n",
       "      <td>0.687726</td>\n",
       "      <td>0.017068</td>\n",
       "      <td>0.166203</td>\n",
       "      <td>0.002591</td>\n",
       "      <td>0.000946</td>\n",
       "      <td>0.000616</td>\n",
       "      <td>...</td>\n",
       "      <td>0.002858</td>\n",
       "      <td>0.000916</td>\n",
       "      <td>0.000996</td>\n",
       "      <td>0.010074</td>\n",
       "      <td>0</td>\n",
       "      <td>0</td>\n",
       "      <td>ZA3082004</td>\n",
       "      <td>-28.836795</td>\n",
       "      <td>20.754887</td>\n",
       "      <td>0.071106</td>\n",
       "    </tr>\n",
       "    <tr>\n",
       "      <td>2793</td>\n",
       "      <td>34501005: Ward 5</td>\n",
       "      <td>1571.42021</td>\n",
       "      <td>5882.09376</td>\n",
       "      <td>28.736723</td>\n",
       "      <td>0.558078</td>\n",
       "      <td>0.399758</td>\n",
       "      <td>0.004453</td>\n",
       "      <td>0.001336</td>\n",
       "      <td>0.000000</td>\n",
       "      <td>0.000000</td>\n",
       "      <td>...</td>\n",
       "      <td>0.130228</td>\n",
       "      <td>0.042805</td>\n",
       "      <td>0.000658</td>\n",
       "      <td>0.024873</td>\n",
       "      <td>0</td>\n",
       "      <td>0</td>\n",
       "      <td>ZA3451005</td>\n",
       "      <td>-27.091504</td>\n",
       "      <td>23.111762</td>\n",
       "      <td>0.107770</td>\n",
       "    </tr>\n",
       "    <tr>\n",
       "      <td>1684</td>\n",
       "      <td>93404020: Ward 20</td>\n",
       "      <td>5259.35805</td>\n",
       "      <td>20508.04586</td>\n",
       "      <td>18.362104</td>\n",
       "      <td>0.856955</td>\n",
       "      <td>0.013391</td>\n",
       "      <td>0.024140</td>\n",
       "      <td>0.000711</td>\n",
       "      <td>0.013451</td>\n",
       "      <td>0.002108</td>\n",
       "      <td>...</td>\n",
       "      <td>0.030310</td>\n",
       "      <td>0.013977</td>\n",
       "      <td>0.002386</td>\n",
       "      <td>0.015633</td>\n",
       "      <td>0</td>\n",
       "      <td>0</td>\n",
       "      <td>ZA9344020</td>\n",
       "      <td>-23.280585</td>\n",
       "      <td>29.809275</td>\n",
       "      <td>0.637260</td>\n",
       "    </tr>\n",
       "    <tr>\n",
       "      <td>2258</td>\n",
       "      <td>83204028: Ward 28</td>\n",
       "      <td>1229.77397</td>\n",
       "      <td>6163.16424</td>\n",
       "      <td>25.912937</td>\n",
       "      <td>0.971249</td>\n",
       "      <td>0.006180</td>\n",
       "      <td>0.002582</td>\n",
       "      <td>0.001716</td>\n",
       "      <td>0.000000</td>\n",
       "      <td>0.000000</td>\n",
       "      <td>...</td>\n",
       "      <td>0.009489</td>\n",
       "      <td>0.004324</td>\n",
       "      <td>0.001707</td>\n",
       "      <td>0.042765</td>\n",
       "      <td>0</td>\n",
       "      <td>0</td>\n",
       "      <td>ZA8324028</td>\n",
       "      <td>-25.715728</td>\n",
       "      <td>31.512999</td>\n",
       "      <td>13.594927</td>\n",
       "    </tr>\n",
       "    <tr>\n",
       "      <td>1756</td>\n",
       "      <td>93504019: Ward 19</td>\n",
       "      <td>5344.24009</td>\n",
       "      <td>18258.71368</td>\n",
       "      <td>17.498036</td>\n",
       "      <td>0.851087</td>\n",
       "      <td>0.001776</td>\n",
       "      <td>0.010658</td>\n",
       "      <td>0.001414</td>\n",
       "      <td>0.005065</td>\n",
       "      <td>0.001101</td>\n",
       "      <td>...</td>\n",
       "      <td>0.001593</td>\n",
       "      <td>0.000000</td>\n",
       "      <td>0.000000</td>\n",
       "      <td>0.004438</td>\n",
       "      <td>0</td>\n",
       "      <td>0</td>\n",
       "      <td>ZA9354019</td>\n",
       "      <td>-23.909068</td>\n",
       "      <td>29.429012</td>\n",
       "      <td>40.467326</td>\n",
       "    </tr>\n",
       "    <tr>\n",
       "      <td>2531</td>\n",
       "      <td>63805014: Ward 14</td>\n",
       "      <td>1913.09118</td>\n",
       "      <td>8192.21446</td>\n",
       "      <td>23.138982</td>\n",
       "      <td>0.683077</td>\n",
       "      <td>0.061290</td>\n",
       "      <td>0.001925</td>\n",
       "      <td>0.000563</td>\n",
       "      <td>0.000867</td>\n",
       "      <td>0.000000</td>\n",
       "      <td>...</td>\n",
       "      <td>0.308050</td>\n",
       "      <td>0.023748</td>\n",
       "      <td>0.006698</td>\n",
       "      <td>0.143171</td>\n",
       "      <td>0</td>\n",
       "      <td>0</td>\n",
       "      <td>ZA6385014</td>\n",
       "      <td>-25.492529</td>\n",
       "      <td>25.910439</td>\n",
       "      <td>4.385167</td>\n",
       "    </tr>\n",
       "    <tr>\n",
       "      <td>2625</td>\n",
       "      <td>64003026: Ward 26</td>\n",
       "      <td>2625.18021</td>\n",
       "      <td>8787.31542</td>\n",
       "      <td>27.638122</td>\n",
       "      <td>0.690227</td>\n",
       "      <td>0.000431</td>\n",
       "      <td>0.005767</td>\n",
       "      <td>0.000397</td>\n",
       "      <td>0.000431</td>\n",
       "      <td>0.049541</td>\n",
       "      <td>...</td>\n",
       "      <td>0.000829</td>\n",
       "      <td>0.000000</td>\n",
       "      <td>0.000000</td>\n",
       "      <td>0.002557</td>\n",
       "      <td>0</td>\n",
       "      <td>0</td>\n",
       "      <td>ZA6403026</td>\n",
       "      <td>-26.978387</td>\n",
       "      <td>26.632397</td>\n",
       "      <td>22.237844</td>\n",
       "    </tr>\n",
       "    <tr>\n",
       "      <td>3</td>\n",
       "      <td>41601004: Ward 4</td>\n",
       "      <td>1740.78737</td>\n",
       "      <td>5734.49046</td>\n",
       "      <td>23.119257</td>\n",
       "      <td>0.659914</td>\n",
       "      <td>0.000000</td>\n",
       "      <td>0.006129</td>\n",
       "      <td>0.000000</td>\n",
       "      <td>0.000813</td>\n",
       "      <td>0.037245</td>\n",
       "      <td>...</td>\n",
       "      <td>0.000000</td>\n",
       "      <td>0.000669</td>\n",
       "      <td>0.000000</td>\n",
       "      <td>0.005011</td>\n",
       "      <td>0</td>\n",
       "      <td>0</td>\n",
       "      <td>ZA4161004</td>\n",
       "      <td>-29.372052</td>\n",
       "      <td>24.942867</td>\n",
       "      <td>2.038778</td>\n",
       "    </tr>\n",
       "  </tbody>\n",
       "</table>\n",
       "<p>10 rows × 63 columns</p>\n",
       "</div>"
      ],
      "text/plain": [
       "                   ward  total_households  total_individuals     target  \\\n",
       "1976   83002005: Ward 5        1079.66212         3429.89282  16.568019   \n",
       "123   41902017: Ward 17        2082.66034         7014.06621  32.974419   \n",
       "2717   30802004: Ward 4        1679.78679         6375.27425  13.529019   \n",
       "2793   34501005: Ward 5        1571.42021         5882.09376  28.736723   \n",
       "1684  93404020: Ward 20        5259.35805        20508.04586  18.362104   \n",
       "2258  83204028: Ward 28        1229.77397         6163.16424  25.912937   \n",
       "1756  93504019: Ward 19        5344.24009        18258.71368  17.498036   \n",
       "2531  63805014: Ward 14        1913.09118         8192.21446  23.138982   \n",
       "2625  64003026: Ward 26        2625.18021         8787.31542  27.638122   \n",
       "3      41601004: Ward 4        1740.78737         5734.49046  23.119257   \n",
       "\n",
       "         dw_00     dw_01     dw_02     dw_03     dw_04     dw_05  ...  \\\n",
       "1976  0.759122  0.000000  0.002207  0.000000  0.000000  0.000000  ...   \n",
       "123   0.685394  0.064652  0.007039  0.000544  0.000000  0.001768  ...   \n",
       "2717  0.687726  0.017068  0.166203  0.002591  0.000946  0.000616  ...   \n",
       "2793  0.558078  0.399758  0.004453  0.001336  0.000000  0.000000  ...   \n",
       "1684  0.856955  0.013391  0.024140  0.000711  0.013451  0.002108  ...   \n",
       "2258  0.971249  0.006180  0.002582  0.001716  0.000000  0.000000  ...   \n",
       "1756  0.851087  0.001776  0.010658  0.001414  0.005065  0.001101  ...   \n",
       "2531  0.683077  0.061290  0.001925  0.000563  0.000867  0.000000  ...   \n",
       "2625  0.690227  0.000431  0.005767  0.000397  0.000431  0.049541  ...   \n",
       "3     0.659914  0.000000  0.006129  0.000000  0.000813  0.037245  ...   \n",
       "\n",
       "         pw_03     pw_04     pw_05     pw_06  pw_07  pw_08  ADM4_PCODE  \\\n",
       "1976  0.002016  0.178822  0.000000  0.000000      0      0   ZA8302005   \n",
       "123   0.020114  0.004710  0.001715  0.041764      0      0   ZA4192017   \n",
       "2717  0.002858  0.000916  0.000996  0.010074      0      0   ZA3082004   \n",
       "2793  0.130228  0.042805  0.000658  0.024873      0      0   ZA3451005   \n",
       "1684  0.030310  0.013977  0.002386  0.015633      0      0   ZA9344020   \n",
       "2258  0.009489  0.004324  0.001707  0.042765      0      0   ZA8324028   \n",
       "1756  0.001593  0.000000  0.000000  0.004438      0      0   ZA9354019   \n",
       "2531  0.308050  0.023748  0.006698  0.143171      0      0   ZA6385014   \n",
       "2625  0.000829  0.000000  0.000000  0.002557      0      0   ZA6403026   \n",
       "3     0.000000  0.000669  0.000000  0.005011      0      0   ZA4161004   \n",
       "\n",
       "            lat        lon         NL  \n",
       "1976 -26.512113  30.008994  19.277495  \n",
       "123  -28.335159  28.038604   0.940029  \n",
       "2717 -28.836795  20.754887   0.071106  \n",
       "2793 -27.091504  23.111762   0.107770  \n",
       "1684 -23.280585  29.809275   0.637260  \n",
       "2258 -25.715728  31.512999  13.594927  \n",
       "1756 -23.909068  29.429012  40.467326  \n",
       "2531 -25.492529  25.910439   4.385167  \n",
       "2625 -26.978387  26.632397  22.237844  \n",
       "3    -29.372052  24.942867   2.038778  \n",
       "\n",
       "[10 rows x 63 columns]"
      ]
     },
     "execution_count": 59,
     "metadata": {},
     "output_type": "execute_result"
    }
   ],
   "source": [
    "df.sample(10) #this is used to get 10 samples of d dataset"
   ]
  },
  {
   "cell_type": "code",
   "execution_count": 53,
   "metadata": {},
   "outputs": [
    {
     "name": "stdout",
     "output_type": "stream",
     "text": [
      "<class 'pandas.core.frame.DataFrame'>\n",
      "RangeIndex: 2822 entries, 0 to 2821\n",
      "Data columns (total 63 columns):\n",
      "ward                 2822 non-null object\n",
      "total_households     2822 non-null float64\n",
      "total_individuals    2822 non-null float64\n",
      "target               2822 non-null float64\n",
      "dw_00                2822 non-null float64\n",
      "dw_01                2822 non-null float64\n",
      "dw_02                2822 non-null float64\n",
      "dw_03                2822 non-null float64\n",
      "dw_04                2822 non-null float64\n",
      "dw_05                2822 non-null float64\n",
      "dw_06                2822 non-null float64\n",
      "dw_07                2822 non-null float64\n",
      "dw_08                2822 non-null float64\n",
      "dw_09                2822 non-null float64\n",
      "dw_10                2822 non-null float64\n",
      "dw_11                2822 non-null float64\n",
      "dw_12                2822 non-null int64\n",
      "dw_13                2822 non-null int64\n",
      "psa_00               2822 non-null float64\n",
      "psa_01               2822 non-null float64\n",
      "psa_02               2822 non-null float64\n",
      "psa_03               2822 non-null float64\n",
      "psa_04               2822 non-null float64\n",
      "stv_00               2822 non-null float64\n",
      "stv_01               2822 non-null float64\n",
      "car_00               2822 non-null float64\n",
      "car_01               2822 non-null float64\n",
      "lln_00               2822 non-null float64\n",
      "lln_01               2822 non-null float64\n",
      "lan_00               2822 non-null float64\n",
      "lan_01               2822 non-null float64\n",
      "lan_02               2822 non-null float64\n",
      "lan_03               2822 non-null float64\n",
      "lan_04               2822 non-null float64\n",
      "lan_05               2822 non-null float64\n",
      "lan_06               2822 non-null float64\n",
      "lan_07               2822 non-null float64\n",
      "lan_08               2822 non-null float64\n",
      "lan_09               2822 non-null float64\n",
      "lan_10               2822 non-null float64\n",
      "lan_11               2822 non-null float64\n",
      "lan_12               2822 non-null float64\n",
      "lan_13               2822 non-null int64\n",
      "lan_14               2822 non-null float64\n",
      "pg_00                2822 non-null float64\n",
      "pg_01                2822 non-null float64\n",
      "pg_02                2822 non-null float64\n",
      "pg_03                2822 non-null float64\n",
      "pg_04                2822 non-null float64\n",
      "lgt_00               2822 non-null float64\n",
      "pw_00                2822 non-null float64\n",
      "pw_01                2822 non-null float64\n",
      "pw_02                2822 non-null float64\n",
      "pw_03                2822 non-null float64\n",
      "pw_04                2822 non-null float64\n",
      "pw_05                2822 non-null float64\n",
      "pw_06                2822 non-null float64\n",
      "pw_07                2822 non-null int64\n",
      "pw_08                2822 non-null int64\n",
      "ADM4_PCODE           2822 non-null object\n",
      "lat                  2822 non-null float64\n",
      "lon                  2822 non-null float64\n",
      "NL                   2822 non-null float64\n",
      "dtypes: float64(56), int64(5), object(2)\n",
      "memory usage: 1.4+ MB\n"
     ]
    }
   ],
   "source": [
    "df.info()"
   ]
  },
  {
   "cell_type": "code",
   "execution_count": 61,
   "metadata": {},
   "outputs": [
    {
     "data": {
      "text/html": [
       "<div>\n",
       "<style scoped>\n",
       "    .dataframe tbody tr th:only-of-type {\n",
       "        vertical-align: middle;\n",
       "    }\n",
       "\n",
       "    .dataframe tbody tr th {\n",
       "        vertical-align: top;\n",
       "    }\n",
       "\n",
       "    .dataframe thead th {\n",
       "        text-align: right;\n",
       "    }\n",
       "</style>\n",
       "<table border=\"1\" class=\"dataframe\">\n",
       "  <thead>\n",
       "    <tr style=\"text-align: right;\">\n",
       "      <th></th>\n",
       "      <th>total_households</th>\n",
       "      <th>total_individuals</th>\n",
       "      <th>target</th>\n",
       "      <th>dw_00</th>\n",
       "      <th>dw_01</th>\n",
       "      <th>dw_02</th>\n",
       "      <th>dw_03</th>\n",
       "      <th>dw_04</th>\n",
       "      <th>dw_05</th>\n",
       "      <th>dw_06</th>\n",
       "      <th>...</th>\n",
       "      <th>pw_02</th>\n",
       "      <th>pw_03</th>\n",
       "      <th>pw_04</th>\n",
       "      <th>pw_05</th>\n",
       "      <th>pw_06</th>\n",
       "      <th>pw_07</th>\n",
       "      <th>pw_08</th>\n",
       "      <th>lat</th>\n",
       "      <th>lon</th>\n",
       "      <th>NL</th>\n",
       "    </tr>\n",
       "  </thead>\n",
       "  <tbody>\n",
       "    <tr>\n",
       "      <td>count</td>\n",
       "      <td>2822.000000</td>\n",
       "      <td>2822.000000</td>\n",
       "      <td>2822.000000</td>\n",
       "      <td>2822.000000</td>\n",
       "      <td>2822.000000</td>\n",
       "      <td>2822.000000</td>\n",
       "      <td>2822.000000</td>\n",
       "      <td>2822.000000</td>\n",
       "      <td>2822.000000</td>\n",
       "      <td>2822.000000</td>\n",
       "      <td>...</td>\n",
       "      <td>2822.000000</td>\n",
       "      <td>2822.000000</td>\n",
       "      <td>2822.000000</td>\n",
       "      <td>2822.000000</td>\n",
       "      <td>2822.000000</td>\n",
       "      <td>2822.0</td>\n",
       "      <td>2822.0</td>\n",
       "      <td>2822.000000</td>\n",
       "      <td>2822.000000</td>\n",
       "      <td>2822.000000</td>\n",
       "    </tr>\n",
       "    <tr>\n",
       "      <td>mean</td>\n",
       "      <td>3665.281214</td>\n",
       "      <td>12869.130053</td>\n",
       "      <td>24.507554</td>\n",
       "      <td>0.712196</td>\n",
       "      <td>0.092616</td>\n",
       "      <td>0.032043</td>\n",
       "      <td>0.006057</td>\n",
       "      <td>0.008665</td>\n",
       "      <td>0.006289</td>\n",
       "      <td>0.022375</td>\n",
       "      <td>...</td>\n",
       "      <td>0.127555</td>\n",
       "      <td>0.041589</td>\n",
       "      <td>0.019655</td>\n",
       "      <td>0.011008</td>\n",
       "      <td>0.110818</td>\n",
       "      <td>0.0</td>\n",
       "      <td>0.0</td>\n",
       "      <td>-26.880740</td>\n",
       "      <td>28.666515</td>\n",
       "      <td>17.437560</td>\n",
       "    </tr>\n",
       "    <tr>\n",
       "      <td>std</td>\n",
       "      <td>3266.364522</td>\n",
       "      <td>9696.690518</td>\n",
       "      <td>10.294387</td>\n",
       "      <td>0.214035</td>\n",
       "      <td>0.182852</td>\n",
       "      <td>0.080253</td>\n",
       "      <td>0.019374</td>\n",
       "      <td>0.030697</td>\n",
       "      <td>0.024606</td>\n",
       "      <td>0.037127</td>\n",
       "      <td>...</td>\n",
       "      <td>0.156400</td>\n",
       "      <td>0.057331</td>\n",
       "      <td>0.032926</td>\n",
       "      <td>0.023672</td>\n",
       "      <td>0.185401</td>\n",
       "      <td>0.0</td>\n",
       "      <td>0.0</td>\n",
       "      <td>2.021279</td>\n",
       "      <td>2.373809</td>\n",
       "      <td>18.958621</td>\n",
       "    </tr>\n",
       "    <tr>\n",
       "      <td>min</td>\n",
       "      <td>1.000000</td>\n",
       "      <td>402.000000</td>\n",
       "      <td>0.000000</td>\n",
       "      <td>0.000000</td>\n",
       "      <td>0.000000</td>\n",
       "      <td>0.000000</td>\n",
       "      <td>0.000000</td>\n",
       "      <td>0.000000</td>\n",
       "      <td>0.000000</td>\n",
       "      <td>0.000000</td>\n",
       "      <td>...</td>\n",
       "      <td>0.000000</td>\n",
       "      <td>0.000000</td>\n",
       "      <td>0.000000</td>\n",
       "      <td>0.000000</td>\n",
       "      <td>0.000000</td>\n",
       "      <td>0.0</td>\n",
       "      <td>0.0</td>\n",
       "      <td>-32.490089</td>\n",
       "      <td>16.760022</td>\n",
       "      <td>0.000000</td>\n",
       "    </tr>\n",
       "    <tr>\n",
       "      <td>25%</td>\n",
       "      <td>1778.858235</td>\n",
       "      <td>7071.205695</td>\n",
       "      <td>16.751556</td>\n",
       "      <td>0.594212</td>\n",
       "      <td>0.002895</td>\n",
       "      <td>0.002407</td>\n",
       "      <td>0.000000</td>\n",
       "      <td>0.000000</td>\n",
       "      <td>0.000000</td>\n",
       "      <td>0.002716</td>\n",
       "      <td>...</td>\n",
       "      <td>0.008673</td>\n",
       "      <td>0.002099</td>\n",
       "      <td>0.000715</td>\n",
       "      <td>0.000159</td>\n",
       "      <td>0.005217</td>\n",
       "      <td>0.0</td>\n",
       "      <td>0.0</td>\n",
       "      <td>-28.569019</td>\n",
       "      <td>27.707932</td>\n",
       "      <td>3.033397</td>\n",
       "    </tr>\n",
       "    <tr>\n",
       "      <td>50%</td>\n",
       "      <td>2398.249935</td>\n",
       "      <td>9366.989680</td>\n",
       "      <td>24.156670</td>\n",
       "      <td>0.766841</td>\n",
       "      <td>0.010425</td>\n",
       "      <td>0.005762</td>\n",
       "      <td>0.000807</td>\n",
       "      <td>0.000607</td>\n",
       "      <td>0.000865</td>\n",
       "      <td>0.008639</td>\n",
       "      <td>...</td>\n",
       "      <td>0.069065</td>\n",
       "      <td>0.016496</td>\n",
       "      <td>0.005164</td>\n",
       "      <td>0.001459</td>\n",
       "      <td>0.025165</td>\n",
       "      <td>0.0</td>\n",
       "      <td>0.0</td>\n",
       "      <td>-26.549866</td>\n",
       "      <td>28.959679</td>\n",
       "      <td>9.205572</td>\n",
       "    </tr>\n",
       "    <tr>\n",
       "      <td>75%</td>\n",
       "      <td>3987.080563</td>\n",
       "      <td>14241.233015</td>\n",
       "      <td>32.226553</td>\n",
       "      <td>0.881708</td>\n",
       "      <td>0.068209</td>\n",
       "      <td>0.027913</td>\n",
       "      <td>0.002538</td>\n",
       "      <td>0.002225</td>\n",
       "      <td>0.003027</td>\n",
       "      <td>0.025218</td>\n",
       "      <td>...</td>\n",
       "      <td>0.183384</td>\n",
       "      <td>0.058626</td>\n",
       "      <td>0.025055</td>\n",
       "      <td>0.009432</td>\n",
       "      <td>0.116638</td>\n",
       "      <td>0.0</td>\n",
       "      <td>0.0</td>\n",
       "      <td>-25.572130</td>\n",
       "      <td>30.441505</td>\n",
       "      <td>26.890531</td>\n",
       "    </tr>\n",
       "    <tr>\n",
       "      <td>max</td>\n",
       "      <td>39684.942130</td>\n",
       "      <td>91716.746370</td>\n",
       "      <td>55.528423</td>\n",
       "      <td>0.994962</td>\n",
       "      <td>0.931490</td>\n",
       "      <td>0.951806</td>\n",
       "      <td>0.264239</td>\n",
       "      <td>0.392085</td>\n",
       "      <td>0.435912</td>\n",
       "      <td>0.412936</td>\n",
       "      <td>...</td>\n",
       "      <td>1.000000</td>\n",
       "      <td>0.327393</td>\n",
       "      <td>0.306787</td>\n",
       "      <td>0.228261</td>\n",
       "      <td>0.961523</td>\n",
       "      <td>0.0</td>\n",
       "      <td>0.0</td>\n",
       "      <td>-22.331267</td>\n",
       "      <td>32.858249</td>\n",
       "      <td>63.000000</td>\n",
       "    </tr>\n",
       "  </tbody>\n",
       "</table>\n",
       "<p>8 rows × 61 columns</p>\n",
       "</div>"
      ],
      "text/plain": [
       "       total_households  total_individuals       target        dw_00  \\\n",
       "count       2822.000000        2822.000000  2822.000000  2822.000000   \n",
       "mean        3665.281214       12869.130053    24.507554     0.712196   \n",
       "std         3266.364522        9696.690518    10.294387     0.214035   \n",
       "min            1.000000         402.000000     0.000000     0.000000   \n",
       "25%         1778.858235        7071.205695    16.751556     0.594212   \n",
       "50%         2398.249935        9366.989680    24.156670     0.766841   \n",
       "75%         3987.080563       14241.233015    32.226553     0.881708   \n",
       "max        39684.942130       91716.746370    55.528423     0.994962   \n",
       "\n",
       "             dw_01        dw_02        dw_03        dw_04        dw_05  \\\n",
       "count  2822.000000  2822.000000  2822.000000  2822.000000  2822.000000   \n",
       "mean      0.092616     0.032043     0.006057     0.008665     0.006289   \n",
       "std       0.182852     0.080253     0.019374     0.030697     0.024606   \n",
       "min       0.000000     0.000000     0.000000     0.000000     0.000000   \n",
       "25%       0.002895     0.002407     0.000000     0.000000     0.000000   \n",
       "50%       0.010425     0.005762     0.000807     0.000607     0.000865   \n",
       "75%       0.068209     0.027913     0.002538     0.002225     0.003027   \n",
       "max       0.931490     0.951806     0.264239     0.392085     0.435912   \n",
       "\n",
       "             dw_06  ...        pw_02        pw_03        pw_04        pw_05  \\\n",
       "count  2822.000000  ...  2822.000000  2822.000000  2822.000000  2822.000000   \n",
       "mean      0.022375  ...     0.127555     0.041589     0.019655     0.011008   \n",
       "std       0.037127  ...     0.156400     0.057331     0.032926     0.023672   \n",
       "min       0.000000  ...     0.000000     0.000000     0.000000     0.000000   \n",
       "25%       0.002716  ...     0.008673     0.002099     0.000715     0.000159   \n",
       "50%       0.008639  ...     0.069065     0.016496     0.005164     0.001459   \n",
       "75%       0.025218  ...     0.183384     0.058626     0.025055     0.009432   \n",
       "max       0.412936  ...     1.000000     0.327393     0.306787     0.228261   \n",
       "\n",
       "             pw_06   pw_07   pw_08          lat          lon           NL  \n",
       "count  2822.000000  2822.0  2822.0  2822.000000  2822.000000  2822.000000  \n",
       "mean      0.110818     0.0     0.0   -26.880740    28.666515    17.437560  \n",
       "std       0.185401     0.0     0.0     2.021279     2.373809    18.958621  \n",
       "min       0.000000     0.0     0.0   -32.490089    16.760022     0.000000  \n",
       "25%       0.005217     0.0     0.0   -28.569019    27.707932     3.033397  \n",
       "50%       0.025165     0.0     0.0   -26.549866    28.959679     9.205572  \n",
       "75%       0.116638     0.0     0.0   -25.572130    30.441505    26.890531  \n",
       "max       0.961523     0.0     0.0   -22.331267    32.858249    63.000000  \n",
       "\n",
       "[8 rows x 61 columns]"
      ]
     },
     "execution_count": 61,
     "metadata": {},
     "output_type": "execute_result"
    }
   ],
   "source": [
    "df.describe()"
   ]
  },
  {
   "cell_type": "code",
   "execution_count": 60,
   "metadata": {},
   "outputs": [
    {
     "data": {
      "text/html": [
       "<div>\n",
       "<style scoped>\n",
       "    .dataframe tbody tr th:only-of-type {\n",
       "        vertical-align: middle;\n",
       "    }\n",
       "\n",
       "    .dataframe tbody tr th {\n",
       "        vertical-align: top;\n",
       "    }\n",
       "\n",
       "    .dataframe thead th {\n",
       "        text-align: right;\n",
       "    }\n",
       "</style>\n",
       "<table border=\"1\" class=\"dataframe\">\n",
       "  <thead>\n",
       "    <tr style=\"text-align: right;\">\n",
       "      <th></th>\n",
       "      <th>total_households</th>\n",
       "      <th>total_individuals</th>\n",
       "      <th>target</th>\n",
       "      <th>dw_00</th>\n",
       "      <th>dw_01</th>\n",
       "      <th>dw_02</th>\n",
       "      <th>dw_03</th>\n",
       "      <th>dw_04</th>\n",
       "      <th>dw_05</th>\n",
       "      <th>dw_06</th>\n",
       "      <th>...</th>\n",
       "      <th>pw_02</th>\n",
       "      <th>pw_03</th>\n",
       "      <th>pw_04</th>\n",
       "      <th>pw_05</th>\n",
       "      <th>pw_06</th>\n",
       "      <th>pw_07</th>\n",
       "      <th>pw_08</th>\n",
       "      <th>lat</th>\n",
       "      <th>lon</th>\n",
       "      <th>NL</th>\n",
       "    </tr>\n",
       "  </thead>\n",
       "  <tbody>\n",
       "    <tr>\n",
       "      <td>total_households</td>\n",
       "      <td>1.000000</td>\n",
       "      <td>0.959244</td>\n",
       "      <td>-0.374833</td>\n",
       "      <td>-0.226119</td>\n",
       "      <td>-0.231304</td>\n",
       "      <td>0.222825</td>\n",
       "      <td>0.328743</td>\n",
       "      <td>0.314811</td>\n",
       "      <td>0.095374</td>\n",
       "      <td>0.284317</td>\n",
       "      <td>...</td>\n",
       "      <td>-0.140827</td>\n",
       "      <td>-0.149199</td>\n",
       "      <td>-0.121961</td>\n",
       "      <td>-0.110339</td>\n",
       "      <td>-0.228412</td>\n",
       "      <td>NaN</td>\n",
       "      <td>NaN</td>\n",
       "      <td>0.063018</td>\n",
       "      <td>0.032249</td>\n",
       "      <td>0.708701</td>\n",
       "    </tr>\n",
       "    <tr>\n",
       "      <td>total_individuals</td>\n",
       "      <td>0.959244</td>\n",
       "      <td>1.000000</td>\n",
       "      <td>-0.293827</td>\n",
       "      <td>-0.200350</td>\n",
       "      <td>-0.161183</td>\n",
       "      <td>0.178921</td>\n",
       "      <td>0.255194</td>\n",
       "      <td>0.245253</td>\n",
       "      <td>0.109852</td>\n",
       "      <td>0.252280</td>\n",
       "      <td>...</td>\n",
       "      <td>-0.127982</td>\n",
       "      <td>-0.135562</td>\n",
       "      <td>-0.103966</td>\n",
       "      <td>-0.084651</td>\n",
       "      <td>-0.174518</td>\n",
       "      <td>NaN</td>\n",
       "      <td>NaN</td>\n",
       "      <td>0.039653</td>\n",
       "      <td>0.104198</td>\n",
       "      <td>0.684853</td>\n",
       "    </tr>\n",
       "    <tr>\n",
       "      <td>target</td>\n",
       "      <td>-0.374833</td>\n",
       "      <td>-0.293827</td>\n",
       "      <td>1.000000</td>\n",
       "      <td>0.018461</td>\n",
       "      <td>0.458206</td>\n",
       "      <td>-0.232727</td>\n",
       "      <td>-0.338137</td>\n",
       "      <td>-0.385533</td>\n",
       "      <td>-0.146357</td>\n",
       "      <td>-0.248573</td>\n",
       "      <td>...</td>\n",
       "      <td>0.442441</td>\n",
       "      <td>0.440941</td>\n",
       "      <td>0.389467</td>\n",
       "      <td>0.349653</td>\n",
       "      <td>0.470676</td>\n",
       "      <td>NaN</td>\n",
       "      <td>NaN</td>\n",
       "      <td>0.120381</td>\n",
       "      <td>0.347088</td>\n",
       "      <td>-0.514398</td>\n",
       "    </tr>\n",
       "    <tr>\n",
       "      <td>dw_00</td>\n",
       "      <td>-0.226119</td>\n",
       "      <td>-0.200350</td>\n",
       "      <td>0.018461</td>\n",
       "      <td>1.000000</td>\n",
       "      <td>-0.614702</td>\n",
       "      <td>-0.356335</td>\n",
       "      <td>-0.154956</td>\n",
       "      <td>-0.126421</td>\n",
       "      <td>-0.076181</td>\n",
       "      <td>-0.181262</td>\n",
       "      <td>...</td>\n",
       "      <td>-0.064290</td>\n",
       "      <td>-0.079610</td>\n",
       "      <td>-0.059986</td>\n",
       "      <td>-0.038534</td>\n",
       "      <td>-0.297510</td>\n",
       "      <td>NaN</td>\n",
       "      <td>NaN</td>\n",
       "      <td>0.348089</td>\n",
       "      <td>-0.152692</td>\n",
       "      <td>-0.133895</td>\n",
       "    </tr>\n",
       "    <tr>\n",
       "      <td>dw_01</td>\n",
       "      <td>-0.231304</td>\n",
       "      <td>-0.161183</td>\n",
       "      <td>0.458206</td>\n",
       "      <td>-0.614702</td>\n",
       "      <td>1.000000</td>\n",
       "      <td>0.000617</td>\n",
       "      <td>-0.075112</td>\n",
       "      <td>-0.112250</td>\n",
       "      <td>-0.095776</td>\n",
       "      <td>-0.099431</td>\n",
       "      <td>...</td>\n",
       "      <td>0.222130</td>\n",
       "      <td>0.250931</td>\n",
       "      <td>0.202204</td>\n",
       "      <td>0.211378</td>\n",
       "      <td>0.600377</td>\n",
       "      <td>NaN</td>\n",
       "      <td>NaN</td>\n",
       "      <td>-0.346198</td>\n",
       "      <td>0.349469</td>\n",
       "      <td>-0.338058</td>\n",
       "    </tr>\n",
       "    <tr>\n",
       "      <td>...</td>\n",
       "      <td>...</td>\n",
       "      <td>...</td>\n",
       "      <td>...</td>\n",
       "      <td>...</td>\n",
       "      <td>...</td>\n",
       "      <td>...</td>\n",
       "      <td>...</td>\n",
       "      <td>...</td>\n",
       "      <td>...</td>\n",
       "      <td>...</td>\n",
       "      <td>...</td>\n",
       "      <td>...</td>\n",
       "      <td>...</td>\n",
       "      <td>...</td>\n",
       "      <td>...</td>\n",
       "      <td>...</td>\n",
       "      <td>...</td>\n",
       "      <td>...</td>\n",
       "      <td>...</td>\n",
       "      <td>...</td>\n",
       "      <td>...</td>\n",
       "    </tr>\n",
       "    <tr>\n",
       "      <td>pw_07</td>\n",
       "      <td>NaN</td>\n",
       "      <td>NaN</td>\n",
       "      <td>NaN</td>\n",
       "      <td>NaN</td>\n",
       "      <td>NaN</td>\n",
       "      <td>NaN</td>\n",
       "      <td>NaN</td>\n",
       "      <td>NaN</td>\n",
       "      <td>NaN</td>\n",
       "      <td>NaN</td>\n",
       "      <td>...</td>\n",
       "      <td>NaN</td>\n",
       "      <td>NaN</td>\n",
       "      <td>NaN</td>\n",
       "      <td>NaN</td>\n",
       "      <td>NaN</td>\n",
       "      <td>NaN</td>\n",
       "      <td>NaN</td>\n",
       "      <td>NaN</td>\n",
       "      <td>NaN</td>\n",
       "      <td>NaN</td>\n",
       "    </tr>\n",
       "    <tr>\n",
       "      <td>pw_08</td>\n",
       "      <td>NaN</td>\n",
       "      <td>NaN</td>\n",
       "      <td>NaN</td>\n",
       "      <td>NaN</td>\n",
       "      <td>NaN</td>\n",
       "      <td>NaN</td>\n",
       "      <td>NaN</td>\n",
       "      <td>NaN</td>\n",
       "      <td>NaN</td>\n",
       "      <td>NaN</td>\n",
       "      <td>...</td>\n",
       "      <td>NaN</td>\n",
       "      <td>NaN</td>\n",
       "      <td>NaN</td>\n",
       "      <td>NaN</td>\n",
       "      <td>NaN</td>\n",
       "      <td>NaN</td>\n",
       "      <td>NaN</td>\n",
       "      <td>NaN</td>\n",
       "      <td>NaN</td>\n",
       "      <td>NaN</td>\n",
       "    </tr>\n",
       "    <tr>\n",
       "      <td>lat</td>\n",
       "      <td>0.063018</td>\n",
       "      <td>0.039653</td>\n",
       "      <td>0.120381</td>\n",
       "      <td>0.348089</td>\n",
       "      <td>-0.346198</td>\n",
       "      <td>-0.126910</td>\n",
       "      <td>-0.042252</td>\n",
       "      <td>0.009724</td>\n",
       "      <td>-0.093791</td>\n",
       "      <td>0.015586</td>\n",
       "      <td>...</td>\n",
       "      <td>0.069398</td>\n",
       "      <td>0.114066</td>\n",
       "      <td>0.150117</td>\n",
       "      <td>0.114295</td>\n",
       "      <td>-0.029484</td>\n",
       "      <td>NaN</td>\n",
       "      <td>NaN</td>\n",
       "      <td>1.000000</td>\n",
       "      <td>0.081587</td>\n",
       "      <td>0.049429</td>\n",
       "    </tr>\n",
       "    <tr>\n",
       "      <td>lon</td>\n",
       "      <td>0.032249</td>\n",
       "      <td>0.104198</td>\n",
       "      <td>0.347088</td>\n",
       "      <td>-0.152692</td>\n",
       "      <td>0.349469</td>\n",
       "      <td>0.075945</td>\n",
       "      <td>0.028536</td>\n",
       "      <td>-0.028597</td>\n",
       "      <td>-0.135910</td>\n",
       "      <td>-0.052148</td>\n",
       "      <td>...</td>\n",
       "      <td>0.077424</td>\n",
       "      <td>0.075826</td>\n",
       "      <td>0.136322</td>\n",
       "      <td>0.165803</td>\n",
       "      <td>0.325206</td>\n",
       "      <td>NaN</td>\n",
       "      <td>NaN</td>\n",
       "      <td>0.081587</td>\n",
       "      <td>1.000000</td>\n",
       "      <td>-0.026927</td>\n",
       "    </tr>\n",
       "    <tr>\n",
       "      <td>NL</td>\n",
       "      <td>0.708701</td>\n",
       "      <td>0.684853</td>\n",
       "      <td>-0.514398</td>\n",
       "      <td>-0.133895</td>\n",
       "      <td>-0.338058</td>\n",
       "      <td>0.304287</td>\n",
       "      <td>0.321311</td>\n",
       "      <td>0.356428</td>\n",
       "      <td>0.180807</td>\n",
       "      <td>0.403524</td>\n",
       "      <td>...</td>\n",
       "      <td>-0.312929</td>\n",
       "      <td>-0.316221</td>\n",
       "      <td>-0.254358</td>\n",
       "      <td>-0.212811</td>\n",
       "      <td>-0.341468</td>\n",
       "      <td>NaN</td>\n",
       "      <td>NaN</td>\n",
       "      <td>0.049429</td>\n",
       "      <td>-0.026927</td>\n",
       "      <td>1.000000</td>\n",
       "    </tr>\n",
       "  </tbody>\n",
       "</table>\n",
       "<p>61 rows × 61 columns</p>\n",
       "</div>"
      ],
      "text/plain": [
       "                   total_households  total_individuals    target     dw_00  \\\n",
       "total_households           1.000000           0.959244 -0.374833 -0.226119   \n",
       "total_individuals          0.959244           1.000000 -0.293827 -0.200350   \n",
       "target                    -0.374833          -0.293827  1.000000  0.018461   \n",
       "dw_00                     -0.226119          -0.200350  0.018461  1.000000   \n",
       "dw_01                     -0.231304          -0.161183  0.458206 -0.614702   \n",
       "...                             ...                ...       ...       ...   \n",
       "pw_07                           NaN                NaN       NaN       NaN   \n",
       "pw_08                           NaN                NaN       NaN       NaN   \n",
       "lat                        0.063018           0.039653  0.120381  0.348089   \n",
       "lon                        0.032249           0.104198  0.347088 -0.152692   \n",
       "NL                         0.708701           0.684853 -0.514398 -0.133895   \n",
       "\n",
       "                      dw_01     dw_02     dw_03     dw_04     dw_05     dw_06  \\\n",
       "total_households  -0.231304  0.222825  0.328743  0.314811  0.095374  0.284317   \n",
       "total_individuals -0.161183  0.178921  0.255194  0.245253  0.109852  0.252280   \n",
       "target             0.458206 -0.232727 -0.338137 -0.385533 -0.146357 -0.248573   \n",
       "dw_00             -0.614702 -0.356335 -0.154956 -0.126421 -0.076181 -0.181262   \n",
       "dw_01              1.000000  0.000617 -0.075112 -0.112250 -0.095776 -0.099431   \n",
       "...                     ...       ...       ...       ...       ...       ...   \n",
       "pw_07                   NaN       NaN       NaN       NaN       NaN       NaN   \n",
       "pw_08                   NaN       NaN       NaN       NaN       NaN       NaN   \n",
       "lat               -0.346198 -0.126910 -0.042252  0.009724 -0.093791  0.015586   \n",
       "lon                0.349469  0.075945  0.028536 -0.028597 -0.135910 -0.052148   \n",
       "NL                -0.338058  0.304287  0.321311  0.356428  0.180807  0.403524   \n",
       "\n",
       "                   ...     pw_02     pw_03     pw_04     pw_05     pw_06  \\\n",
       "total_households   ... -0.140827 -0.149199 -0.121961 -0.110339 -0.228412   \n",
       "total_individuals  ... -0.127982 -0.135562 -0.103966 -0.084651 -0.174518   \n",
       "target             ...  0.442441  0.440941  0.389467  0.349653  0.470676   \n",
       "dw_00              ... -0.064290 -0.079610 -0.059986 -0.038534 -0.297510   \n",
       "dw_01              ...  0.222130  0.250931  0.202204  0.211378  0.600377   \n",
       "...                ...       ...       ...       ...       ...       ...   \n",
       "pw_07              ...       NaN       NaN       NaN       NaN       NaN   \n",
       "pw_08              ...       NaN       NaN       NaN       NaN       NaN   \n",
       "lat                ...  0.069398  0.114066  0.150117  0.114295 -0.029484   \n",
       "lon                ...  0.077424  0.075826  0.136322  0.165803  0.325206   \n",
       "NL                 ... -0.312929 -0.316221 -0.254358 -0.212811 -0.341468   \n",
       "\n",
       "                   pw_07  pw_08       lat       lon        NL  \n",
       "total_households     NaN    NaN  0.063018  0.032249  0.708701  \n",
       "total_individuals    NaN    NaN  0.039653  0.104198  0.684853  \n",
       "target               NaN    NaN  0.120381  0.347088 -0.514398  \n",
       "dw_00                NaN    NaN  0.348089 -0.152692 -0.133895  \n",
       "dw_01                NaN    NaN -0.346198  0.349469 -0.338058  \n",
       "...                  ...    ...       ...       ...       ...  \n",
       "pw_07                NaN    NaN       NaN       NaN       NaN  \n",
       "pw_08                NaN    NaN       NaN       NaN       NaN  \n",
       "lat                  NaN    NaN  1.000000  0.081587  0.049429  \n",
       "lon                  NaN    NaN  0.081587  1.000000 -0.026927  \n",
       "NL                   NaN    NaN  0.049429 -0.026927  1.000000  \n",
       "\n",
       "[61 rows x 61 columns]"
      ]
     },
     "execution_count": 60,
     "metadata": {},
     "output_type": "execute_result"
    }
   ],
   "source": [
    "df.corr()"
   ]
  },
  {
   "cell_type": "code",
   "execution_count": 66,
   "metadata": {},
   "outputs": [
    {
     "data": {
      "text/plain": [
       "79700006: Ward 6     1\n",
       "63802008: Ward 8     1\n",
       "52901006: Ward 6     1\n",
       "52902002: Ward 2     1\n",
       "79700017: Ward 17    1\n",
       "                    ..\n",
       "93302025: Ward 25    1\n",
       "49400026: Ward 26    1\n",
       "52602006: Ward 6     1\n",
       "41904005: Ward 5     1\n",
       "52902015: Ward 15    1\n",
       "Name: ward, Length: 2822, dtype: int64"
      ]
     },
     "execution_count": 66,
     "metadata": {},
     "output_type": "execute_result"
    }
   ],
   "source": [
    "df['ward'].value_counts()"
   ]
  },
  {
   "cell_type": "code",
   "execution_count": 67,
   "metadata": {},
   "outputs": [
    {
     "data": {
      "text/plain": [
       "pandas.core.frame.DataFrame"
      ]
     },
     "execution_count": 67,
     "metadata": {},
     "output_type": "execute_result"
    }
   ],
   "source": [
    "type(df)# this is used to check d type of d data i.e it's a DataFrame"
   ]
  },
  {
   "cell_type": "code",
   "execution_count": 69,
   "metadata": {},
   "outputs": [
    {
     "data": {
      "text/plain": [
       "pandas.core.series.Series"
      ]
     },
     "execution_count": 69,
     "metadata": {},
     "output_type": "execute_result"
    }
   ],
   "source": [
    "type(df.ward)# this is used to check d type of d data i.e it's a Series"
   ]
  },
  {
   "cell_type": "code",
   "execution_count": 70,
   "metadata": {},
   "outputs": [
    {
     "data": {
      "text/plain": [
       "0       1674.45058\n",
       "1       1736.99230\n",
       "2       2403.57591\n",
       "3       1740.78737\n",
       "4       1730.51451\n",
       "           ...    \n",
       "2817    3261.68067\n",
       "2818    1463.06432\n",
       "2819    1395.18881\n",
       "2820    1679.66964\n",
       "2821    3008.38687\n",
       "Name: total_households, Length: 2822, dtype: float64"
      ]
     },
     "execution_count": 70,
     "metadata": {},
     "output_type": "execute_result"
    }
   ],
   "source": [
    "df['total_households']"
   ]
  },
  {
   "cell_type": "code",
   "execution_count": 71,
   "metadata": {},
   "outputs": [
    {
     "data": {
      "text/plain": [
       "0.8621424599109138"
      ]
     },
     "execution_count": 71,
     "metadata": {},
     "output_type": "execute_result"
    }
   ],
   "source": [
    "df.pg_00.mean()# dis is used to calculate the mean of a series called pg_00"
   ]
  },
  {
   "cell_type": "code",
   "execution_count": 72,
   "metadata": {},
   "outputs": [
    {
     "data": {
      "text/plain": [
       "<bound method Series.median of 0       0.357455\n",
       "1       0.698428\n",
       "2       0.672452\n",
       "3       0.728014\n",
       "4       0.753491\n",
       "          ...   \n",
       "2817    0.387404\n",
       "2818    0.619593\n",
       "2819    0.551808\n",
       "2820    0.366426\n",
       "2821    0.903506\n",
       "Name: pg_00, Length: 2822, dtype: float64>"
      ]
     },
     "execution_count": 72,
     "metadata": {},
     "output_type": "execute_result"
    }
   ],
   "source": [
    "df.pg_00.median"
   ]
  },
  {
   "cell_type": "code",
   "execution_count": 74,
   "metadata": {},
   "outputs": [
    {
     "data": {
      "text/plain": [
       "0.98975152945"
      ]
     },
     "execution_count": 74,
     "metadata": {},
     "output_type": "execute_result"
    }
   ],
   "source": [
    "df.pg_00.median()"
   ]
  },
  {
   "cell_type": "code",
   "execution_count": 75,
   "metadata": {},
   "outputs": [
    {
     "data": {
      "text/plain": [
       "total_households     2398.249935\n",
       "total_individuals    9366.989680\n",
       "target                 24.156670\n",
       "dw_00                   0.766841\n",
       "dw_01                   0.010425\n",
       "                        ...     \n",
       "pw_07                   0.000000\n",
       "pw_08                   0.000000\n",
       "lat                   -26.549866\n",
       "lon                    28.959679\n",
       "NL                      9.205572\n",
       "Length: 61, dtype: float64"
      ]
     },
     "execution_count": 75,
     "metadata": {},
     "output_type": "execute_result"
    }
   ],
   "source": [
    "df.median()# d median for all"
   ]
  },
  {
   "cell_type": "code",
   "execution_count": 76,
   "metadata": {},
   "outputs": [
    {
     "data": {
      "text/plain": [
       "total_households     2.715798\n",
       "total_individuals    2.164591\n",
       "target               0.109293\n",
       "dw_00               -1.027741\n",
       "dw_01                2.537747\n",
       "                       ...   \n",
       "pw_07                0.000000\n",
       "pw_08                0.000000\n",
       "lat                 -0.024309\n",
       "lon                 -1.256801\n",
       "NL                   1.149866\n",
       "Length: 61, dtype: float64"
      ]
     },
     "execution_count": 76,
     "metadata": {},
     "output_type": "execute_result"
    }
   ],
   "source": [
    "df.skew()"
   ]
  },
  {
   "cell_type": "code",
   "execution_count": 77,
   "metadata": {},
   "outputs": [
    {
     "data": {
      "text/plain": [
       "ward               lat       \n",
       "30601001: Ward 1   -28.603895    1\n",
       "30601002: Ward 2   -28.769332    1\n",
       "30601003: Ward 3   -29.227544    1\n",
       "30601004: Ward 4   -29.369607    1\n",
       "30602001: Ward 1   -29.268638    1\n",
       "                                ..\n",
       "94703027: Ward 27  -24.599760    1\n",
       "94703028: Ward 28  -24.512810    1\n",
       "94703029: Ward 29  -24.600257    1\n",
       "94703030: Ward 30  -24.720679    1\n",
       "94703031: Ward 31  -24.735269    1\n",
       "Name: lat, Length: 2822, dtype: int64"
      ]
     },
     "execution_count": 77,
     "metadata": {},
     "output_type": "execute_result"
    }
   ],
   "source": [
    "df.groupby('ward')['lat'].value_counts()"
   ]
  },
  {
   "cell_type": "code",
   "execution_count": 78,
   "metadata": {},
   "outputs": [
    {
     "data": {
      "text/html": [
       "<div>\n",
       "<style scoped>\n",
       "    .dataframe tbody tr th:only-of-type {\n",
       "        vertical-align: middle;\n",
       "    }\n",
       "\n",
       "    .dataframe tbody tr th {\n",
       "        vertical-align: top;\n",
       "    }\n",
       "\n",
       "    .dataframe thead th {\n",
       "        text-align: right;\n",
       "    }\n",
       "</style>\n",
       "<table border=\"1\" class=\"dataframe\">\n",
       "  <thead>\n",
       "    <tr style=\"text-align: right;\">\n",
       "      <th>lat</th>\n",
       "      <th>-32.490089</th>\n",
       "      <th>-31.888645</th>\n",
       "      <th>-31.814231</th>\n",
       "      <th>-31.665732</th>\n",
       "      <th>-31.469394</th>\n",
       "      <th>-31.438364</th>\n",
       "      <th>-31.416559</th>\n",
       "      <th>-31.414525</th>\n",
       "      <th>-31.412418</th>\n",
       "      <th>-31.354671</th>\n",
       "      <th>...</th>\n",
       "      <th>-22.713167</th>\n",
       "      <th>-22.708496</th>\n",
       "      <th>-22.672229</th>\n",
       "      <th>-22.605472</th>\n",
       "      <th>-22.499977</th>\n",
       "      <th>-22.405593</th>\n",
       "      <th>-22.382846</th>\n",
       "      <th>-22.340825</th>\n",
       "      <th>-22.337394</th>\n",
       "      <th>-22.331267</th>\n",
       "    </tr>\n",
       "    <tr>\n",
       "      <th>ward</th>\n",
       "      <th></th>\n",
       "      <th></th>\n",
       "      <th></th>\n",
       "      <th></th>\n",
       "      <th></th>\n",
       "      <th></th>\n",
       "      <th></th>\n",
       "      <th></th>\n",
       "      <th></th>\n",
       "      <th></th>\n",
       "      <th></th>\n",
       "      <th></th>\n",
       "      <th></th>\n",
       "      <th></th>\n",
       "      <th></th>\n",
       "      <th></th>\n",
       "      <th></th>\n",
       "      <th></th>\n",
       "      <th></th>\n",
       "      <th></th>\n",
       "      <th></th>\n",
       "    </tr>\n",
       "  </thead>\n",
       "  <tbody>\n",
       "    <tr>\n",
       "      <td>30601001: Ward 1</td>\n",
       "      <td>0</td>\n",
       "      <td>0</td>\n",
       "      <td>0</td>\n",
       "      <td>0</td>\n",
       "      <td>0</td>\n",
       "      <td>0</td>\n",
       "      <td>0</td>\n",
       "      <td>0</td>\n",
       "      <td>0</td>\n",
       "      <td>0</td>\n",
       "      <td>...</td>\n",
       "      <td>0</td>\n",
       "      <td>0</td>\n",
       "      <td>0</td>\n",
       "      <td>0</td>\n",
       "      <td>0</td>\n",
       "      <td>0</td>\n",
       "      <td>0</td>\n",
       "      <td>0</td>\n",
       "      <td>0</td>\n",
       "      <td>0</td>\n",
       "    </tr>\n",
       "    <tr>\n",
       "      <td>30601002: Ward 2</td>\n",
       "      <td>0</td>\n",
       "      <td>0</td>\n",
       "      <td>0</td>\n",
       "      <td>0</td>\n",
       "      <td>0</td>\n",
       "      <td>0</td>\n",
       "      <td>0</td>\n",
       "      <td>0</td>\n",
       "      <td>0</td>\n",
       "      <td>0</td>\n",
       "      <td>...</td>\n",
       "      <td>0</td>\n",
       "      <td>0</td>\n",
       "      <td>0</td>\n",
       "      <td>0</td>\n",
       "      <td>0</td>\n",
       "      <td>0</td>\n",
       "      <td>0</td>\n",
       "      <td>0</td>\n",
       "      <td>0</td>\n",
       "      <td>0</td>\n",
       "    </tr>\n",
       "    <tr>\n",
       "      <td>30601003: Ward 3</td>\n",
       "      <td>0</td>\n",
       "      <td>0</td>\n",
       "      <td>0</td>\n",
       "      <td>0</td>\n",
       "      <td>0</td>\n",
       "      <td>0</td>\n",
       "      <td>0</td>\n",
       "      <td>0</td>\n",
       "      <td>0</td>\n",
       "      <td>0</td>\n",
       "      <td>...</td>\n",
       "      <td>0</td>\n",
       "      <td>0</td>\n",
       "      <td>0</td>\n",
       "      <td>0</td>\n",
       "      <td>0</td>\n",
       "      <td>0</td>\n",
       "      <td>0</td>\n",
       "      <td>0</td>\n",
       "      <td>0</td>\n",
       "      <td>0</td>\n",
       "    </tr>\n",
       "    <tr>\n",
       "      <td>30601004: Ward 4</td>\n",
       "      <td>0</td>\n",
       "      <td>0</td>\n",
       "      <td>0</td>\n",
       "      <td>0</td>\n",
       "      <td>0</td>\n",
       "      <td>0</td>\n",
       "      <td>0</td>\n",
       "      <td>0</td>\n",
       "      <td>0</td>\n",
       "      <td>0</td>\n",
       "      <td>...</td>\n",
       "      <td>0</td>\n",
       "      <td>0</td>\n",
       "      <td>0</td>\n",
       "      <td>0</td>\n",
       "      <td>0</td>\n",
       "      <td>0</td>\n",
       "      <td>0</td>\n",
       "      <td>0</td>\n",
       "      <td>0</td>\n",
       "      <td>0</td>\n",
       "    </tr>\n",
       "    <tr>\n",
       "      <td>30602001: Ward 1</td>\n",
       "      <td>0</td>\n",
       "      <td>0</td>\n",
       "      <td>0</td>\n",
       "      <td>0</td>\n",
       "      <td>0</td>\n",
       "      <td>0</td>\n",
       "      <td>0</td>\n",
       "      <td>0</td>\n",
       "      <td>0</td>\n",
       "      <td>0</td>\n",
       "      <td>...</td>\n",
       "      <td>0</td>\n",
       "      <td>0</td>\n",
       "      <td>0</td>\n",
       "      <td>0</td>\n",
       "      <td>0</td>\n",
       "      <td>0</td>\n",
       "      <td>0</td>\n",
       "      <td>0</td>\n",
       "      <td>0</td>\n",
       "      <td>0</td>\n",
       "    </tr>\n",
       "    <tr>\n",
       "      <td>...</td>\n",
       "      <td>...</td>\n",
       "      <td>...</td>\n",
       "      <td>...</td>\n",
       "      <td>...</td>\n",
       "      <td>...</td>\n",
       "      <td>...</td>\n",
       "      <td>...</td>\n",
       "      <td>...</td>\n",
       "      <td>...</td>\n",
       "      <td>...</td>\n",
       "      <td>...</td>\n",
       "      <td>...</td>\n",
       "      <td>...</td>\n",
       "      <td>...</td>\n",
       "      <td>...</td>\n",
       "      <td>...</td>\n",
       "      <td>...</td>\n",
       "      <td>...</td>\n",
       "      <td>...</td>\n",
       "      <td>...</td>\n",
       "      <td>...</td>\n",
       "    </tr>\n",
       "    <tr>\n",
       "      <td>94703027: Ward 27</td>\n",
       "      <td>0</td>\n",
       "      <td>0</td>\n",
       "      <td>0</td>\n",
       "      <td>0</td>\n",
       "      <td>0</td>\n",
       "      <td>0</td>\n",
       "      <td>0</td>\n",
       "      <td>0</td>\n",
       "      <td>0</td>\n",
       "      <td>0</td>\n",
       "      <td>...</td>\n",
       "      <td>0</td>\n",
       "      <td>0</td>\n",
       "      <td>0</td>\n",
       "      <td>0</td>\n",
       "      <td>0</td>\n",
       "      <td>0</td>\n",
       "      <td>0</td>\n",
       "      <td>0</td>\n",
       "      <td>0</td>\n",
       "      <td>0</td>\n",
       "    </tr>\n",
       "    <tr>\n",
       "      <td>94703028: Ward 28</td>\n",
       "      <td>0</td>\n",
       "      <td>0</td>\n",
       "      <td>0</td>\n",
       "      <td>0</td>\n",
       "      <td>0</td>\n",
       "      <td>0</td>\n",
       "      <td>0</td>\n",
       "      <td>0</td>\n",
       "      <td>0</td>\n",
       "      <td>0</td>\n",
       "      <td>...</td>\n",
       "      <td>0</td>\n",
       "      <td>0</td>\n",
       "      <td>0</td>\n",
       "      <td>0</td>\n",
       "      <td>0</td>\n",
       "      <td>0</td>\n",
       "      <td>0</td>\n",
       "      <td>0</td>\n",
       "      <td>0</td>\n",
       "      <td>0</td>\n",
       "    </tr>\n",
       "    <tr>\n",
       "      <td>94703029: Ward 29</td>\n",
       "      <td>0</td>\n",
       "      <td>0</td>\n",
       "      <td>0</td>\n",
       "      <td>0</td>\n",
       "      <td>0</td>\n",
       "      <td>0</td>\n",
       "      <td>0</td>\n",
       "      <td>0</td>\n",
       "      <td>0</td>\n",
       "      <td>0</td>\n",
       "      <td>...</td>\n",
       "      <td>0</td>\n",
       "      <td>0</td>\n",
       "      <td>0</td>\n",
       "      <td>0</td>\n",
       "      <td>0</td>\n",
       "      <td>0</td>\n",
       "      <td>0</td>\n",
       "      <td>0</td>\n",
       "      <td>0</td>\n",
       "      <td>0</td>\n",
       "    </tr>\n",
       "    <tr>\n",
       "      <td>94703030: Ward 30</td>\n",
       "      <td>0</td>\n",
       "      <td>0</td>\n",
       "      <td>0</td>\n",
       "      <td>0</td>\n",
       "      <td>0</td>\n",
       "      <td>0</td>\n",
       "      <td>0</td>\n",
       "      <td>0</td>\n",
       "      <td>0</td>\n",
       "      <td>0</td>\n",
       "      <td>...</td>\n",
       "      <td>0</td>\n",
       "      <td>0</td>\n",
       "      <td>0</td>\n",
       "      <td>0</td>\n",
       "      <td>0</td>\n",
       "      <td>0</td>\n",
       "      <td>0</td>\n",
       "      <td>0</td>\n",
       "      <td>0</td>\n",
       "      <td>0</td>\n",
       "    </tr>\n",
       "    <tr>\n",
       "      <td>94703031: Ward 31</td>\n",
       "      <td>0</td>\n",
       "      <td>0</td>\n",
       "      <td>0</td>\n",
       "      <td>0</td>\n",
       "      <td>0</td>\n",
       "      <td>0</td>\n",
       "      <td>0</td>\n",
       "      <td>0</td>\n",
       "      <td>0</td>\n",
       "      <td>0</td>\n",
       "      <td>...</td>\n",
       "      <td>0</td>\n",
       "      <td>0</td>\n",
       "      <td>0</td>\n",
       "      <td>0</td>\n",
       "      <td>0</td>\n",
       "      <td>0</td>\n",
       "      <td>0</td>\n",
       "      <td>0</td>\n",
       "      <td>0</td>\n",
       "      <td>0</td>\n",
       "    </tr>\n",
       "  </tbody>\n",
       "</table>\n",
       "<p>2822 rows × 2822 columns</p>\n",
       "</div>"
      ],
      "text/plain": [
       "lat                -32.490089  -31.888645  -31.814231  -31.665732  -31.469394  \\\n",
       "ward                                                                            \n",
       "30601001: Ward 1            0           0           0           0           0   \n",
       "30601002: Ward 2            0           0           0           0           0   \n",
       "30601003: Ward 3            0           0           0           0           0   \n",
       "30601004: Ward 4            0           0           0           0           0   \n",
       "30602001: Ward 1            0           0           0           0           0   \n",
       "...                       ...         ...         ...         ...         ...   \n",
       "94703027: Ward 27           0           0           0           0           0   \n",
       "94703028: Ward 28           0           0           0           0           0   \n",
       "94703029: Ward 29           0           0           0           0           0   \n",
       "94703030: Ward 30           0           0           0           0           0   \n",
       "94703031: Ward 31           0           0           0           0           0   \n",
       "\n",
       "lat                -31.438364  -31.416559  -31.414525  -31.412418  -31.354671  \\\n",
       "ward                                                                            \n",
       "30601001: Ward 1            0           0           0           0           0   \n",
       "30601002: Ward 2            0           0           0           0           0   \n",
       "30601003: Ward 3            0           0           0           0           0   \n",
       "30601004: Ward 4            0           0           0           0           0   \n",
       "30602001: Ward 1            0           0           0           0           0   \n",
       "...                       ...         ...         ...         ...         ...   \n",
       "94703027: Ward 27           0           0           0           0           0   \n",
       "94703028: Ward 28           0           0           0           0           0   \n",
       "94703029: Ward 29           0           0           0           0           0   \n",
       "94703030: Ward 30           0           0           0           0           0   \n",
       "94703031: Ward 31           0           0           0           0           0   \n",
       "\n",
       "lat                ...  -22.713167  -22.708496  -22.672229  -22.605472  \\\n",
       "ward               ...                                                   \n",
       "30601001: Ward 1   ...           0           0           0           0   \n",
       "30601002: Ward 2   ...           0           0           0           0   \n",
       "30601003: Ward 3   ...           0           0           0           0   \n",
       "30601004: Ward 4   ...           0           0           0           0   \n",
       "30602001: Ward 1   ...           0           0           0           0   \n",
       "...                ...         ...         ...         ...         ...   \n",
       "94703027: Ward 27  ...           0           0           0           0   \n",
       "94703028: Ward 28  ...           0           0           0           0   \n",
       "94703029: Ward 29  ...           0           0           0           0   \n",
       "94703030: Ward 30  ...           0           0           0           0   \n",
       "94703031: Ward 31  ...           0           0           0           0   \n",
       "\n",
       "lat                -22.499977  -22.405593  -22.382846  -22.340825  -22.337394  \\\n",
       "ward                                                                            \n",
       "30601001: Ward 1            0           0           0           0           0   \n",
       "30601002: Ward 2            0           0           0           0           0   \n",
       "30601003: Ward 3            0           0           0           0           0   \n",
       "30601004: Ward 4            0           0           0           0           0   \n",
       "30602001: Ward 1            0           0           0           0           0   \n",
       "...                       ...         ...         ...         ...         ...   \n",
       "94703027: Ward 27           0           0           0           0           0   \n",
       "94703028: Ward 28           0           0           0           0           0   \n",
       "94703029: Ward 29           0           0           0           0           0   \n",
       "94703030: Ward 30           0           0           0           0           0   \n",
       "94703031: Ward 31           0           0           0           0           0   \n",
       "\n",
       "lat                -22.331267  \n",
       "ward                           \n",
       "30601001: Ward 1            0  \n",
       "30601002: Ward 2            0  \n",
       "30601003: Ward 3            0  \n",
       "30601004: Ward 4            0  \n",
       "30602001: Ward 1            0  \n",
       "...                       ...  \n",
       "94703027: Ward 27           0  \n",
       "94703028: Ward 28           0  \n",
       "94703029: Ward 29           0  \n",
       "94703030: Ward 30           0  \n",
       "94703031: Ward 31           0  \n",
       "\n",
       "[2822 rows x 2822 columns]"
      ]
     },
     "execution_count": 78,
     "metadata": {},
     "output_type": "execute_result"
    }
   ],
   "source": [
    "pd.crosstab(df.ward,df.lat)"
   ]
  },
  {
   "cell_type": "code",
   "execution_count": 83,
   "metadata": {},
   "outputs": [
    {
     "name": "stdout",
     "output_type": "stream",
     "text": [
      "The values in variable A: [11, 21, 31]\n",
      "The values in variable B: [12, 22, 32]\n",
      "The values in variable C: [13, 23, 33]\n"
     ]
    }
   ],
   "source": [
    "dict_ass = {'A':[11,21,31],'B':[12,22,32],'C':[13,23,33]}\n",
    "print('The values in variable A:',dict_ass['A'])\n",
    "print('The values in variable B:',dict_ass['B'])\n",
    "print('The values in variable C:',dict_ass['C'])"
   ]
  },
  {
   "cell_type": "code",
   "execution_count": 86,
   "metadata": {},
   "outputs": [
    {
     "data": {
      "text/html": [
       "<div>\n",
       "<style scoped>\n",
       "    .dataframe tbody tr th:only-of-type {\n",
       "        vertical-align: middle;\n",
       "    }\n",
       "\n",
       "    .dataframe tbody tr th {\n",
       "        vertical-align: top;\n",
       "    }\n",
       "\n",
       "    .dataframe thead th {\n",
       "        text-align: right;\n",
       "    }\n",
       "</style>\n",
       "<table border=\"1\" class=\"dataframe\">\n",
       "  <thead>\n",
       "    <tr style=\"text-align: right;\">\n",
       "      <th></th>\n",
       "      <th>A</th>\n",
       "      <th>B</th>\n",
       "      <th>C</th>\n",
       "    </tr>\n",
       "  </thead>\n",
       "  <tbody>\n",
       "    <tr>\n",
       "      <td>0</td>\n",
       "      <td>11</td>\n",
       "      <td>12</td>\n",
       "      <td>13</td>\n",
       "    </tr>\n",
       "    <tr>\n",
       "      <td>1</td>\n",
       "      <td>21</td>\n",
       "      <td>22</td>\n",
       "      <td>23</td>\n",
       "    </tr>\n",
       "    <tr>\n",
       "      <td>2</td>\n",
       "      <td>31</td>\n",
       "      <td>32</td>\n",
       "      <td>33</td>\n",
       "    </tr>\n",
       "  </tbody>\n",
       "</table>\n",
       "</div>"
      ],
      "text/plain": [
       "    A   B   C\n",
       "0  11  12  13\n",
       "1  21  22  23\n",
       "2  31  32  33"
      ]
     },
     "execution_count": 86,
     "metadata": {},
     "output_type": "execute_result"
    }
   ],
   "source": [
    "dfff=pd.DataFrame(dict_ass)\n",
    "dfff"
   ]
  },
  {
   "cell_type": "code",
   "execution_count": 88,
   "metadata": {},
   "outputs": [
    {
     "data": {
      "text/html": [
       "<div>\n",
       "<style scoped>\n",
       "    .dataframe tbody tr th:only-of-type {\n",
       "        vertical-align: middle;\n",
       "    }\n",
       "\n",
       "    .dataframe tbody tr th {\n",
       "        vertical-align: top;\n",
       "    }\n",
       "\n",
       "    .dataframe thead th {\n",
       "        text-align: right;\n",
       "    }\n",
       "</style>\n",
       "<table border=\"1\" class=\"dataframe\">\n",
       "  <thead>\n",
       "    <tr style=\"text-align: right;\">\n",
       "      <th></th>\n",
       "      <th>A</th>\n",
       "      <th>B</th>\n",
       "      <th>C</th>\n",
       "    </tr>\n",
       "  </thead>\n",
       "  <tbody>\n",
       "    <tr>\n",
       "      <td>ade</td>\n",
       "      <td>11</td>\n",
       "      <td>12</td>\n",
       "      <td>13</td>\n",
       "    </tr>\n",
       "    <tr>\n",
       "      <td>aisha</td>\n",
       "      <td>21</td>\n",
       "      <td>22</td>\n",
       "      <td>23</td>\n",
       "    </tr>\n",
       "    <tr>\n",
       "      <td>rajja</td>\n",
       "      <td>31</td>\n",
       "      <td>32</td>\n",
       "      <td>33</td>\n",
       "    </tr>\n",
       "  </tbody>\n",
       "</table>\n",
       "</div>"
      ],
      "text/plain": [
       "        A   B   C\n",
       "ade    11  12  13\n",
       "aisha  21  22  23\n",
       "rajja  31  32  33"
      ]
     },
     "execution_count": 88,
     "metadata": {},
     "output_type": "execute_result"
    }
   ],
   "source": [
    "dfff=pd.DataFrame(dict_ass,index=['ade','aisha','rajja']) #Adding index 'ade','aisha','rajja'\n",
    "dfff"
   ]
  },
  {
   "cell_type": "code",
   "execution_count": 84,
   "metadata": {},
   "outputs": [],
   "source": [
    "dff = pd.DataFrame({'A':[11,21,31],'B':[12,22,32],'C':[13,23,33]},index=['ONE','TWO','THREE'])"
   ]
  },
  {
   "cell_type": "code",
   "execution_count": 85,
   "metadata": {},
   "outputs": [
    {
     "data": {
      "text/html": [
       "<div>\n",
       "<style scoped>\n",
       "    .dataframe tbody tr th:only-of-type {\n",
       "        vertical-align: middle;\n",
       "    }\n",
       "\n",
       "    .dataframe tbody tr th {\n",
       "        vertical-align: top;\n",
       "    }\n",
       "\n",
       "    .dataframe thead th {\n",
       "        text-align: right;\n",
       "    }\n",
       "</style>\n",
       "<table border=\"1\" class=\"dataframe\">\n",
       "  <thead>\n",
       "    <tr style=\"text-align: right;\">\n",
       "      <th></th>\n",
       "      <th>A</th>\n",
       "      <th>B</th>\n",
       "      <th>C</th>\n",
       "    </tr>\n",
       "  </thead>\n",
       "  <tbody>\n",
       "    <tr>\n",
       "      <td>ONE</td>\n",
       "      <td>11</td>\n",
       "      <td>12</td>\n",
       "      <td>13</td>\n",
       "    </tr>\n",
       "    <tr>\n",
       "      <td>TWO</td>\n",
       "      <td>21</td>\n",
       "      <td>22</td>\n",
       "      <td>23</td>\n",
       "    </tr>\n",
       "    <tr>\n",
       "      <td>THREE</td>\n",
       "      <td>31</td>\n",
       "      <td>32</td>\n",
       "      <td>33</td>\n",
       "    </tr>\n",
       "  </tbody>\n",
       "</table>\n",
       "</div>"
      ],
      "text/plain": [
       "        A   B   C\n",
       "ONE    11  12  13\n",
       "TWO    21  22  23\n",
       "THREE  31  32  33"
      ]
     },
     "execution_count": 85,
     "metadata": {},
     "output_type": "execute_result"
    }
   ],
   "source": [
    "dff"
   ]
  },
  {
   "cell_type": "code",
   "execution_count": 89,
   "metadata": {},
   "outputs": [],
   "source": [
    "df.drop(['lat','lon'],axis=1, inplace=True)#axis=1 is used to delete lat$lon vertically while axis=0 is for horizontal"
   ]
  },
  {
   "cell_type": "code",
   "execution_count": 90,
   "metadata": {},
   "outputs": [
    {
     "data": {
      "text/plain": [
       "Index(['ward', 'total_households', 'total_individuals', 'target', 'dw_00',\n",
       "       'dw_01', 'dw_02', 'dw_03', 'dw_04', 'dw_05', 'dw_06', 'dw_07', 'dw_08',\n",
       "       'dw_09', 'dw_10', 'dw_11', 'dw_12', 'dw_13', 'psa_00', 'psa_01',\n",
       "       'psa_02', 'psa_03', 'psa_04', 'stv_00', 'stv_01', 'car_00', 'car_01',\n",
       "       'lln_00', 'lln_01', 'lan_00', 'lan_01', 'lan_02', 'lan_03', 'lan_04',\n",
       "       'lan_05', 'lan_06', 'lan_07', 'lan_08', 'lan_09', 'lan_10', 'lan_11',\n",
       "       'lan_12', 'lan_13', 'lan_14', 'pg_00', 'pg_01', 'pg_02', 'pg_03',\n",
       "       'pg_04', 'lgt_00', 'pw_00', 'pw_01', 'pw_02', 'pw_03', 'pw_04', 'pw_05',\n",
       "       'pw_06', 'pw_07', 'pw_08', 'ADM4_PCODE', 'NL'],\n",
       "      dtype='object')"
      ]
     },
     "execution_count": 90,
     "metadata": {},
     "output_type": "execute_result"
    }
   ],
   "source": [
    "df.columns"
   ]
  },
  {
   "cell_type": "code",
   "execution_count": 94,
   "metadata": {},
   "outputs": [],
   "source": [
    "df.drop('ADM4_PCODE', axis=1, inplace=True)"
   ]
  },
  {
   "cell_type": "code",
   "execution_count": 95,
   "metadata": {},
   "outputs": [
    {
     "data": {
      "text/plain": [
       "Index(['ward', 'total_households', 'total_individuals', 'target', 'dw_00',\n",
       "       'dw_01', 'dw_02', 'dw_03', 'dw_04', 'dw_05', 'dw_06', 'dw_07', 'dw_08',\n",
       "       'dw_09', 'dw_10', 'dw_11', 'dw_12', 'dw_13', 'psa_00', 'psa_01',\n",
       "       'psa_02', 'psa_03', 'psa_04', 'stv_00', 'stv_01', 'car_00', 'car_01',\n",
       "       'lln_00', 'lln_01', 'lan_00', 'lan_01', 'lan_02', 'lan_03', 'lan_04',\n",
       "       'lan_05', 'lan_06', 'lan_07', 'lan_08', 'lan_09', 'lan_10', 'lan_11',\n",
       "       'lan_12', 'lan_13', 'lan_14', 'pg_00', 'pg_01', 'pg_02', 'pg_03',\n",
       "       'pg_04', 'lgt_00', 'pw_00', 'pw_01', 'pw_02', 'pw_03', 'pw_04', 'pw_05',\n",
       "       'pw_06', 'pw_07', 'pw_08', 'NL'],\n",
       "      dtype='object')"
      ]
     },
     "execution_count": 95,
     "metadata": {},
     "output_type": "execute_result"
    }
   ],
   "source": [
    "df.columns"
   ]
  },
  {
   "cell_type": "code",
   "execution_count": null,
   "metadata": {},
   "outputs": [],
   "source": [
    "#All pandas methods/operations.\n",
    "# State briefly at least one usefulness of each methods/operations."
   ]
  }
 ],
 "metadata": {
  "kernelspec": {
   "display_name": "Python 3",
   "language": "python",
   "name": "python3"
  },
  "language_info": {
   "codemirror_mode": {
    "name": "ipython",
    "version": 3
   },
   "file_extension": ".py",
   "mimetype": "text/x-python",
   "name": "python",
   "nbconvert_exporter": "python",
   "pygments_lexer": "ipython3",
   "version": "3.7.4"
  }
 },
 "nbformat": 4,
 "nbformat_minor": 2
}
